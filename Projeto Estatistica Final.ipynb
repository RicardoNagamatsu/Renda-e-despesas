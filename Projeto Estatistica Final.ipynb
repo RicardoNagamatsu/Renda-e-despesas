{
 "cells": [
  {
   "cell_type": "markdown",
   "metadata": {},
   "source": [
    "A Autoridade De Estatística das Filipinas (PSA) lidera a realização da Pesquisa de Renda e Despesa Familiar (FIES) em todo o país. A pesquisa, realizada a cada 3 (três) anos, tem como objetivo fornecer dados sobre renda e despesas familiares, incluindo, entre outros, níveis de consumo por item de despesa, fontes de renda em dinheiro e informações relacionadas que afetam a renda e níveis de despesas e padrões nas Filipinas. Dessa forma, pede-se que seja elaborado um relatório prévio com insights e análise de dados por parte de um cientista de dados."
   ]
  },
  {
   "cell_type": "code",
   "execution_count": 203,
   "metadata": {},
   "outputs": [],
   "source": [
    "import numpy as np\n",
    "import pandas as pd\n",
    "import matplotlib.pyplot as plt\n",
    "import seaborn as sns\n",
    "\n",
    "%matplotlib inline\n",
    "\n",
    "plt.style.use('ggplot')\n",
    "sns.set()"
   ]
  },
  {
   "cell_type": "code",
   "execution_count": 204,
   "metadata": {},
   "outputs": [
    {
     "data": {
      "text/html": [
       "<div>\n",
       "<style scoped>\n",
       "    .dataframe tbody tr th:only-of-type {\n",
       "        vertical-align: middle;\n",
       "    }\n",
       "\n",
       "    .dataframe tbody tr th {\n",
       "        vertical-align: top;\n",
       "    }\n",
       "\n",
       "    .dataframe thead th {\n",
       "        text-align: right;\n",
       "    }\n",
       "</style>\n",
       "<table border=\"1\" class=\"dataframe\">\n",
       "  <thead>\n",
       "    <tr style=\"text-align: right;\">\n",
       "      <th></th>\n",
       "      <th>Total Household Income</th>\n",
       "      <th>Region</th>\n",
       "      <th>Total Food Expenditure</th>\n",
       "      <th>Main Source of Income</th>\n",
       "      <th>Agricultural Household indicator</th>\n",
       "      <th>Bread and Cereals Expenditure</th>\n",
       "      <th>Total Rice Expenditure</th>\n",
       "      <th>Meat Expenditure</th>\n",
       "      <th>Total Fish and  marine products Expenditure</th>\n",
       "      <th>Fruit Expenditure</th>\n",
       "      <th>...</th>\n",
       "      <th>Number of Refrigerator/Freezer</th>\n",
       "      <th>Number of Washing Machine</th>\n",
       "      <th>Number of Airconditioner</th>\n",
       "      <th>Number of Car, Jeep, Van</th>\n",
       "      <th>Number of Landline/wireless telephones</th>\n",
       "      <th>Number of Cellular phone</th>\n",
       "      <th>Number of Personal Computer</th>\n",
       "      <th>Number of Stove with Oven/Gas Range</th>\n",
       "      <th>Number of Motorized Banca</th>\n",
       "      <th>Number of Motorcycle/Tricycle</th>\n",
       "    </tr>\n",
       "  </thead>\n",
       "  <tbody>\n",
       "    <tr>\n",
       "      <td>0</td>\n",
       "      <td>480332</td>\n",
       "      <td>CAR</td>\n",
       "      <td>117848</td>\n",
       "      <td>Wage/Salaries</td>\n",
       "      <td>0</td>\n",
       "      <td>42140</td>\n",
       "      <td>38300</td>\n",
       "      <td>24676</td>\n",
       "      <td>16806</td>\n",
       "      <td>3325</td>\n",
       "      <td>...</td>\n",
       "      <td>1</td>\n",
       "      <td>1</td>\n",
       "      <td>0</td>\n",
       "      <td>0</td>\n",
       "      <td>0</td>\n",
       "      <td>2</td>\n",
       "      <td>1</td>\n",
       "      <td>0</td>\n",
       "      <td>0</td>\n",
       "      <td>1</td>\n",
       "    </tr>\n",
       "    <tr>\n",
       "      <td>1</td>\n",
       "      <td>198235</td>\n",
       "      <td>CAR</td>\n",
       "      <td>67766</td>\n",
       "      <td>Wage/Salaries</td>\n",
       "      <td>0</td>\n",
       "      <td>17329</td>\n",
       "      <td>13008</td>\n",
       "      <td>17434</td>\n",
       "      <td>11073</td>\n",
       "      <td>2035</td>\n",
       "      <td>...</td>\n",
       "      <td>0</td>\n",
       "      <td>1</td>\n",
       "      <td>0</td>\n",
       "      <td>0</td>\n",
       "      <td>0</td>\n",
       "      <td>3</td>\n",
       "      <td>1</td>\n",
       "      <td>0</td>\n",
       "      <td>0</td>\n",
       "      <td>2</td>\n",
       "    </tr>\n",
       "    <tr>\n",
       "      <td>2</td>\n",
       "      <td>82785</td>\n",
       "      <td>CAR</td>\n",
       "      <td>61609</td>\n",
       "      <td>Wage/Salaries</td>\n",
       "      <td>1</td>\n",
       "      <td>34182</td>\n",
       "      <td>32001</td>\n",
       "      <td>7783</td>\n",
       "      <td>2590</td>\n",
       "      <td>1730</td>\n",
       "      <td>...</td>\n",
       "      <td>0</td>\n",
       "      <td>0</td>\n",
       "      <td>0</td>\n",
       "      <td>0</td>\n",
       "      <td>0</td>\n",
       "      <td>0</td>\n",
       "      <td>0</td>\n",
       "      <td>0</td>\n",
       "      <td>0</td>\n",
       "      <td>0</td>\n",
       "    </tr>\n",
       "    <tr>\n",
       "      <td>3</td>\n",
       "      <td>107589</td>\n",
       "      <td>CAR</td>\n",
       "      <td>78189</td>\n",
       "      <td>Wage/Salaries</td>\n",
       "      <td>0</td>\n",
       "      <td>34030</td>\n",
       "      <td>28659</td>\n",
       "      <td>10914</td>\n",
       "      <td>10812</td>\n",
       "      <td>690</td>\n",
       "      <td>...</td>\n",
       "      <td>0</td>\n",
       "      <td>0</td>\n",
       "      <td>0</td>\n",
       "      <td>0</td>\n",
       "      <td>0</td>\n",
       "      <td>1</td>\n",
       "      <td>0</td>\n",
       "      <td>0</td>\n",
       "      <td>0</td>\n",
       "      <td>0</td>\n",
       "    </tr>\n",
       "    <tr>\n",
       "      <td>4</td>\n",
       "      <td>189322</td>\n",
       "      <td>CAR</td>\n",
       "      <td>94625</td>\n",
       "      <td>Wage/Salaries</td>\n",
       "      <td>0</td>\n",
       "      <td>34820</td>\n",
       "      <td>30167</td>\n",
       "      <td>18391</td>\n",
       "      <td>11309</td>\n",
       "      <td>1395</td>\n",
       "      <td>...</td>\n",
       "      <td>1</td>\n",
       "      <td>0</td>\n",
       "      <td>0</td>\n",
       "      <td>0</td>\n",
       "      <td>0</td>\n",
       "      <td>3</td>\n",
       "      <td>0</td>\n",
       "      <td>0</td>\n",
       "      <td>0</td>\n",
       "      <td>1</td>\n",
       "    </tr>\n",
       "  </tbody>\n",
       "</table>\n",
       "<p>5 rows × 60 columns</p>\n",
       "</div>"
      ],
      "text/plain": [
       "   Total Household Income Region  Total Food Expenditure  \\\n",
       "0                  480332    CAR                  117848   \n",
       "1                  198235    CAR                   67766   \n",
       "2                   82785    CAR                   61609   \n",
       "3                  107589    CAR                   78189   \n",
       "4                  189322    CAR                   94625   \n",
       "\n",
       "  Main Source of Income  Agricultural Household indicator  \\\n",
       "0         Wage/Salaries                                 0   \n",
       "1         Wage/Salaries                                 0   \n",
       "2         Wage/Salaries                                 1   \n",
       "3         Wage/Salaries                                 0   \n",
       "4         Wage/Salaries                                 0   \n",
       "\n",
       "   Bread and Cereals Expenditure  Total Rice Expenditure  Meat Expenditure  \\\n",
       "0                          42140                   38300             24676   \n",
       "1                          17329                   13008             17434   \n",
       "2                          34182                   32001              7783   \n",
       "3                          34030                   28659             10914   \n",
       "4                          34820                   30167             18391   \n",
       "\n",
       "   Total Fish and  marine products Expenditure  Fruit Expenditure  ...  \\\n",
       "0                                        16806               3325  ...   \n",
       "1                                        11073               2035  ...   \n",
       "2                                         2590               1730  ...   \n",
       "3                                        10812                690  ...   \n",
       "4                                        11309               1395  ...   \n",
       "\n",
       "   Number of Refrigerator/Freezer  Number of Washing Machine  \\\n",
       "0                               1                          1   \n",
       "1                               0                          1   \n",
       "2                               0                          0   \n",
       "3                               0                          0   \n",
       "4                               1                          0   \n",
       "\n",
       "   Number of Airconditioner  Number of Car, Jeep, Van  \\\n",
       "0                         0                         0   \n",
       "1                         0                         0   \n",
       "2                         0                         0   \n",
       "3                         0                         0   \n",
       "4                         0                         0   \n",
       "\n",
       "   Number of Landline/wireless telephones  Number of Cellular phone  \\\n",
       "0                                       0                         2   \n",
       "1                                       0                         3   \n",
       "2                                       0                         0   \n",
       "3                                       0                         1   \n",
       "4                                       0                         3   \n",
       "\n",
       "   Number of Personal Computer  Number of Stove with Oven/Gas Range  \\\n",
       "0                            1                                    0   \n",
       "1                            1                                    0   \n",
       "2                            0                                    0   \n",
       "3                            0                                    0   \n",
       "4                            0                                    0   \n",
       "\n",
       "   Number of Motorized Banca  Number of Motorcycle/Tricycle  \n",
       "0                          0                              1  \n",
       "1                          0                              2  \n",
       "2                          0                              0  \n",
       "3                          0                              0  \n",
       "4                          0                              1  \n",
       "\n",
       "[5 rows x 60 columns]"
      ]
     },
     "execution_count": 204,
     "metadata": {},
     "output_type": "execute_result"
    }
   ],
   "source": [
    "# Carregando dataframe e verificando conteúdo\n",
    "df = pd.read_csv('Family Income and Expenditure.csv')\n",
    "df.head()"
   ]
  },
  {
   "cell_type": "code",
   "execution_count": 3,
   "metadata": {},
   "outputs": [
    {
     "data": {
      "text/plain": [
       "(41544, 60)"
      ]
     },
     "execution_count": 3,
     "metadata": {},
     "output_type": "execute_result"
    }
   ],
   "source": [
    "# Verificando tamanho do dataframe\n",
    "df.shape"
   ]
  },
  {
   "cell_type": "code",
   "execution_count": 4,
   "metadata": {},
   "outputs": [
    {
     "name": "stdout",
     "output_type": "stream",
     "text": [
      "<class 'pandas.core.frame.DataFrame'>\n",
      "RangeIndex: 41544 entries, 0 to 41543\n",
      "Data columns (total 60 columns):\n",
      "Total Household Income                           41544 non-null int64\n",
      "Region                                           41544 non-null object\n",
      "Total Food Expenditure                           41544 non-null int64\n",
      "Main Source of Income                            41544 non-null object\n",
      "Agricultural Household indicator                 41544 non-null int64\n",
      "Bread and Cereals Expenditure                    41544 non-null int64\n",
      "Total Rice Expenditure                           41544 non-null int64\n",
      "Meat Expenditure                                 41544 non-null int64\n",
      "Total Fish and  marine products Expenditure      41544 non-null int64\n",
      "Fruit Expenditure                                41544 non-null int64\n",
      "Vegetables Expenditure                           41544 non-null int64\n",
      "Restaurant and hotels Expenditure                41544 non-null int64\n",
      "Alcoholic Beverages Expenditure                  41544 non-null int64\n",
      "Tobacco Expenditure                              41544 non-null int64\n",
      "Clothing, Footwear and Other Wear Expenditure    41544 non-null int64\n",
      "Housing and water Expenditure                    41544 non-null int64\n",
      "Imputed House Rental Value                       41544 non-null int64\n",
      "Medical Care Expenditure                         41544 non-null int64\n",
      "Transportation Expenditure                       41544 non-null int64\n",
      "Communication Expenditure                        41544 non-null int64\n",
      "Education Expenditure                            41544 non-null int64\n",
      "Miscellaneous Goods and Services Expenditure     41544 non-null int64\n",
      "Special Occasions Expenditure                    41544 non-null int64\n",
      "Crop Farming and Gardening expenses              41544 non-null int64\n",
      "Total Income from Entrepreneurial Acitivites     41544 non-null int64\n",
      "Household Head Sex                               41544 non-null object\n",
      "Household Head Age                               41544 non-null int64\n",
      "Household Head Marital Status                    41544 non-null object\n",
      "Household Head Highest Grade Completed           41544 non-null object\n",
      "Household Head Job or Business Indicator         41544 non-null object\n",
      "Household Head Occupation                        34008 non-null object\n",
      "Household Head Class of Worker                   34008 non-null object\n",
      "Type of Household                                41544 non-null object\n",
      "Total Number of Family members                   41544 non-null int64\n",
      "Members with age less than 5 year old            41544 non-null int64\n",
      "Members with age 5 - 17 years old                41544 non-null int64\n",
      "Total number of family members employed          41544 non-null int64\n",
      "Type of Building/House                           41544 non-null object\n",
      "Type of Roof                                     41544 non-null object\n",
      "Type of Walls                                    41544 non-null object\n",
      "House Floor Area                                 41544 non-null int64\n",
      "House Age                                        41544 non-null int64\n",
      "Number of bedrooms                               41544 non-null int64\n",
      "Tenure Status                                    41544 non-null object\n",
      "Toilet Facilities                                41544 non-null object\n",
      "Electricity                                      41544 non-null int64\n",
      "Main Source of Water Supply                      41544 non-null object\n",
      "Number of Television                             41544 non-null int64\n",
      "Number of CD/VCD/DVD                             41544 non-null int64\n",
      "Number of Component/Stereo set                   41544 non-null int64\n",
      "Number of Refrigerator/Freezer                   41544 non-null int64\n",
      "Number of Washing Machine                        41544 non-null int64\n",
      "Number of Airconditioner                         41544 non-null int64\n",
      "Number of Car, Jeep, Van                         41544 non-null int64\n",
      "Number of Landline/wireless telephones           41544 non-null int64\n",
      "Number of Cellular phone                         41544 non-null int64\n",
      "Number of Personal Computer                      41544 non-null int64\n",
      "Number of Stove with Oven/Gas Range              41544 non-null int64\n",
      "Number of Motorized Banca                        41544 non-null int64\n",
      "Number of Motorcycle/Tricycle                    41544 non-null int64\n",
      "dtypes: int64(45), object(15)\n",
      "memory usage: 19.0+ MB\n"
     ]
    }
   ],
   "source": [
    "# Verificando colunas\n",
    "df.info()"
   ]
  },
  {
   "cell_type": "code",
   "execution_count": 5,
   "metadata": {},
   "outputs": [
    {
     "data": {
      "text/html": [
       "<div>\n",
       "<style scoped>\n",
       "    .dataframe tbody tr th:only-of-type {\n",
       "        vertical-align: middle;\n",
       "    }\n",
       "\n",
       "    .dataframe tbody tr th {\n",
       "        vertical-align: top;\n",
       "    }\n",
       "\n",
       "    .dataframe thead th {\n",
       "        text-align: right;\n",
       "    }\n",
       "</style>\n",
       "<table border=\"1\" class=\"dataframe\">\n",
       "  <thead>\n",
       "    <tr style=\"text-align: right;\">\n",
       "      <th></th>\n",
       "      <th>Total Household Income</th>\n",
       "      <th>Total Food Expenditure</th>\n",
       "      <th>Agricultural Household indicator</th>\n",
       "      <th>Bread and Cereals Expenditure</th>\n",
       "      <th>Total Rice Expenditure</th>\n",
       "      <th>Meat Expenditure</th>\n",
       "      <th>Total Fish and  marine products Expenditure</th>\n",
       "      <th>Fruit Expenditure</th>\n",
       "      <th>Vegetables Expenditure</th>\n",
       "      <th>Restaurant and hotels Expenditure</th>\n",
       "      <th>...</th>\n",
       "      <th>Number of Refrigerator/Freezer</th>\n",
       "      <th>Number of Washing Machine</th>\n",
       "      <th>Number of Airconditioner</th>\n",
       "      <th>Number of Car, Jeep, Van</th>\n",
       "      <th>Number of Landline/wireless telephones</th>\n",
       "      <th>Number of Cellular phone</th>\n",
       "      <th>Number of Personal Computer</th>\n",
       "      <th>Number of Stove with Oven/Gas Range</th>\n",
       "      <th>Number of Motorized Banca</th>\n",
       "      <th>Number of Motorcycle/Tricycle</th>\n",
       "    </tr>\n",
       "  </thead>\n",
       "  <tbody>\n",
       "    <tr>\n",
       "      <td>count</td>\n",
       "      <td>4.154400e+04</td>\n",
       "      <td>41544.000000</td>\n",
       "      <td>41544.000000</td>\n",
       "      <td>41544.000000</td>\n",
       "      <td>41544.000000</td>\n",
       "      <td>41544.000000</td>\n",
       "      <td>41544.000000</td>\n",
       "      <td>41544.000000</td>\n",
       "      <td>41544.000000</td>\n",
       "      <td>41544.000000</td>\n",
       "      <td>...</td>\n",
       "      <td>41544.000000</td>\n",
       "      <td>41544.000000</td>\n",
       "      <td>41544.000000</td>\n",
       "      <td>41544.000000</td>\n",
       "      <td>41544.000000</td>\n",
       "      <td>41544.000000</td>\n",
       "      <td>41544.000000</td>\n",
       "      <td>41544.000000</td>\n",
       "      <td>41544.000000</td>\n",
       "      <td>41544.000000</td>\n",
       "    </tr>\n",
       "    <tr>\n",
       "      <td>mean</td>\n",
       "      <td>2.475556e+05</td>\n",
       "      <td>85099.158194</td>\n",
       "      <td>0.429858</td>\n",
       "      <td>25133.723642</td>\n",
       "      <td>18195.825005</td>\n",
       "      <td>10540.072574</td>\n",
       "      <td>10529.318337</td>\n",
       "      <td>2550.474990</td>\n",
       "      <td>5006.918568</td>\n",
       "      <td>15436.566075</td>\n",
       "      <td>...</td>\n",
       "      <td>0.394184</td>\n",
       "      <td>0.319806</td>\n",
       "      <td>0.129814</td>\n",
       "      <td>0.081215</td>\n",
       "      <td>0.060610</td>\n",
       "      <td>1.905738</td>\n",
       "      <td>0.315015</td>\n",
       "      <td>0.135038</td>\n",
       "      <td>0.013119</td>\n",
       "      <td>0.289885</td>\n",
       "    </tr>\n",
       "    <tr>\n",
       "      <td>std</td>\n",
       "      <td>2.868805e+05</td>\n",
       "      <td>51637.947682</td>\n",
       "      <td>0.676666</td>\n",
       "      <td>13466.482984</td>\n",
       "      <td>11727.224350</td>\n",
       "      <td>10497.727757</td>\n",
       "      <td>7812.201613</td>\n",
       "      <td>2969.752879</td>\n",
       "      <td>3300.175236</td>\n",
       "      <td>23705.195929</td>\n",
       "      <td>...</td>\n",
       "      <td>0.537025</td>\n",
       "      <td>0.478482</td>\n",
       "      <td>0.448673</td>\n",
       "      <td>0.346786</td>\n",
       "      <td>0.276732</td>\n",
       "      <td>1.558130</td>\n",
       "      <td>0.739698</td>\n",
       "      <td>0.354083</td>\n",
       "      <td>0.127171</td>\n",
       "      <td>0.558408</td>\n",
       "    </tr>\n",
       "    <tr>\n",
       "      <td>min</td>\n",
       "      <td>1.128500e+04</td>\n",
       "      <td>2947.000000</td>\n",
       "      <td>0.000000</td>\n",
       "      <td>0.000000</td>\n",
       "      <td>0.000000</td>\n",
       "      <td>0.000000</td>\n",
       "      <td>0.000000</td>\n",
       "      <td>0.000000</td>\n",
       "      <td>0.000000</td>\n",
       "      <td>0.000000</td>\n",
       "      <td>...</td>\n",
       "      <td>0.000000</td>\n",
       "      <td>0.000000</td>\n",
       "      <td>0.000000</td>\n",
       "      <td>0.000000</td>\n",
       "      <td>0.000000</td>\n",
       "      <td>0.000000</td>\n",
       "      <td>0.000000</td>\n",
       "      <td>0.000000</td>\n",
       "      <td>0.000000</td>\n",
       "      <td>0.000000</td>\n",
       "    </tr>\n",
       "    <tr>\n",
       "      <td>25%</td>\n",
       "      <td>1.048950e+05</td>\n",
       "      <td>51017.250000</td>\n",
       "      <td>0.000000</td>\n",
       "      <td>16556.000000</td>\n",
       "      <td>11020.000000</td>\n",
       "      <td>3353.750000</td>\n",
       "      <td>5504.000000</td>\n",
       "      <td>1024.750000</td>\n",
       "      <td>2873.000000</td>\n",
       "      <td>1930.000000</td>\n",
       "      <td>...</td>\n",
       "      <td>0.000000</td>\n",
       "      <td>0.000000</td>\n",
       "      <td>0.000000</td>\n",
       "      <td>0.000000</td>\n",
       "      <td>0.000000</td>\n",
       "      <td>1.000000</td>\n",
       "      <td>0.000000</td>\n",
       "      <td>0.000000</td>\n",
       "      <td>0.000000</td>\n",
       "      <td>0.000000</td>\n",
       "    </tr>\n",
       "    <tr>\n",
       "      <td>50%</td>\n",
       "      <td>1.640795e+05</td>\n",
       "      <td>72985.500000</td>\n",
       "      <td>0.000000</td>\n",
       "      <td>23324.000000</td>\n",
       "      <td>16620.000000</td>\n",
       "      <td>7332.500000</td>\n",
       "      <td>8695.000000</td>\n",
       "      <td>1820.000000</td>\n",
       "      <td>4314.000000</td>\n",
       "      <td>7314.000000</td>\n",
       "      <td>...</td>\n",
       "      <td>0.000000</td>\n",
       "      <td>0.000000</td>\n",
       "      <td>0.000000</td>\n",
       "      <td>0.000000</td>\n",
       "      <td>0.000000</td>\n",
       "      <td>2.000000</td>\n",
       "      <td>0.000000</td>\n",
       "      <td>0.000000</td>\n",
       "      <td>0.000000</td>\n",
       "      <td>0.000000</td>\n",
       "    </tr>\n",
       "    <tr>\n",
       "      <td>75%</td>\n",
       "      <td>2.911385e+05</td>\n",
       "      <td>105635.500000</td>\n",
       "      <td>1.000000</td>\n",
       "      <td>31439.000000</td>\n",
       "      <td>23920.000000</td>\n",
       "      <td>14292.000000</td>\n",
       "      <td>13388.000000</td>\n",
       "      <td>3100.000000</td>\n",
       "      <td>6304.250000</td>\n",
       "      <td>19921.250000</td>\n",
       "      <td>...</td>\n",
       "      <td>1.000000</td>\n",
       "      <td>1.000000</td>\n",
       "      <td>0.000000</td>\n",
       "      <td>0.000000</td>\n",
       "      <td>0.000000</td>\n",
       "      <td>3.000000</td>\n",
       "      <td>0.000000</td>\n",
       "      <td>0.000000</td>\n",
       "      <td>0.000000</td>\n",
       "      <td>0.000000</td>\n",
       "    </tr>\n",
       "    <tr>\n",
       "      <td>max</td>\n",
       "      <td>1.181599e+07</td>\n",
       "      <td>827565.000000</td>\n",
       "      <td>2.000000</td>\n",
       "      <td>765864.000000</td>\n",
       "      <td>758326.000000</td>\n",
       "      <td>261566.000000</td>\n",
       "      <td>188208.000000</td>\n",
       "      <td>273769.000000</td>\n",
       "      <td>74800.000000</td>\n",
       "      <td>725296.000000</td>\n",
       "      <td>...</td>\n",
       "      <td>5.000000</td>\n",
       "      <td>3.000000</td>\n",
       "      <td>5.000000</td>\n",
       "      <td>5.000000</td>\n",
       "      <td>4.000000</td>\n",
       "      <td>10.000000</td>\n",
       "      <td>6.000000</td>\n",
       "      <td>3.000000</td>\n",
       "      <td>3.000000</td>\n",
       "      <td>5.000000</td>\n",
       "    </tr>\n",
       "  </tbody>\n",
       "</table>\n",
       "<p>8 rows × 45 columns</p>\n",
       "</div>"
      ],
      "text/plain": [
       "       Total Household Income  Total Food Expenditure  \\\n",
       "count            4.154400e+04            41544.000000   \n",
       "mean             2.475556e+05            85099.158194   \n",
       "std              2.868805e+05            51637.947682   \n",
       "min              1.128500e+04             2947.000000   \n",
       "25%              1.048950e+05            51017.250000   \n",
       "50%              1.640795e+05            72985.500000   \n",
       "75%              2.911385e+05           105635.500000   \n",
       "max              1.181599e+07           827565.000000   \n",
       "\n",
       "       Agricultural Household indicator  Bread and Cereals Expenditure  \\\n",
       "count                      41544.000000                   41544.000000   \n",
       "mean                           0.429858                   25133.723642   \n",
       "std                            0.676666                   13466.482984   \n",
       "min                            0.000000                       0.000000   \n",
       "25%                            0.000000                   16556.000000   \n",
       "50%                            0.000000                   23324.000000   \n",
       "75%                            1.000000                   31439.000000   \n",
       "max                            2.000000                  765864.000000   \n",
       "\n",
       "       Total Rice Expenditure  Meat Expenditure  \\\n",
       "count            41544.000000      41544.000000   \n",
       "mean             18195.825005      10540.072574   \n",
       "std              11727.224350      10497.727757   \n",
       "min                  0.000000          0.000000   \n",
       "25%              11020.000000       3353.750000   \n",
       "50%              16620.000000       7332.500000   \n",
       "75%              23920.000000      14292.000000   \n",
       "max             758326.000000     261566.000000   \n",
       "\n",
       "       Total Fish and  marine products Expenditure  Fruit Expenditure  \\\n",
       "count                                 41544.000000       41544.000000   \n",
       "mean                                  10529.318337        2550.474990   \n",
       "std                                    7812.201613        2969.752879   \n",
       "min                                       0.000000           0.000000   \n",
       "25%                                    5504.000000        1024.750000   \n",
       "50%                                    8695.000000        1820.000000   \n",
       "75%                                   13388.000000        3100.000000   \n",
       "max                                  188208.000000      273769.000000   \n",
       "\n",
       "       Vegetables Expenditure  Restaurant and hotels Expenditure  ...  \\\n",
       "count            41544.000000                       41544.000000  ...   \n",
       "mean              5006.918568                       15436.566075  ...   \n",
       "std               3300.175236                       23705.195929  ...   \n",
       "min                  0.000000                           0.000000  ...   \n",
       "25%               2873.000000                        1930.000000  ...   \n",
       "50%               4314.000000                        7314.000000  ...   \n",
       "75%               6304.250000                       19921.250000  ...   \n",
       "max              74800.000000                      725296.000000  ...   \n",
       "\n",
       "       Number of Refrigerator/Freezer  Number of Washing Machine  \\\n",
       "count                    41544.000000               41544.000000   \n",
       "mean                         0.394184                   0.319806   \n",
       "std                          0.537025                   0.478482   \n",
       "min                          0.000000                   0.000000   \n",
       "25%                          0.000000                   0.000000   \n",
       "50%                          0.000000                   0.000000   \n",
       "75%                          1.000000                   1.000000   \n",
       "max                          5.000000                   3.000000   \n",
       "\n",
       "       Number of Airconditioner  Number of Car, Jeep, Van  \\\n",
       "count              41544.000000              41544.000000   \n",
       "mean                   0.129814                  0.081215   \n",
       "std                    0.448673                  0.346786   \n",
       "min                    0.000000                  0.000000   \n",
       "25%                    0.000000                  0.000000   \n",
       "50%                    0.000000                  0.000000   \n",
       "75%                    0.000000                  0.000000   \n",
       "max                    5.000000                  5.000000   \n",
       "\n",
       "       Number of Landline/wireless telephones  Number of Cellular phone  \\\n",
       "count                            41544.000000              41544.000000   \n",
       "mean                                 0.060610                  1.905738   \n",
       "std                                  0.276732                  1.558130   \n",
       "min                                  0.000000                  0.000000   \n",
       "25%                                  0.000000                  1.000000   \n",
       "50%                                  0.000000                  2.000000   \n",
       "75%                                  0.000000                  3.000000   \n",
       "max                                  4.000000                 10.000000   \n",
       "\n",
       "       Number of Personal Computer  Number of Stove with Oven/Gas Range  \\\n",
       "count                 41544.000000                         41544.000000   \n",
       "mean                      0.315015                             0.135038   \n",
       "std                       0.739698                             0.354083   \n",
       "min                       0.000000                             0.000000   \n",
       "25%                       0.000000                             0.000000   \n",
       "50%                       0.000000                             0.000000   \n",
       "75%                       0.000000                             0.000000   \n",
       "max                       6.000000                             3.000000   \n",
       "\n",
       "       Number of Motorized Banca  Number of Motorcycle/Tricycle  \n",
       "count               41544.000000                   41544.000000  \n",
       "mean                    0.013119                       0.289885  \n",
       "std                     0.127171                       0.558408  \n",
       "min                     0.000000                       0.000000  \n",
       "25%                     0.000000                       0.000000  \n",
       "50%                     0.000000                       0.000000  \n",
       "75%                     0.000000                       0.000000  \n",
       "max                     3.000000                       5.000000  \n",
       "\n",
       "[8 rows x 45 columns]"
      ]
     },
     "execution_count": 5,
     "metadata": {},
     "output_type": "execute_result"
    }
   ],
   "source": [
    "# Verificando valores numéricos\n",
    "df.describe()"
   ]
  },
  {
   "cell_type": "code",
   "execution_count": 6,
   "metadata": {},
   "outputs": [
    {
     "data": {
      "text/plain": [
       "Index(['Region', 'Main Source of Income', 'Household Head Sex',\n",
       "       'Household Head Marital Status',\n",
       "       'Household Head Highest Grade Completed',\n",
       "       'Household Head Job or Business Indicator', 'Household Head Occupation',\n",
       "       'Household Head Class of Worker', 'Type of Household',\n",
       "       'Type of Building/House', 'Type of Roof', 'Type of Walls',\n",
       "       'Tenure Status', 'Toilet Facilities', 'Main Source of Water Supply'],\n",
       "      dtype='object')"
      ]
     },
     "execution_count": 6,
     "metadata": {},
     "output_type": "execute_result"
    }
   ],
   "source": [
    "# Verificando quais colunas são categóricas\n",
    "mask = df.dtypes == object\n",
    "df.columns[mask]"
   ]
  },
  {
   "cell_type": "code",
   "execution_count": 7,
   "metadata": {},
   "outputs": [
    {
     "data": {
      "text/plain": [
       "IVA - CALABARZON             0.100183\n",
       "NCR                          0.099413\n",
       "III - Central Luzon          0.077917\n",
       "VI - Western Visayas         0.068626\n",
       "VII - Central Visayas        0.061164\n",
       "V - Bicol Region             0.059503\n",
       "XI - Davao Region            0.058877\n",
       "I - Ilocos Region            0.056518\n",
       "VIII - Eastern Visayas       0.056254\n",
       " ARMM                        0.054111\n",
       "II - Cagayan Valley          0.053413\n",
       "XII - SOCCSKSARGEN           0.051078\n",
       "X - Northern Mindanao        0.045422\n",
       "IX - Zasmboanga Peninsula    0.043039\n",
       "Caraga                       0.042894\n",
       "CAR                          0.041522\n",
       "IVB - MIMAROPA               0.030065\n",
       "Name: Region, dtype: float64"
      ]
     },
     "execution_count": 7,
     "metadata": {},
     "output_type": "execute_result"
    }
   ],
   "source": [
    "df['Region'].value_counts(normalize=True)"
   ]
  },
  {
   "cell_type": "code",
   "execution_count": 8,
   "metadata": {},
   "outputs": [
    {
     "data": {
      "text/plain": [
       "Wage/Salaries                 0.490757\n",
       "Other sources of Income       0.260832\n",
       "Enterpreneurial Activities    0.248411\n",
       "Name: Main Source of Income, dtype: float64"
      ]
     },
     "execution_count": 8,
     "metadata": {},
     "output_type": "execute_result"
    }
   ],
   "source": [
    "df['Main Source of Income'].value_counts(normalize=True)"
   ]
  },
  {
   "cell_type": "code",
   "execution_count": 9,
   "metadata": {},
   "outputs": [
    {
     "data": {
      "text/plain": [
       "Male      0.781894\n",
       "Female    0.218106\n",
       "Name: Household Head Sex, dtype: float64"
      ]
     },
     "execution_count": 9,
     "metadata": {},
     "output_type": "execute_result"
    }
   ],
   "source": [
    "df['Household Head Sex'].value_counts(normalize=True)"
   ]
  },
  {
   "cell_type": "code",
   "execution_count": 10,
   "metadata": {},
   "outputs": [
    {
     "data": {
      "text/plain": [
       "Married               0.754549\n",
       "Widowed               0.164115\n",
       "Single                0.046746\n",
       "Divorced/Separated    0.034301\n",
       "Annulled              0.000265\n",
       "Unknown               0.000024\n",
       "Name: Household Head Marital Status, dtype: float64"
      ]
     },
     "execution_count": 10,
     "metadata": {},
     "output_type": "execute_result"
    }
   ],
   "source": [
    "df['Household Head Marital Status'].value_counts(normalize=True)"
   ]
  },
  {
   "cell_type": "code",
   "execution_count": 11,
   "metadata": {},
   "outputs": [
    {
     "data": {
      "text/plain": [
       "High School Graduate                                                                                                                                                                                                   0.231754\n",
       "Elementary Graduate                                                                                                                                                                                                    0.183901\n",
       "Grade 4                                                                                                                                                                                                                0.054930\n",
       "Grade 5                                                                                                                                                                                                                0.051102\n",
       "Second Year High School                                                                                                                                                                                                0.050645\n",
       "Grade 3                                                                                                                                                                                                                0.047997\n",
       "Third Year High School                                                                                                                                                                                                 0.037189\n",
       "Business and Administration Programs                                                                                                                                                                                   0.032351\n",
       "Second Year College                                                                                                                                                                                                    0.032327\n",
       "Grade 2                                                                                                                                                                                                                0.031557\n",
       "First Year High School                                                                                                                                                                                                 0.030016\n",
       "No Grade Completed                                                                                                                                                                                                     0.029559\n",
       "Third Year College                                                                                                                                                                                                     0.022241\n",
       "Teacher Training and Education Sciences Programs                                                                                                                                                                       0.022193\n",
       "First Year College                                                                                                                                                                                                     0.021832\n",
       "Grade 1                                                                                                                                                                                                                0.021038\n",
       "Engineering and Engineering Trades Programs                                                                                                                                                                            0.018703\n",
       "Engineering and Engineering trades Programs                                                                                                                                                                            0.012565\n",
       "Health Programs                                                                                                                                                                                                        0.008160\n",
       "Computing/Information Technology Programs                                                                                                                                                                              0.007053\n",
       "Security Services Programs                                                                                                                                                                                             0.006066\n",
       "Post Baccalaureate                                                                                                                                                                                                     0.005946\n",
       "Grade 6                                                                                                                                                                                                                0.005705\n",
       "Agriculture, Forestry, and Fishery Programs                                                                                                                                                                            0.005536\n",
       "Transport Services Programs                                                                                                                                                                                            0.005416\n",
       "Second Year Post Secondary                                                                                                                                                                                             0.003370\n",
       "Social and Behavioral Science Programs                                                                                                                                                                                 0.003177\n",
       "Fourth Year College                                                                                                                                                                                                    0.002985\n",
       "First Year Post Secondary                                                                                                                                                                                              0.002768\n",
       "Personal Services Programs                                                                                                                                                                                             0.002142\n",
       "Humanities Programs                                                                                                                                                                                                    0.001805\n",
       "Other Programs in Education at the Third Level, First Stage, of the Type that Leads to an Award not Equivalent to a First University or Baccalaureate Degree                                                           0.001589\n",
       "Law Programs                                                                                                                                                                                                           0.000939\n",
       "Architecture and Building Programs                                                                                                                                                                                     0.000794\n",
       "Basic Programs                                                                                                                                                                                                         0.000794\n",
       "Journalism and Information Programs                                                                                                                                                                                    0.000746\n",
       "Arts Programs                                                                                                                                                                                                          0.000554\n",
       "Life Sciences Programs                                                                                                                                                                                                 0.000457\n",
       "Preschool                                                                                                                                                                                                              0.000361\n",
       "Manufacturing and Processing Programs                                                                                                                                                                                  0.000361\n",
       "Social Services Programs                                                                                                                                                                                               0.000265\n",
       "Mathematics and Statistics Programs                                                                                                                                                                                    0.000265\n",
       "Physical Sciences Programs                                                                                                                                                                                             0.000217\n",
       "Other Programs of Education at the Third Level, First Stage, of the Type that Leads to a Baccalaureate or First University/Professional Degree (HIgher Education Level, First Stage, or Collegiate Education Level)    0.000217\n",
       "Veterinary Programs                                                                                                                                                                                                    0.000217\n",
       "Environmental Protection Programs                                                                                                                                                                                      0.000193\n",
       "Name: Household Head Highest Grade Completed, dtype: float64"
      ]
     },
     "execution_count": 11,
     "metadata": {},
     "output_type": "execute_result"
    }
   ],
   "source": [
    "df['Household Head Highest Grade Completed'].value_counts(normalize=True)"
   ]
  },
  {
   "cell_type": "code",
   "execution_count": 12,
   "metadata": {},
   "outputs": [
    {
     "data": {
      "text/plain": [
       "With Job/Business    0.818602\n",
       "No Job/Business      0.181398\n",
       "Name: Household Head Job or Business Indicator, dtype: float64"
      ]
     },
     "execution_count": 12,
     "metadata": {},
     "output_type": "execute_result"
    }
   ],
   "source": [
    "df['Household Head Job or Business Indicator'].value_counts(normalize=True)"
   ]
  },
  {
   "cell_type": "code",
   "execution_count": 13,
   "metadata": {},
   "outputs": [
    {
     "data": {
      "text/plain": [
       "Farmhands and laborers                                                                 0.102270\n",
       "Rice farmers                                                                           0.083774\n",
       "General managers/managing proprietors in wholesale and retail trade                    0.059633\n",
       "General managers/managing proprietors in transportation, storage and communications    0.056810\n",
       "Corn farmers                                                                           0.050694\n",
       "                                                                                         ...   \n",
       "Insulation workers                                                                     0.000029\n",
       "Fiber preparers                                                                        0.000029\n",
       "Wood treaters                                                                          0.000029\n",
       "Vehicle, window and related cleaners                                                   0.000029\n",
       "Metal drawers and extruders                                                            0.000029\n",
       "Name: Household Head Occupation, Length: 378, dtype: float64"
      ]
     },
     "execution_count": 13,
     "metadata": {},
     "output_type": "execute_result"
    }
   ],
   "source": [
    "df['Household Head Occupation'].value_counts(normalize=True)"
   ]
  },
  {
   "cell_type": "code",
   "execution_count": 14,
   "metadata": {},
   "outputs": [
    {
     "data": {
      "text/plain": [
       "Self-employed wihout any employee                             0.404787\n",
       "Worked for private establishment                              0.403758\n",
       "Worked for government/government corporation                  0.082922\n",
       "Employer in own family-operated farm or business              0.075894\n",
       "Worked for private household                                  0.023847\n",
       "Worked without pay in own family-operated farm or business    0.008380\n",
       "Worked with pay in own family-operated farm or business       0.000412\n",
       "Name: Household Head Class of Worker, dtype: float64"
      ]
     },
     "execution_count": 14,
     "metadata": {},
     "output_type": "execute_result"
    }
   ],
   "source": [
    "df['Household Head Class of Worker'].value_counts(normalize=True)"
   ]
  },
  {
   "cell_type": "code",
   "execution_count": 15,
   "metadata": {},
   "outputs": [
    {
     "data": {
      "text/plain": [
       "Self-employed wihout any employee                             0.404787\n",
       "Worked for private establishment                              0.403758\n",
       "Worked for government/government corporation                  0.082922\n",
       "Employer in own family-operated farm or business              0.075894\n",
       "Worked for private household                                  0.023847\n",
       "Worked without pay in own family-operated farm or business    0.008380\n",
       "Worked with pay in own family-operated farm or business       0.000412\n",
       "Name: Household Head Class of Worker, dtype: float64"
      ]
     },
     "execution_count": 15,
     "metadata": {},
     "output_type": "execute_result"
    }
   ],
   "source": [
    "df['Household Head Class of Worker'].value_counts(normalize=True)"
   ]
  },
  {
   "cell_type": "code",
   "execution_count": 16,
   "metadata": {},
   "outputs": [
    {
     "data": {
      "text/plain": [
       "Total Household Income                              0\n",
       "Region                                              0\n",
       "Total Food Expenditure                              0\n",
       "Main Source of Income                               0\n",
       "Agricultural Household indicator                    0\n",
       "Bread and Cereals Expenditure                       0\n",
       "Total Rice Expenditure                              0\n",
       "Meat Expenditure                                    0\n",
       "Total Fish and  marine products Expenditure         0\n",
       "Fruit Expenditure                                   0\n",
       "Vegetables Expenditure                              0\n",
       "Restaurant and hotels Expenditure                   0\n",
       "Alcoholic Beverages Expenditure                     0\n",
       "Tobacco Expenditure                                 0\n",
       "Clothing, Footwear and Other Wear Expenditure       0\n",
       "Housing and water Expenditure                       0\n",
       "Imputed House Rental Value                          0\n",
       "Medical Care Expenditure                            0\n",
       "Transportation Expenditure                          0\n",
       "Communication Expenditure                           0\n",
       "Education Expenditure                               0\n",
       "Miscellaneous Goods and Services Expenditure        0\n",
       "Special Occasions Expenditure                       0\n",
       "Crop Farming and Gardening expenses                 0\n",
       "Total Income from Entrepreneurial Acitivites        0\n",
       "Household Head Sex                                  0\n",
       "Household Head Age                                  0\n",
       "Household Head Marital Status                       0\n",
       "Household Head Highest Grade Completed              0\n",
       "Household Head Job or Business Indicator            0\n",
       "Household Head Occupation                        7536\n",
       "Household Head Class of Worker                   7536\n",
       "Type of Household                                   0\n",
       "Total Number of Family members                      0\n",
       "Members with age less than 5 year old               0\n",
       "Members with age 5 - 17 years old                   0\n",
       "Total number of family members employed             0\n",
       "Type of Building/House                              0\n",
       "Type of Roof                                        0\n",
       "Type of Walls                                       0\n",
       "House Floor Area                                    0\n",
       "House Age                                           0\n",
       "Number of bedrooms                                  0\n",
       "Tenure Status                                       0\n",
       "Toilet Facilities                                   0\n",
       "Electricity                                         0\n",
       "Main Source of Water Supply                         0\n",
       "Number of Television                                0\n",
       "Number of CD/VCD/DVD                                0\n",
       "Number of Component/Stereo set                      0\n",
       "Number of Refrigerator/Freezer                      0\n",
       "Number of Washing Machine                           0\n",
       "Number of Airconditioner                            0\n",
       "Number of Car, Jeep, Van                            0\n",
       "Number of Landline/wireless telephones              0\n",
       "Number of Cellular phone                            0\n",
       "Number of Personal Computer                         0\n",
       "Number of Stove with Oven/Gas Range                 0\n",
       "Number of Motorized Banca                           0\n",
       "Number of Motorcycle/Tricycle                       0\n",
       "dtype: int64"
      ]
     },
     "execution_count": 16,
     "metadata": {},
     "output_type": "execute_result"
    }
   ],
   "source": [
    "df.isna().sum()"
   ]
  },
  {
   "cell_type": "code",
   "execution_count": 17,
   "metadata": {},
   "outputs": [
    {
     "data": {
      "text/plain": [
       "Farmhands and laborers                                                                 0.102270\n",
       "Rice farmers                                                                           0.083774\n",
       "General managers/managing proprietors in wholesale and retail trade                    0.059633\n",
       "General managers/managing proprietors in transportation, storage and communications    0.056810\n",
       "Corn farmers                                                                           0.050694\n",
       "                                                                                         ...   \n",
       "Insulation workers                                                                     0.000029\n",
       "Fiber preparers                                                                        0.000029\n",
       "Wood treaters                                                                          0.000029\n",
       "Vehicle, window and related cleaners                                                   0.000029\n",
       "Metal drawers and extruders                                                            0.000029\n",
       "Name: Household Head Occupation, Length: 378, dtype: float64"
      ]
     },
     "execution_count": 17,
     "metadata": {},
     "output_type": "execute_result"
    }
   ],
   "source": [
    "df['Household Head Occupation'].value_counts(normalize=True)"
   ]
  },
  {
   "cell_type": "code",
   "execution_count": 18,
   "metadata": {},
   "outputs": [
    {
     "data": {
      "text/plain": [
       "Single Family                             0.684696\n",
       "Extended Family                           0.311284\n",
       "Two or More Nonrelated Persons/Members    0.004020\n",
       "Name: Type of Household, dtype: float64"
      ]
     },
     "execution_count": 18,
     "metadata": {},
     "output_type": "execute_result"
    }
   ],
   "source": [
    "df['Type of Household'].value_counts(normalize=True)"
   ]
  },
  {
   "cell_type": "code",
   "execution_count": 19,
   "metadata": {},
   "outputs": [
    {
     "data": {
      "text/plain": [
       "Single house                                   0.940425\n",
       "Multi-unit residential                         0.031990\n",
       "Duplex                                         0.026093\n",
       "Commercial/industrial/agricultural building    0.001228\n",
       "Institutional living quarter                   0.000217\n",
       "Other building unit (e.g. cave, boat)          0.000048\n",
       "Name: Type of Building/House, dtype: float64"
      ]
     },
     "execution_count": 19,
     "metadata": {},
     "output_type": "execute_result"
    }
   ],
   "source": [
    "df['Type of Building/House'].value_counts(normalize=True)"
   ]
  },
  {
   "cell_type": "code",
   "execution_count": 20,
   "metadata": {},
   "outputs": [
    {
     "data": {
      "text/plain": [
       "Strong material(galvanized,iron,al,tile,concrete,brick,stone,asbestos)    0.802571\n",
       "Light material (cogon,nipa,anahaw)                                        0.122136\n",
       "Mixed but predominantly strong materials                                  0.048190\n",
       "Mixed but predominantly light materials                                   0.020364\n",
       "Salvaged/makeshift materials                                              0.005103\n",
       "Mixed but predominantly salvaged materials                                0.001348\n",
       "Not Applicable                                                            0.000289\n",
       "Name: Type of Roof, dtype: float64"
      ]
     },
     "execution_count": 20,
     "metadata": {},
     "output_type": "execute_result"
    }
   ],
   "source": [
    "df['Type of Roof'].value_counts(normalize=True)"
   ]
  },
  {
   "cell_type": "code",
   "execution_count": 21,
   "metadata": {},
   "outputs": [
    {
     "data": {
      "text/plain": [
       "Strong            0.667702\n",
       "Light             0.198994\n",
       "Quite Strong      0.083935\n",
       "Very Light        0.038104\n",
       "Salvaged          0.010976\n",
       "NOt applicable    0.000289\n",
       "Name: Type of Walls, dtype: float64"
      ]
     },
     "execution_count": 21,
     "metadata": {},
     "output_type": "execute_result"
    }
   ],
   "source": [
    "df['Type of Walls'].value_counts(normalize=True)"
   ]
  },
  {
   "cell_type": "code",
   "execution_count": 22,
   "metadata": {},
   "outputs": [
    {
     "data": {
      "text/plain": [
       "Single house                                   0.940425\n",
       "Multi-unit residential                         0.031990\n",
       "Duplex                                         0.026093\n",
       "Commercial/industrial/agricultural building    0.001228\n",
       "Institutional living quarter                   0.000217\n",
       "Other building unit (e.g. cave, boat)          0.000048\n",
       "Name: Type of Building/House, dtype: float64"
      ]
     },
     "execution_count": 22,
     "metadata": {},
     "output_type": "execute_result"
    }
   ],
   "source": [
    "df['Type of Building/House'].value_counts(normalize=True)"
   ]
  },
  {
   "cell_type": "code",
   "execution_count": 23,
   "metadata": {},
   "outputs": [
    {
     "data": {
      "text/plain": [
       "Own or owner-like possession of house and lot        0.711077\n",
       "Own house, rent-free lot with consent of owner       0.148397\n",
       "Rent house/room including lot                        0.053028\n",
       "Rent-free house and lot with consent of owner        0.048479\n",
       "Own house, rent-free lot without consent of owner    0.023951\n",
       "Own house, rent lot                                  0.010230\n",
       "Rent-free house and lot without consent of owner     0.003081\n",
       "Not Applicable                                       0.001757\n",
       "Name: Tenure Status, dtype: float64"
      ]
     },
     "execution_count": 23,
     "metadata": {},
     "output_type": "execute_result"
    }
   ],
   "source": [
    "df['Tenure Status'].value_counts(normalize=True)"
   ]
  },
  {
   "cell_type": "code",
   "execution_count": 24,
   "metadata": {},
   "outputs": [
    {
     "data": {
      "text/plain": [
       "Water-sealed, sewer septic tank, used exclusively by household    0.701955\n",
       "Water-sealed, sewer septic tank, shared with other household      0.088918\n",
       "Water-sealed, other depository, used exclusively by household     0.056398\n",
       "Closed pit                                                        0.054713\n",
       "None                                                              0.038032\n",
       "Open pit                                                          0.028620\n",
       "Water-sealed, other depository, shared with other household       0.022867\n",
       "Others                                                            0.008497\n",
       "Name: Toilet Facilities, dtype: float64"
      ]
     },
     "execution_count": 24,
     "metadata": {},
     "output_type": "execute_result"
    }
   ],
   "source": [
    "df['Toilet Facilities'].value_counts(normalize=True)"
   ]
  },
  {
   "cell_type": "code",
   "execution_count": 25,
   "metadata": {},
   "outputs": [
    {
     "data": {
      "text/plain": [
       "Own use, faucet, community water system    0.387372\n",
       "Shared, tubed/piped deep well              0.150250\n",
       "Shared, faucet, community water system     0.111063\n",
       "Own use, tubed/piped deep well             0.110413\n",
       "Dug well                                   0.093299\n",
       "Protected spring, river, stream, etc       0.063956\n",
       "Tubed/piped shallow well                   0.033555\n",
       "Peddler                                    0.020484\n",
       "Unprotected spring, river, stream, etc     0.014611\n",
       "Lake, river, rain and others               0.011939\n",
       "Others                                     0.003057\n",
       "Name: Main Source of Water Supply, dtype: float64"
      ]
     },
     "execution_count": 25,
     "metadata": {},
     "output_type": "execute_result"
    }
   ],
   "source": [
    "df['Main Source of Water Supply'].value_counts(normalize=True)"
   ]
  },
  {
   "cell_type": "markdown",
   "metadata": {},
   "source": [
    "#### Milestone 1 - Amostra e Descrição\n",
    "Calcule o tamanho de amostra ideal, considerando que você deseja estimar a média de dinheiro gasto com saúde (Medical Care Expenditure) com um erro máximo de 500, e um nível de confiança de 95%.\n",
    "\n",
    "Obtenha uma amostra do dataset, considerando o tamanho da amostra que você calculou anteriormente e, em seguida, faça uma análise descritiva dos dados com, pelo menos, 10 variáveis quantitativas."
   ]
  },
  {
   "cell_type": "code",
   "execution_count": 26,
   "metadata": {},
   "outputs": [
    {
     "data": {
      "text/plain": [
       "count    4.154400e+04\n",
       "mean     7.160231e+03\n",
       "std      2.690200e+04\n",
       "min      0.000000e+00\n",
       "25%      3.000000e+02\n",
       "50%      1.125000e+03\n",
       "75%      4.680000e+03\n",
       "max      1.049275e+06\n",
       "Name: Medical Care Expenditure, dtype: float64"
      ]
     },
     "execution_count": 26,
     "metadata": {},
     "output_type": "execute_result"
    }
   ],
   "source": [
    "from scipy.stats import norm\n",
    "from scipy.stats import t as t_student\n",
    "\n",
    "df['Medical Care Expenditure'].describe()"
   ]
  },
  {
   "cell_type": "code",
   "execution_count": 27,
   "metadata": {},
   "outputs": [
    {
     "data": {
      "text/plain": [
       "<matplotlib.axes._subplots.AxesSubplot at 0x2b5ca6f4b88>"
      ]
     },
     "execution_count": 27,
     "metadata": {},
     "output_type": "execute_result"
    },
    {
     "data": {
      "image/png": "[encoded data removed]",
      "text/plain": [
       "<Figure size 432x288 with 1 Axes>"
      ]
     },
     "metadata": {
      "needs_background": "light"
     },
     "output_type": "display_data"
    }
   ],
   "source": [
    "sns.histplot(df['Medical Care Expenditure'])"
   ]
  },
  {
   "cell_type": "code",
   "execution_count": 28,
   "metadata": {},
   "outputs": [
    {
     "name": "stdout",
     "output_type": "stream",
     "text": [
      "test_stat: 79949.93716063502\n",
      "p_value: 0.0\n",
      "Rejeitar H0, ou seja, o nosso conjunto de dados NÃO segue uma distribuição normal.\n"
     ]
    }
   ],
   "source": [
    "from scipy.stats import normaltest\n",
    "\n",
    "sign = 0.05\n",
    "conf = 1 - sign # 0.95\n",
    "\n",
    "test_stat, p_value = normaltest(df['Medical Care Expenditure'])\n",
    "print(f'test_stat: {test_stat}\\np_value: {p_value}')\n",
    "\n",
    "if (p_value <= sign):\n",
    "    print('Rejeitar H0, ou seja, o nosso conjunto de dados NÃO segue uma distribuição normal.')\n",
    "else:\n",
    "    print('Aceitar H0, ou seja, o nosso conjunto de dados segue uma distribuição normal.')"
   ]
  },
  {
   "cell_type": "code",
   "execution_count": 29,
   "metadata": {},
   "outputs": [
    {
     "data": {
      "text/plain": [
       "<matplotlib.axes._subplots.AxesSubplot at 0x2b5ce4374c8>"
      ]
     },
     "execution_count": 29,
     "metadata": {},
     "output_type": "execute_result"
    },
    {
     "data": {
      "image/png": "[encoded data removed]",
      "text/plain": [
       "<Figure size 432x288 with 1 Axes>"
      ]
     },
     "metadata": {
      "needs_background": "light"
     },
     "output_type": "display_data"
    }
   ],
   "source": [
    "df.boxplot('Medical Care Expenditure')"
   ]
  },
  {
   "cell_type": "code",
   "execution_count": 30,
   "metadata": {},
   "outputs": [],
   "source": [
    "# Vamos tentar remover os outliers para verificar se a distribuição se torna normal\n",
    "\n",
    "# Remover os outliers\n",
    "def removeOutliers(df, coluna):\n",
    "    Q1 = df[coluna].quantile(q=0.25)\n",
    "    Q3 = df[coluna].quantile(q=0.75)\n",
    "\n",
    "    IQR = Q3 - Q1 # Intervalo interquartílico\n",
    "\n",
    "    inf = Q1 - 1.5 * IQR\n",
    "    sup = Q3 + 1.5 * IQR\n",
    "\n",
    "    return df[(df[coluna] > inf) & (df[coluna] < sup)]\n",
    "# 25380"
   ]
  },
  {
   "cell_type": "code",
   "execution_count": 31,
   "metadata": {},
   "outputs": [
    {
     "name": "stdout",
     "output_type": "stream",
     "text": [
      "ciclo: 1 shape atual: (36130, 1)\n",
      "ciclo: 2 shape atual: (32860, 1)\n",
      "ciclo: 3 shape atual: (30729, 1)\n",
      "ciclo: 4 shape atual: (29229, 1)\n",
      "ciclo: 5 shape atual: (28136, 1)\n",
      "ciclo: 6 shape atual: (27324, 1)\n",
      "ciclo: 7 shape atual: (26714, 1)\n",
      "ciclo: 8 shape atual: (26344, 1)\n",
      "ciclo: 9 shape atual: (26134, 1)\n",
      "ciclo: 10 shape atual: (25961, 1)\n",
      "ciclo: 11 shape atual: (25800, 1)\n",
      "ciclo: 12 shape atual: (25717, 1)\n",
      "ciclo: 13 shape atual: (25657, 1)\n",
      "ciclo: 14 shape atual: (25594, 1)\n",
      "ciclo: 15 shape atual: (25536, 1)\n",
      "ciclo: 16 shape atual: (25500, 1)\n",
      "ciclo: 17 shape atual: (25462, 1)\n",
      "ciclo: 18 shape atual: (25445, 1)\n",
      "ciclo: 19 shape atual: (25421, 1)\n",
      "ciclo: 20 shape atual: (25410, 1)\n",
      "ciclo: 21 shape atual: (25398, 1)\n",
      "ciclo: 22 shape atual: (25390, 1)\n",
      "ciclo: 23 shape atual: (25380, 1)\n"
     ]
    }
   ],
   "source": [
    "med_care_df = df[['Medical Care Expenditure']]\n",
    "\n",
    "linhas = med_care_df.shape[1]\n",
    "x = 0\n",
    "\n",
    "while linhas != removeOutliers(med_care_df, 'Medical Care Expenditure').shape[0]:\n",
    "    x += 1\n",
    "    med_care_df = removeOutliers(med_care_df, 'Medical Care Expenditure')\n",
    "    print(f'ciclo: {x} shape atual: {med_care_df.shape}')\n",
    "    linhas = med_care_df.shape[0]"
   ]
  },
  {
   "cell_type": "code",
   "execution_count": 32,
   "metadata": {},
   "outputs": [
    {
     "data": {
      "text/plain": [
       "count    25380.000000\n",
       "mean       588.343144\n",
       "std        541.479855\n",
       "min          0.000000\n",
       "25%        151.000000\n",
       "50%        404.500000\n",
       "75%        912.000000\n",
       "max       2053.000000\n",
       "Name: Medical Care Expenditure, dtype: float64"
      ]
     },
     "execution_count": 32,
     "metadata": {},
     "output_type": "execute_result"
    }
   ],
   "source": [
    "med_care_df['Medical Care Expenditure'].describe()"
   ]
  },
  {
   "cell_type": "code",
   "execution_count": 33,
   "metadata": {},
   "outputs": [
    {
     "data": {
      "text/plain": [
       "<matplotlib.axes._subplots.AxesSubplot at 0x2b5ceb08748>"
      ]
     },
     "execution_count": 33,
     "metadata": {},
     "output_type": "execute_result"
    },
    {
     "data": {
      "image/png": "[encoded data removed]",
      "text/plain": [
       "<Figure size 432x288 with 1 Axes>"
      ]
     },
     "metadata": {
      "needs_background": "light"
     },
     "output_type": "display_data"
    }
   ],
   "source": [
    "med_care_df.boxplot('Medical Care Expenditure')"
   ]
  },
  {
   "cell_type": "code",
   "execution_count": 34,
   "metadata": {},
   "outputs": [
    {
     "data": {
      "text/plain": [
       "<matplotlib.axes._subplots.AxesSubplot at 0x2b5ce724588>"
      ]
     },
     "execution_count": 34,
     "metadata": {},
     "output_type": "execute_result"
    },
    {
     "data": {
      "image/png": "[encoded data removed]",
      "text/plain": [
       "<Figure size 432x288 with 1 Axes>"
      ]
     },
     "metadata": {
      "needs_background": "light"
     },
     "output_type": "display_data"
    }
   ],
   "source": [
    "sns.histplot(med_care_df['Medical Care Expenditure'])"
   ]
  },
  {
   "cell_type": "code",
   "execution_count": 35,
   "metadata": {},
   "outputs": [
    {
     "name": "stdout",
     "output_type": "stream",
     "text": [
      "test_stat: 2941.3927744758216\n",
      "p_value: 0.0\n",
      "Rejeitar H0, ou seja, o nosso conjunto de dados NÃO segue uma distribuição normal.\n"
     ]
    }
   ],
   "source": [
    "from scipy.stats import normaltest\n",
    "\n",
    "sign = 0.05\n",
    "conf = 1 - sign # 0.95\n",
    "\n",
    "test_stat, p_value = normaltest(med_care_df['Medical Care Expenditure'])\n",
    "print(f'test_stat: {test_stat}\\np_value: {p_value}')\n",
    "\n",
    "if (p_value <= sign):\n",
    "    print('Rejeitar H0, ou seja, o nosso conjunto de dados NÃO segue uma distribuição normal.')\n",
    "else:\n",
    "    print('Aceitar H0, ou seja, o nosso conjunto de dados segue uma distribuição normal.')"
   ]
  },
  {
   "cell_type": "code",
   "execution_count": 36,
   "metadata": {},
   "outputs": [],
   "source": [
    "# Distribuição não é normal então vou utilizar váriavel original sem modificações apenas para responder o exercício"
   ]
  },
  {
   "cell_type": "markdown",
   "metadata": {},
   "source": [
    "### 1 a"
   ]
  },
  {
   "cell_type": "code",
   "execution_count": 37,
   "metadata": {},
   "outputs": [],
   "source": [
    "conf = 0.95\n",
    "sign = 1 - conf\n",
    "max_erro = 500\n",
    "sigma = df['Medical Care Expenditure'].std()"
   ]
  },
  {
   "cell_type": "code",
   "execution_count": 38,
   "metadata": {},
   "outputs": [
    {
     "data": {
      "text/plain": [
       "1.959963984540054"
      ]
     },
     "execution_count": 38,
     "metadata": {},
     "output_type": "execute_result"
    }
   ],
   "source": [
    "z_alpha_2 = norm.ppf(conf + sign / 2)\n",
    "z_alpha_2"
   ]
  },
  {
   "cell_type": "code",
   "execution_count": 39,
   "metadata": {},
   "outputs": [
    {
     "data": {
      "text/plain": [
       "11120.527374834443"
      ]
     },
     "execution_count": 39,
     "metadata": {},
     "output_type": "execute_result"
    }
   ],
   "source": [
    "n = (z_alpha_2 * sigma / max_erro)**2\n",
    "n"
   ]
  },
  {
   "cell_type": "code",
   "execution_count": 40,
   "metadata": {},
   "outputs": [
    {
     "name": "stdout",
     "output_type": "stream",
     "text": [
      "11121 elementos\n"
     ]
    }
   ],
   "source": [
    "n = int(np.ceil(n))\n",
    "print(n, 'elementos')"
   ]
  },
  {
   "cell_type": "markdown",
   "metadata": {},
   "source": [
    "### 1 b"
   ]
  },
  {
   "cell_type": "code",
   "execution_count": 41,
   "metadata": {},
   "outputs": [
    {
     "data": {
      "text/html": [
       "<div>\n",
       "<style scoped>\n",
       "    .dataframe tbody tr th:only-of-type {\n",
       "        vertical-align: middle;\n",
       "    }\n",
       "\n",
       "    .dataframe tbody tr th {\n",
       "        vertical-align: top;\n",
       "    }\n",
       "\n",
       "    .dataframe thead th {\n",
       "        text-align: right;\n",
       "    }\n",
       "</style>\n",
       "<table border=\"1\" class=\"dataframe\">\n",
       "  <thead>\n",
       "    <tr style=\"text-align: right;\">\n",
       "      <th></th>\n",
       "      <th>Total Household Income</th>\n",
       "      <th>Region</th>\n",
       "      <th>Total Food Expenditure</th>\n",
       "      <th>Main Source of Income</th>\n",
       "      <th>Agricultural Household indicator</th>\n",
       "      <th>Bread and Cereals Expenditure</th>\n",
       "      <th>Total Rice Expenditure</th>\n",
       "      <th>Meat Expenditure</th>\n",
       "      <th>Total Fish and  marine products Expenditure</th>\n",
       "      <th>Fruit Expenditure</th>\n",
       "      <th>...</th>\n",
       "      <th>Number of Refrigerator/Freezer</th>\n",
       "      <th>Number of Washing Machine</th>\n",
       "      <th>Number of Airconditioner</th>\n",
       "      <th>Number of Car, Jeep, Van</th>\n",
       "      <th>Number of Landline/wireless telephones</th>\n",
       "      <th>Number of Cellular phone</th>\n",
       "      <th>Number of Personal Computer</th>\n",
       "      <th>Number of Stove with Oven/Gas Range</th>\n",
       "      <th>Number of Motorized Banca</th>\n",
       "      <th>Number of Motorcycle/Tricycle</th>\n",
       "    </tr>\n",
       "  </thead>\n",
       "  <tbody>\n",
       "    <tr>\n",
       "      <td>7004</td>\n",
       "      <td>371278</td>\n",
       "      <td>V - Bicol Region</td>\n",
       "      <td>113025</td>\n",
       "      <td>Wage/Salaries</td>\n",
       "      <td>0</td>\n",
       "      <td>32547</td>\n",
       "      <td>23644</td>\n",
       "      <td>9166</td>\n",
       "      <td>16144</td>\n",
       "      <td>1650</td>\n",
       "      <td>...</td>\n",
       "      <td>0</td>\n",
       "      <td>1</td>\n",
       "      <td>0</td>\n",
       "      <td>0</td>\n",
       "      <td>0</td>\n",
       "      <td>3</td>\n",
       "      <td>1</td>\n",
       "      <td>0</td>\n",
       "      <td>0</td>\n",
       "      <td>0</td>\n",
       "    </tr>\n",
       "    <tr>\n",
       "      <td>35460</td>\n",
       "      <td>542005</td>\n",
       "      <td>IX - Zasmboanga Peninsula</td>\n",
       "      <td>178062</td>\n",
       "      <td>Enterpreneurial Activities</td>\n",
       "      <td>0</td>\n",
       "      <td>57833</td>\n",
       "      <td>45925</td>\n",
       "      <td>18536</td>\n",
       "      <td>17776</td>\n",
       "      <td>4216</td>\n",
       "      <td>...</td>\n",
       "      <td>1</td>\n",
       "      <td>1</td>\n",
       "      <td>0</td>\n",
       "      <td>0</td>\n",
       "      <td>0</td>\n",
       "      <td>5</td>\n",
       "      <td>1</td>\n",
       "      <td>1</td>\n",
       "      <td>0</td>\n",
       "      <td>4</td>\n",
       "    </tr>\n",
       "    <tr>\n",
       "      <td>13870</td>\n",
       "      <td>706897</td>\n",
       "      <td>I - Ilocos Region</td>\n",
       "      <td>213395</td>\n",
       "      <td>Wage/Salaries</td>\n",
       "      <td>0</td>\n",
       "      <td>47909</td>\n",
       "      <td>35700</td>\n",
       "      <td>23093</td>\n",
       "      <td>12104</td>\n",
       "      <td>4903</td>\n",
       "      <td>...</td>\n",
       "      <td>1</td>\n",
       "      <td>1</td>\n",
       "      <td>1</td>\n",
       "      <td>1</td>\n",
       "      <td>0</td>\n",
       "      <td>8</td>\n",
       "      <td>1</td>\n",
       "      <td>0</td>\n",
       "      <td>0</td>\n",
       "      <td>2</td>\n",
       "    </tr>\n",
       "    <tr>\n",
       "      <td>4372</td>\n",
       "      <td>80570</td>\n",
       "      <td>VII - Central Visayas</td>\n",
       "      <td>17066</td>\n",
       "      <td>Other sources of Income</td>\n",
       "      <td>0</td>\n",
       "      <td>2293</td>\n",
       "      <td>1678</td>\n",
       "      <td>7460</td>\n",
       "      <td>3519</td>\n",
       "      <td>520</td>\n",
       "      <td>...</td>\n",
       "      <td>0</td>\n",
       "      <td>0</td>\n",
       "      <td>0</td>\n",
       "      <td>0</td>\n",
       "      <td>0</td>\n",
       "      <td>0</td>\n",
       "      <td>0</td>\n",
       "      <td>0</td>\n",
       "      <td>0</td>\n",
       "      <td>0</td>\n",
       "    </tr>\n",
       "    <tr>\n",
       "      <td>16605</td>\n",
       "      <td>173271</td>\n",
       "      <td>IVA - CALABARZON</td>\n",
       "      <td>124622</td>\n",
       "      <td>Other sources of Income</td>\n",
       "      <td>0</td>\n",
       "      <td>24772</td>\n",
       "      <td>10964</td>\n",
       "      <td>32110</td>\n",
       "      <td>17471</td>\n",
       "      <td>1842</td>\n",
       "      <td>...</td>\n",
       "      <td>1</td>\n",
       "      <td>1</td>\n",
       "      <td>0</td>\n",
       "      <td>0</td>\n",
       "      <td>0</td>\n",
       "      <td>3</td>\n",
       "      <td>1</td>\n",
       "      <td>0</td>\n",
       "      <td>0</td>\n",
       "      <td>0</td>\n",
       "    </tr>\n",
       "    <tr>\n",
       "      <td>...</td>\n",
       "      <td>...</td>\n",
       "      <td>...</td>\n",
       "      <td>...</td>\n",
       "      <td>...</td>\n",
       "      <td>...</td>\n",
       "      <td>...</td>\n",
       "      <td>...</td>\n",
       "      <td>...</td>\n",
       "      <td>...</td>\n",
       "      <td>...</td>\n",
       "      <td>...</td>\n",
       "      <td>...</td>\n",
       "      <td>...</td>\n",
       "      <td>...</td>\n",
       "      <td>...</td>\n",
       "      <td>...</td>\n",
       "      <td>...</td>\n",
       "      <td>...</td>\n",
       "      <td>...</td>\n",
       "      <td>...</td>\n",
       "      <td>...</td>\n",
       "    </tr>\n",
       "    <tr>\n",
       "      <td>10307</td>\n",
       "      <td>161018</td>\n",
       "      <td>VII - Central Visayas</td>\n",
       "      <td>76636</td>\n",
       "      <td>Wage/Salaries</td>\n",
       "      <td>0</td>\n",
       "      <td>28190</td>\n",
       "      <td>24992</td>\n",
       "      <td>12056</td>\n",
       "      <td>6198</td>\n",
       "      <td>1230</td>\n",
       "      <td>...</td>\n",
       "      <td>0</td>\n",
       "      <td>0</td>\n",
       "      <td>0</td>\n",
       "      <td>0</td>\n",
       "      <td>0</td>\n",
       "      <td>2</td>\n",
       "      <td>1</td>\n",
       "      <td>0</td>\n",
       "      <td>0</td>\n",
       "      <td>0</td>\n",
       "    </tr>\n",
       "    <tr>\n",
       "      <td>31428</td>\n",
       "      <td>177502</td>\n",
       "      <td>V - Bicol Region</td>\n",
       "      <td>80128</td>\n",
       "      <td>Enterpreneurial Activities</td>\n",
       "      <td>0</td>\n",
       "      <td>26726</td>\n",
       "      <td>21030</td>\n",
       "      <td>4152</td>\n",
       "      <td>11298</td>\n",
       "      <td>3927</td>\n",
       "      <td>...</td>\n",
       "      <td>0</td>\n",
       "      <td>0</td>\n",
       "      <td>0</td>\n",
       "      <td>0</td>\n",
       "      <td>0</td>\n",
       "      <td>2</td>\n",
       "      <td>0</td>\n",
       "      <td>0</td>\n",
       "      <td>0</td>\n",
       "      <td>2</td>\n",
       "    </tr>\n",
       "    <tr>\n",
       "      <td>22198</td>\n",
       "      <td>102246</td>\n",
       "      <td>X - Northern Mindanao</td>\n",
       "      <td>25438</td>\n",
       "      <td>Enterpreneurial Activities</td>\n",
       "      <td>0</td>\n",
       "      <td>8779</td>\n",
       "      <td>3276</td>\n",
       "      <td>1860</td>\n",
       "      <td>6368</td>\n",
       "      <td>290</td>\n",
       "      <td>...</td>\n",
       "      <td>1</td>\n",
       "      <td>0</td>\n",
       "      <td>0</td>\n",
       "      <td>0</td>\n",
       "      <td>0</td>\n",
       "      <td>0</td>\n",
       "      <td>0</td>\n",
       "      <td>0</td>\n",
       "      <td>0</td>\n",
       "      <td>0</td>\n",
       "    </tr>\n",
       "    <tr>\n",
       "      <td>23525</td>\n",
       "      <td>71014</td>\n",
       "      <td>VI - Western Visayas</td>\n",
       "      <td>67657</td>\n",
       "      <td>Enterpreneurial Activities</td>\n",
       "      <td>1</td>\n",
       "      <td>35174</td>\n",
       "      <td>28272</td>\n",
       "      <td>5720</td>\n",
       "      <td>6714</td>\n",
       "      <td>2675</td>\n",
       "      <td>...</td>\n",
       "      <td>0</td>\n",
       "      <td>0</td>\n",
       "      <td>0</td>\n",
       "      <td>0</td>\n",
       "      <td>0</td>\n",
       "      <td>1</td>\n",
       "      <td>0</td>\n",
       "      <td>0</td>\n",
       "      <td>0</td>\n",
       "      <td>1</td>\n",
       "    </tr>\n",
       "    <tr>\n",
       "      <td>35143</td>\n",
       "      <td>140860</td>\n",
       "      <td>III - Central Luzon</td>\n",
       "      <td>67476</td>\n",
       "      <td>Other sources of Income</td>\n",
       "      <td>0</td>\n",
       "      <td>9741</td>\n",
       "      <td>4963</td>\n",
       "      <td>10658</td>\n",
       "      <td>10816</td>\n",
       "      <td>2330</td>\n",
       "      <td>...</td>\n",
       "      <td>0</td>\n",
       "      <td>0</td>\n",
       "      <td>0</td>\n",
       "      <td>0</td>\n",
       "      <td>0</td>\n",
       "      <td>1</td>\n",
       "      <td>0</td>\n",
       "      <td>0</td>\n",
       "      <td>0</td>\n",
       "      <td>0</td>\n",
       "    </tr>\n",
       "  </tbody>\n",
       "</table>\n",
       "<p>11121 rows × 60 columns</p>\n",
       "</div>"
      ],
      "text/plain": [
       "       Total Household Income                     Region  \\\n",
       "7004                   371278           V - Bicol Region   \n",
       "35460                  542005  IX - Zasmboanga Peninsula   \n",
       "13870                  706897          I - Ilocos Region   \n",
       "4372                    80570      VII - Central Visayas   \n",
       "16605                  173271           IVA - CALABARZON   \n",
       "...                       ...                        ...   \n",
       "10307                  161018      VII - Central Visayas   \n",
       "31428                  177502           V - Bicol Region   \n",
       "22198                  102246      X - Northern Mindanao   \n",
       "23525                   71014       VI - Western Visayas   \n",
       "35143                  140860        III - Central Luzon   \n",
       "\n",
       "       Total Food Expenditure       Main Source of Income  \\\n",
       "7004                   113025               Wage/Salaries   \n",
       "35460                  178062  Enterpreneurial Activities   \n",
       "13870                  213395               Wage/Salaries   \n",
       "4372                    17066     Other sources of Income   \n",
       "16605                  124622     Other sources of Income   \n",
       "...                       ...                         ...   \n",
       "10307                   76636               Wage/Salaries   \n",
       "31428                   80128  Enterpreneurial Activities   \n",
       "22198                   25438  Enterpreneurial Activities   \n",
       "23525                   67657  Enterpreneurial Activities   \n",
       "35143                   67476     Other sources of Income   \n",
       "\n",
       "       Agricultural Household indicator  Bread and Cereals Expenditure  \\\n",
       "7004                                  0                          32547   \n",
       "35460                                 0                          57833   \n",
       "13870                                 0                          47909   \n",
       "4372                                  0                           2293   \n",
       "16605                                 0                          24772   \n",
       "...                                 ...                            ...   \n",
       "10307                                 0                          28190   \n",
       "31428                                 0                          26726   \n",
       "22198                                 0                           8779   \n",
       "23525                                 1                          35174   \n",
       "35143                                 0                           9741   \n",
       "\n",
       "       Total Rice Expenditure  Meat Expenditure  \\\n",
       "7004                    23644              9166   \n",
       "35460                   45925             18536   \n",
       "13870                   35700             23093   \n",
       "4372                     1678              7460   \n",
       "16605                   10964             32110   \n",
       "...                       ...               ...   \n",
       "10307                   24992             12056   \n",
       "31428                   21030              4152   \n",
       "22198                    3276              1860   \n",
       "23525                   28272              5720   \n",
       "35143                    4963             10658   \n",
       "\n",
       "       Total Fish and  marine products Expenditure  Fruit Expenditure  ...  \\\n",
       "7004                                         16144               1650  ...   \n",
       "35460                                        17776               4216  ...   \n",
       "13870                                        12104               4903  ...   \n",
       "4372                                          3519                520  ...   \n",
       "16605                                        17471               1842  ...   \n",
       "...                                            ...                ...  ...   \n",
       "10307                                         6198               1230  ...   \n",
       "31428                                        11298               3927  ...   \n",
       "22198                                         6368                290  ...   \n",
       "23525                                         6714               2675  ...   \n",
       "35143                                        10816               2330  ...   \n",
       "\n",
       "       Number of Refrigerator/Freezer  Number of Washing Machine  \\\n",
       "7004                                0                          1   \n",
       "35460                               1                          1   \n",
       "13870                               1                          1   \n",
       "4372                                0                          0   \n",
       "16605                               1                          1   \n",
       "...                               ...                        ...   \n",
       "10307                               0                          0   \n",
       "31428                               0                          0   \n",
       "22198                               1                          0   \n",
       "23525                               0                          0   \n",
       "35143                               0                          0   \n",
       "\n",
       "       Number of Airconditioner  Number of Car, Jeep, Van  \\\n",
       "7004                          0                         0   \n",
       "35460                         0                         0   \n",
       "13870                         1                         1   \n",
       "4372                          0                         0   \n",
       "16605                         0                         0   \n",
       "...                         ...                       ...   \n",
       "10307                         0                         0   \n",
       "31428                         0                         0   \n",
       "22198                         0                         0   \n",
       "23525                         0                         0   \n",
       "35143                         0                         0   \n",
       "\n",
       "       Number of Landline/wireless telephones  Number of Cellular phone  \\\n",
       "7004                                        0                         3   \n",
       "35460                                       0                         5   \n",
       "13870                                       0                         8   \n",
       "4372                                        0                         0   \n",
       "16605                                       0                         3   \n",
       "...                                       ...                       ...   \n",
       "10307                                       0                         2   \n",
       "31428                                       0                         2   \n",
       "22198                                       0                         0   \n",
       "23525                                       0                         1   \n",
       "35143                                       0                         1   \n",
       "\n",
       "       Number of Personal Computer  Number of Stove with Oven/Gas Range  \\\n",
       "7004                             1                                    0   \n",
       "35460                            1                                    1   \n",
       "13870                            1                                    0   \n",
       "4372                             0                                    0   \n",
       "16605                            1                                    0   \n",
       "...                            ...                                  ...   \n",
       "10307                            1                                    0   \n",
       "31428                            0                                    0   \n",
       "22198                            0                                    0   \n",
       "23525                            0                                    0   \n",
       "35143                            0                                    0   \n",
       "\n",
       "       Number of Motorized Banca  Number of Motorcycle/Tricycle  \n",
       "7004                           0                              0  \n",
       "35460                          0                              4  \n",
       "13870                          0                              2  \n",
       "4372                           0                              0  \n",
       "16605                          0                              0  \n",
       "...                          ...                            ...  \n",
       "10307                          0                              0  \n",
       "31428                          0                              2  \n",
       "22198                          0                              0  \n",
       "23525                          0                              1  \n",
       "35143                          0                              0  \n",
       "\n",
       "[11121 rows x 60 columns]"
      ]
     },
     "execution_count": 41,
     "metadata": {},
     "output_type": "execute_result"
    }
   ],
   "source": [
    "df_amostra = df.sample(n)\n",
    "df_amostra"
   ]
  },
  {
   "cell_type": "code",
   "execution_count": 42,
   "metadata": {},
   "outputs": [
    {
     "name": "stdout",
     "output_type": "stream",
     "text": [
      "<class 'pandas.core.frame.DataFrame'>\n",
      "Int64Index: 11121 entries, 7004 to 35143\n",
      "Data columns (total 60 columns):\n",
      "Total Household Income                           11121 non-null int64\n",
      "Region                                           11121 non-null object\n",
      "Total Food Expenditure                           11121 non-null int64\n",
      "Main Source of Income                            11121 non-null object\n",
      "Agricultural Household indicator                 11121 non-null int64\n",
      "Bread and Cereals Expenditure                    11121 non-null int64\n",
      "Total Rice Expenditure                           11121 non-null int64\n",
      "Meat Expenditure                                 11121 non-null int64\n",
      "Total Fish and  marine products Expenditure      11121 non-null int64\n",
      "Fruit Expenditure                                11121 non-null int64\n",
      "Vegetables Expenditure                           11121 non-null int64\n",
      "Restaurant and hotels Expenditure                11121 non-null int64\n",
      "Alcoholic Beverages Expenditure                  11121 non-null int64\n",
      "Tobacco Expenditure                              11121 non-null int64\n",
      "Clothing, Footwear and Other Wear Expenditure    11121 non-null int64\n",
      "Housing and water Expenditure                    11121 non-null int64\n",
      "Imputed House Rental Value                       11121 non-null int64\n",
      "Medical Care Expenditure                         11121 non-null int64\n",
      "Transportation Expenditure                       11121 non-null int64\n",
      "Communication Expenditure                        11121 non-null int64\n",
      "Education Expenditure                            11121 non-null int64\n",
      "Miscellaneous Goods and Services Expenditure     11121 non-null int64\n",
      "Special Occasions Expenditure                    11121 non-null int64\n",
      "Crop Farming and Gardening expenses              11121 non-null int64\n",
      "Total Income from Entrepreneurial Acitivites     11121 non-null int64\n",
      "Household Head Sex                               11121 non-null object\n",
      "Household Head Age                               11121 non-null int64\n",
      "Household Head Marital Status                    11121 non-null object\n",
      "Household Head Highest Grade Completed           11121 non-null object\n",
      "Household Head Job or Business Indicator         11121 non-null object\n",
      "Household Head Occupation                        9127 non-null object\n",
      "Household Head Class of Worker                   9127 non-null object\n",
      "Type of Household                                11121 non-null object\n",
      "Total Number of Family members                   11121 non-null int64\n",
      "Members with age less than 5 year old            11121 non-null int64\n",
      "Members with age 5 - 17 years old                11121 non-null int64\n",
      "Total number of family members employed          11121 non-null int64\n",
      "Type of Building/House                           11121 non-null object\n",
      "Type of Roof                                     11121 non-null object\n",
      "Type of Walls                                    11121 non-null object\n",
      "House Floor Area                                 11121 non-null int64\n",
      "House Age                                        11121 non-null int64\n",
      "Number of bedrooms                               11121 non-null int64\n",
      "Tenure Status                                    11121 non-null object\n",
      "Toilet Facilities                                11121 non-null object\n",
      "Electricity                                      11121 non-null int64\n",
      "Main Source of Water Supply                      11121 non-null object\n",
      "Number of Television                             11121 non-null int64\n",
      "Number of CD/VCD/DVD                             11121 non-null int64\n",
      "Number of Component/Stereo set                   11121 non-null int64\n",
      "Number of Refrigerator/Freezer                   11121 non-null int64\n",
      "Number of Washing Machine                        11121 non-null int64\n",
      "Number of Airconditioner                         11121 non-null int64\n",
      "Number of Car, Jeep, Van                         11121 non-null int64\n",
      "Number of Landline/wireless telephones           11121 non-null int64\n",
      "Number of Cellular phone                         11121 non-null int64\n",
      "Number of Personal Computer                      11121 non-null int64\n",
      "Number of Stove with Oven/Gas Range              11121 non-null int64\n",
      "Number of Motorized Banca                        11121 non-null int64\n",
      "Number of Motorcycle/Tricycle                    11121 non-null int64\n",
      "dtypes: int64(45), object(15)\n",
      "memory usage: 5.2+ MB\n"
     ]
    }
   ],
   "source": [
    "df_amostra.info()"
   ]
  },
  {
   "cell_type": "code",
   "execution_count": 43,
   "metadata": {},
   "outputs": [
    {
     "data": {
      "image/png": "[encoded data removed]",
      "text/plain": [
       "<Figure size 432x288 with 1 Axes>"
      ]
     },
     "metadata": {
      "needs_background": "light"
     },
     "output_type": "display_data"
    }
   ],
   "source": [
    "#Análise descritiva das variáveis quantitativas\n",
    "df1 = df_amostra['Total Household Income'].value_counts(normalize=True)\n",
    "sns.histplot(df1)\n",
    "plt.xticks(rotation=90)\n",
    "plt.show()"
   ]
  },
  {
   "cell_type": "code",
   "execution_count": 44,
   "metadata": {},
   "outputs": [
    {
     "data": {
      "text/plain": [
       "<matplotlib.axes._subplots.AxesSubplot at 0x2b5ceb3ee08>"
      ]
     },
     "execution_count": 44,
     "metadata": {},
     "output_type": "execute_result"
    },
    {
     "data": {
      "image/png": "[encoded data removed]",
      "text/plain": [
       "<Figure size 432x288 with 1 Axes>"
      ]
     },
     "metadata": {
      "needs_background": "light"
     },
     "output_type": "display_data"
    }
   ],
   "source": [
    "df2= df_amostra['Total Food Expenditure'].value_counts(normalize=True)\n",
    "sns.histplot(df2)"
   ]
  },
  {
   "cell_type": "code",
   "execution_count": 45,
   "metadata": {},
   "outputs": [
    {
     "data": {
      "text/plain": [
       "<matplotlib.axes._subplots.AxesSubplot at 0x2b5cef74148>"
      ]
     },
     "execution_count": 45,
     "metadata": {},
     "output_type": "execute_result"
    },
    {
     "data": {
      "image/png": "[encoded data removed]",
      "text/plain": [
       "<Figure size 432x288 with 1 Axes>"
      ]
     },
     "metadata": {
      "needs_background": "light"
     },
     "output_type": "display_data"
    }
   ],
   "source": [
    "df3 = df_amostra['Agricultural Household indicator'].value_counts(normalize=True)\n",
    "sns.histplot(df3)"
   ]
  },
  {
   "cell_type": "code",
   "execution_count": 46,
   "metadata": {},
   "outputs": [
    {
     "data": {
      "text/plain": [
       "<matplotlib.axes._subplots.AxesSubplot at 0x2b5ce7ab248>"
      ]
     },
     "execution_count": 46,
     "metadata": {},
     "output_type": "execute_result"
    },
    {
     "data": {
      "image/png": "[encoded data removed]",
      "text/plain": [
       "<Figure size 432x288 with 1 Axes>"
      ]
     },
     "metadata": {
      "needs_background": "light"
     },
     "output_type": "display_data"
    }
   ],
   "source": [
    "df4 = df_amostra['Bread and Cereals Expenditure'].value_counts(normalize=True)\n",
    "sns.histplot(df4)"
   ]
  },
  {
   "cell_type": "code",
   "execution_count": 47,
   "metadata": {},
   "outputs": [
    {
     "data": {
      "text/plain": [
       "<matplotlib.axes._subplots.AxesSubplot at 0x2b5cef4f988>"
      ]
     },
     "execution_count": 47,
     "metadata": {},
     "output_type": "execute_result"
    },
    {
     "data": {
      "image/png": "[encoded data removed]",
      "text/plain": [
       "<Figure size 432x288 with 1 Axes>"
      ]
     },
     "metadata": {
      "needs_background": "light"
     },
     "output_type": "display_data"
    }
   ],
   "source": [
    "df5 = df_amostra['Total Rice Expenditure'].value_counts(normalize=True)\n",
    "sns.histplot(df5)"
   ]
  },
  {
   "cell_type": "code",
   "execution_count": 48,
   "metadata": {},
   "outputs": [
    {
     "data": {
      "text/plain": [
       "<matplotlib.axes._subplots.AxesSubplot at 0x2b5d12c7888>"
      ]
     },
     "execution_count": 48,
     "metadata": {},
     "output_type": "execute_result"
    },
    {
     "data": {
      "image/png": "[encoded data removed]",
      "text/plain": [
       "<Figure size 432x288 with 1 Axes>"
      ]
     },
     "metadata": {
      "needs_background": "light"
     },
     "output_type": "display_data"
    }
   ],
   "source": [
    "df6 = df_amostra['Meat Expenditure'].value_counts(normalize=True)\n",
    "sns.histplot(df6)"
   ]
  },
  {
   "cell_type": "code",
   "execution_count": 49,
   "metadata": {},
   "outputs": [
    {
     "data": {
      "text/plain": [
       "<matplotlib.axes._subplots.AxesSubplot at 0x2b5d15b4888>"
      ]
     },
     "execution_count": 49,
     "metadata": {},
     "output_type": "execute_result"
    },
    {
     "data": {
      "image/png": "[encoded data removed]",
      "text/plain": [
       "<Figure size 432x288 with 1 Axes>"
      ]
     },
     "metadata": {
      "needs_background": "light"
     },
     "output_type": "display_data"
    }
   ],
   "source": [
    "df7= df_amostra['Total Fish and  marine products Expenditure'].value_counts(normalize=True)\n",
    "sns.histplot(df7)"
   ]
  },
  {
   "cell_type": "code",
   "execution_count": 50,
   "metadata": {},
   "outputs": [
    {
     "data": {
      "text/plain": [
       "<matplotlib.axes._subplots.AxesSubplot at 0x2b5d022be48>"
      ]
     },
     "execution_count": 50,
     "metadata": {},
     "output_type": "execute_result"
    },
    {
     "data": {
      "image/png": "[encoded data removed]",
      "text/plain": [
       "<Figure size 432x288 with 1 Axes>"
      ]
     },
     "metadata": {
      "needs_background": "light"
     },
     "output_type": "display_data"
    }
   ],
   "source": [
    "df8 = df_amostra['Fruit Expenditure'].value_counts(normalize=True)\n",
    "sns.histplot(df8)"
   ]
  },
  {
   "cell_type": "code",
   "execution_count": 51,
   "metadata": {},
   "outputs": [
    {
     "data": {
      "text/plain": [
       "<matplotlib.axes._subplots.AxesSubplot at 0x2b5d1bbbcc8>"
      ]
     },
     "execution_count": 51,
     "metadata": {},
     "output_type": "execute_result"
    },
    {
     "data": {
      "image/png": "[encoded data removed]",
      "text/plain": [
       "<Figure size 432x288 with 1 Axes>"
      ]
     },
     "metadata": {
      "needs_background": "light"
     },
     "output_type": "display_data"
    }
   ],
   "source": [
    "df9 = df_amostra['Vegetables Expenditure'].value_counts(normalize=True)\n",
    "sns.histplot(df9)"
   ]
  },
  {
   "cell_type": "code",
   "execution_count": 52,
   "metadata": {},
   "outputs": [
    {
     "data": {
      "text/plain": [
       "<matplotlib.axes._subplots.AxesSubplot at 0x2b5d1b44408>"
      ]
     },
     "execution_count": 52,
     "metadata": {},
     "output_type": "execute_result"
    },
    {
     "data": {
      "image/png": "[encoded data removed]",
      "text/plain": [
       "<Figure size 432x288 with 1 Axes>"
      ]
     },
     "metadata": {
      "needs_background": "light"
     },
     "output_type": "display_data"
    }
   ],
   "source": [
    "df10 = df_amostra['Clothing, Footwear and Other Wear Expenditure'].value_counts(normalize=True)\n",
    "sns.histplot(df10)"
   ]
  },
  {
   "cell_type": "code",
   "execution_count": null,
   "metadata": {},
   "outputs": [],
   "source": []
  },
  {
   "cell_type": "markdown",
   "metadata": {},
   "source": [
    "#### Milestone 2 - Inferência Estatística\n",
    "Utilizando um nível de confiança de 95%, calcule o intervalo de confiança do dinheiro gasto com saúde e educação (colunas: Medical Care Expenditure e Education Expenditure).\n",
    "\n",
    "Calcule se há diferença de média de número total de membros da família pelo sexo do chefe de família (Household Head Sex e Total Number of Family members) com 95% de confiança.\n",
    "\n",
    "Verifique se há diferença de média total de renda da família (Total Household Income) de acordo com a fonte salarial (Main Source of Income).\n",
    "\n",
    "Considere “Enteroreneurial activities” e “other sources of income” como \"outros\"."
   ]
  },
  {
   "cell_type": "markdown",
   "metadata": {},
   "source": [
    "#### Utilizando um nível de confiança de 95%, calcule o intervalo de confiança do dinheiro gasto com saúde e educação (colunas: Medical Care Expenditure e Education Expenditure)"
   ]
  },
  {
   "cell_type": "code",
   "execution_count": 53,
   "metadata": {},
   "outputs": [
    {
     "data": {
      "text/plain": [
       "0        3457\n",
       "1        3520\n",
       "2          70\n",
       "3          60\n",
       "4         140\n",
       "         ... \n",
       "41539     294\n",
       "41540     890\n",
       "41541     540\n",
       "41542     314\n",
       "41543     330\n",
       "Name: Medical Care Expenditure, Length: 41544, dtype: int64"
      ]
     },
     "execution_count": 53,
     "metadata": {},
     "output_type": "execute_result"
    }
   ],
   "source": [
    "# Verificando intervalo de confiança para Medical Care Expenditure\n",
    "med_care_exp = df['Medical Care Expenditure']\n",
    "med_care_exp"
   ]
  },
  {
   "cell_type": "code",
   "execution_count": 54,
   "metadata": {},
   "outputs": [
    {
     "name": "stdout",
     "output_type": "stream",
     "text": [
      "média amostral: 7160.230935875216\n",
      "desvio da amostra: 26902.002274617116\n",
      "número de amostras: 41544\n"
     ]
    }
   ],
   "source": [
    "conf = 0.95\n",
    "sign = 1 - conf\n",
    "u = med_care_exp.mean()\n",
    "s = med_care_exp.std()\n",
    "n = med_care_exp.shape[0]\n",
    "print(f'média amostral: {u}\\ndesvio da amostra: {s}\\nnúmero de amostras: {n}')"
   ]
  },
  {
   "cell_type": "code",
   "execution_count": 55,
   "metadata": {},
   "outputs": [
    {
     "data": {
      "text/plain": [
       "1.959963984540054"
      ]
     },
     "execution_count": 55,
     "metadata": {},
     "output_type": "execute_result"
    }
   ],
   "source": [
    "z_alpha_2 = norm.ppf(conf + sign / 2)\n",
    "z_alpha_2"
   ]
  },
  {
   "cell_type": "code",
   "execution_count": 56,
   "metadata": {},
   "outputs": [
    {
     "data": {
      "text/plain": [
       "258.68934506630364"
      ]
     },
     "execution_count": 56,
     "metadata": {},
     "output_type": "execute_result"
    }
   ],
   "source": [
    "erro = z_alpha_2 * s / np.sqrt(n)\n",
    "erro"
   ]
  },
  {
   "cell_type": "code",
   "execution_count": 57,
   "metadata": {},
   "outputs": [
    {
     "name": "stdout",
     "output_type": "stream",
     "text": [
      "Intervalo de confiança da média: (6901.541590808913, 7418.92028094152)\n"
     ]
    }
   ],
   "source": [
    "print('Intervalo de confiança da média:', (u - erro, u + erro))"
   ]
  },
  {
   "cell_type": "code",
   "execution_count": 58,
   "metadata": {},
   "outputs": [
    {
     "data": {
      "text/plain": [
       "(6901.541590808913, 7418.92028094152)"
      ]
     },
     "execution_count": 58,
     "metadata": {},
     "output_type": "execute_result"
    }
   ],
   "source": [
    "# De uma forma mais prática\n",
    "norm.interval(conf, loc=u, scale=s/np.sqrt(n))"
   ]
  },
  {
   "cell_type": "code",
   "execution_count": 59,
   "metadata": {},
   "outputs": [
    {
     "data": {
      "text/plain": [
       "0        36200\n",
       "1        29300\n",
       "2          425\n",
       "3          300\n",
       "4            0\n",
       "         ...  \n",
       "41539       50\n",
       "41540     1550\n",
       "41541        0\n",
       "41542     5295\n",
       "41543       80\n",
       "Name: Education Expenditure, Length: 41544, dtype: int64"
      ]
     },
     "execution_count": 59,
     "metadata": {},
     "output_type": "execute_result"
    }
   ],
   "source": [
    "# Verificando intervalo de confiança para Education Expenditure\n",
    "edu_exp = df['Education Expenditure']\n",
    "edu_exp"
   ]
  },
  {
   "cell_type": "code",
   "execution_count": 60,
   "metadata": {},
   "outputs": [
    {
     "name": "stdout",
     "output_type": "stream",
     "text": [
      "média amostral: 7473.500481417293\n",
      "desvio da amostra: 21219.170907296462\n",
      "número de amostras: 41544\n"
     ]
    }
   ],
   "source": [
    "conf = 0.95\n",
    "sign = 1 - conf\n",
    "u = edu_exp.mean()\n",
    "s = edu_exp.std()\n",
    "n = edu_exp.shape[0]\n",
    "print(f'média amostral: {u}\\ndesvio da amostra: {s}\\nnúmero de amostras: {n}')"
   ]
  },
  {
   "cell_type": "code",
   "execution_count": 61,
   "metadata": {},
   "outputs": [
    {
     "data": {
      "text/plain": [
       "(7269.4571775462755, 7677.54378528831)"
      ]
     },
     "execution_count": 61,
     "metadata": {},
     "output_type": "execute_result"
    }
   ],
   "source": [
    "# De uma forma mais prática\n",
    "norm.interval(conf, loc=u, scale=s/np.sqrt(n))"
   ]
  },
  {
   "cell_type": "markdown",
   "metadata": {},
   "source": [
    "#### Calcule se há diferença de média de número total de membros da família pelo sexo do chefe de família (Household Head Sex e Total Number of Family members) com 95% de confiança."
   ]
  },
  {
   "cell_type": "code",
   "execution_count": 62,
   "metadata": {},
   "outputs": [
    {
     "data": {
      "text/html": [
       "<div>\n",
       "<style scoped>\n",
       "    .dataframe tbody tr th:only-of-type {\n",
       "        vertical-align: middle;\n",
       "    }\n",
       "\n",
       "    .dataframe tbody tr th {\n",
       "        vertical-align: top;\n",
       "    }\n",
       "\n",
       "    .dataframe thead th {\n",
       "        text-align: right;\n",
       "    }\n",
       "</style>\n",
       "<table border=\"1\" class=\"dataframe\">\n",
       "  <thead>\n",
       "    <tr style=\"text-align: right;\">\n",
       "      <th></th>\n",
       "      <th>Household Head Sex</th>\n",
       "      <th>Total Number of Family members</th>\n",
       "    </tr>\n",
       "  </thead>\n",
       "  <tbody>\n",
       "    <tr>\n",
       "      <td>0</td>\n",
       "      <td>Female</td>\n",
       "      <td>4</td>\n",
       "    </tr>\n",
       "    <tr>\n",
       "      <td>1</td>\n",
       "      <td>Male</td>\n",
       "      <td>3</td>\n",
       "    </tr>\n",
       "    <tr>\n",
       "      <td>2</td>\n",
       "      <td>Male</td>\n",
       "      <td>6</td>\n",
       "    </tr>\n",
       "    <tr>\n",
       "      <td>3</td>\n",
       "      <td>Male</td>\n",
       "      <td>3</td>\n",
       "    </tr>\n",
       "    <tr>\n",
       "      <td>4</td>\n",
       "      <td>Male</td>\n",
       "      <td>4</td>\n",
       "    </tr>\n",
       "    <tr>\n",
       "      <td>...</td>\n",
       "      <td>...</td>\n",
       "      <td>...</td>\n",
       "    </tr>\n",
       "    <tr>\n",
       "      <td>41539</td>\n",
       "      <td>Male</td>\n",
       "      <td>6</td>\n",
       "    </tr>\n",
       "    <tr>\n",
       "      <td>41540</td>\n",
       "      <td>Male</td>\n",
       "      <td>6</td>\n",
       "    </tr>\n",
       "    <tr>\n",
       "      <td>41541</td>\n",
       "      <td>Male</td>\n",
       "      <td>4</td>\n",
       "    </tr>\n",
       "    <tr>\n",
       "      <td>41542</td>\n",
       "      <td>Male</td>\n",
       "      <td>9</td>\n",
       "    </tr>\n",
       "    <tr>\n",
       "      <td>41543</td>\n",
       "      <td>Male</td>\n",
       "      <td>8</td>\n",
       "    </tr>\n",
       "  </tbody>\n",
       "</table>\n",
       "<p>41544 rows × 2 columns</p>\n",
       "</div>"
      ],
      "text/plain": [
       "      Household Head Sex  Total Number of Family members\n",
       "0                 Female                               4\n",
       "1                   Male                               3\n",
       "2                   Male                               6\n",
       "3                   Male                               3\n",
       "4                   Male                               4\n",
       "...                  ...                             ...\n",
       "41539               Male                               6\n",
       "41540               Male                               6\n",
       "41541               Male                               4\n",
       "41542               Male                               9\n",
       "41543               Male                               8\n",
       "\n",
       "[41544 rows x 2 columns]"
      ]
     },
     "execution_count": 62,
     "metadata": {},
     "output_type": "execute_result"
    }
   ],
   "source": [
    "df_sex = df[['Household Head Sex','Total Number of Family members']]\n",
    "df_sex"
   ]
  },
  {
   "cell_type": "code",
   "execution_count": 63,
   "metadata": {},
   "outputs": [
    {
     "data": {
      "text/html": [
       "<div>\n",
       "<style scoped>\n",
       "    .dataframe tbody tr th:only-of-type {\n",
       "        vertical-align: middle;\n",
       "    }\n",
       "\n",
       "    .dataframe tbody tr th {\n",
       "        vertical-align: top;\n",
       "    }\n",
       "\n",
       "    .dataframe thead th {\n",
       "        text-align: right;\n",
       "    }\n",
       "</style>\n",
       "<table border=\"1\" class=\"dataframe\">\n",
       "  <thead>\n",
       "    <tr style=\"text-align: right;\">\n",
       "      <th></th>\n",
       "      <th>Household Head Sex</th>\n",
       "      <th>Total Number of Family members</th>\n",
       "    </tr>\n",
       "  </thead>\n",
       "  <tbody>\n",
       "    <tr>\n",
       "      <td>7587</td>\n",
       "      <td>Female</td>\n",
       "      <td>5</td>\n",
       "    </tr>\n",
       "    <tr>\n",
       "      <td>27862</td>\n",
       "      <td>Female</td>\n",
       "      <td>4</td>\n",
       "    </tr>\n",
       "    <tr>\n",
       "      <td>37094</td>\n",
       "      <td>Female</td>\n",
       "      <td>2</td>\n",
       "    </tr>\n",
       "    <tr>\n",
       "      <td>8950</td>\n",
       "      <td>Female</td>\n",
       "      <td>9</td>\n",
       "    </tr>\n",
       "    <tr>\n",
       "      <td>2698</td>\n",
       "      <td>Female</td>\n",
       "      <td>3</td>\n",
       "    </tr>\n",
       "    <tr>\n",
       "      <td>...</td>\n",
       "      <td>...</td>\n",
       "      <td>...</td>\n",
       "    </tr>\n",
       "    <tr>\n",
       "      <td>6681</td>\n",
       "      <td>Female</td>\n",
       "      <td>3</td>\n",
       "    </tr>\n",
       "    <tr>\n",
       "      <td>30034</td>\n",
       "      <td>Female</td>\n",
       "      <td>5</td>\n",
       "    </tr>\n",
       "    <tr>\n",
       "      <td>1444</td>\n",
       "      <td>Female</td>\n",
       "      <td>2</td>\n",
       "    </tr>\n",
       "    <tr>\n",
       "      <td>29155</td>\n",
       "      <td>Female</td>\n",
       "      <td>2</td>\n",
       "    </tr>\n",
       "    <tr>\n",
       "      <td>23704</td>\n",
       "      <td>Female</td>\n",
       "      <td>3</td>\n",
       "    </tr>\n",
       "  </tbody>\n",
       "</table>\n",
       "<p>5000 rows × 2 columns</p>\n",
       "</div>"
      ],
      "text/plain": [
       "      Household Head Sex  Total Number of Family members\n",
       "7587              Female                               5\n",
       "27862             Female                               4\n",
       "37094             Female                               2\n",
       "8950              Female                               9\n",
       "2698              Female                               3\n",
       "...                  ...                             ...\n",
       "6681              Female                               3\n",
       "30034             Female                               5\n",
       "1444              Female                               2\n",
       "29155             Female                               2\n",
       "23704             Female                               3\n",
       "\n",
       "[5000 rows x 2 columns]"
      ]
     },
     "execution_count": 63,
     "metadata": {},
     "output_type": "execute_result"
    }
   ],
   "source": [
    "df_female = df_sex[df_sex['Household Head Sex'] == 'Female'].sample(n=5000, replace=False)\n",
    "df_female"
   ]
  },
  {
   "cell_type": "code",
   "execution_count": 64,
   "metadata": {},
   "outputs": [
    {
     "data": {
      "text/html": [
       "<div>\n",
       "<style scoped>\n",
       "    .dataframe tbody tr th:only-of-type {\n",
       "        vertical-align: middle;\n",
       "    }\n",
       "\n",
       "    .dataframe tbody tr th {\n",
       "        vertical-align: top;\n",
       "    }\n",
       "\n",
       "    .dataframe thead th {\n",
       "        text-align: right;\n",
       "    }\n",
       "</style>\n",
       "<table border=\"1\" class=\"dataframe\">\n",
       "  <thead>\n",
       "    <tr style=\"text-align: right;\">\n",
       "      <th></th>\n",
       "      <th>Household Head Sex</th>\n",
       "      <th>Total Number of Family members</th>\n",
       "    </tr>\n",
       "  </thead>\n",
       "  <tbody>\n",
       "    <tr>\n",
       "      <td>16341</td>\n",
       "      <td>Male</td>\n",
       "      <td>2</td>\n",
       "    </tr>\n",
       "    <tr>\n",
       "      <td>34551</td>\n",
       "      <td>Male</td>\n",
       "      <td>5</td>\n",
       "    </tr>\n",
       "    <tr>\n",
       "      <td>4080</td>\n",
       "      <td>Male</td>\n",
       "      <td>6</td>\n",
       "    </tr>\n",
       "    <tr>\n",
       "      <td>6022</td>\n",
       "      <td>Male</td>\n",
       "      <td>6</td>\n",
       "    </tr>\n",
       "    <tr>\n",
       "      <td>1226</td>\n",
       "      <td>Male</td>\n",
       "      <td>7</td>\n",
       "    </tr>\n",
       "    <tr>\n",
       "      <td>...</td>\n",
       "      <td>...</td>\n",
       "      <td>...</td>\n",
       "    </tr>\n",
       "    <tr>\n",
       "      <td>31225</td>\n",
       "      <td>Male</td>\n",
       "      <td>5</td>\n",
       "    </tr>\n",
       "    <tr>\n",
       "      <td>33515</td>\n",
       "      <td>Male</td>\n",
       "      <td>4</td>\n",
       "    </tr>\n",
       "    <tr>\n",
       "      <td>9157</td>\n",
       "      <td>Male</td>\n",
       "      <td>4</td>\n",
       "    </tr>\n",
       "    <tr>\n",
       "      <td>13937</td>\n",
       "      <td>Male</td>\n",
       "      <td>7</td>\n",
       "    </tr>\n",
       "    <tr>\n",
       "      <td>41012</td>\n",
       "      <td>Male</td>\n",
       "      <td>3</td>\n",
       "    </tr>\n",
       "  </tbody>\n",
       "</table>\n",
       "<p>5000 rows × 2 columns</p>\n",
       "</div>"
      ],
      "text/plain": [
       "      Household Head Sex  Total Number of Family members\n",
       "16341               Male                               2\n",
       "34551               Male                               5\n",
       "4080                Male                               6\n",
       "6022                Male                               6\n",
       "1226                Male                               7\n",
       "...                  ...                             ...\n",
       "31225               Male                               5\n",
       "33515               Male                               4\n",
       "9157                Male                               4\n",
       "13937               Male                               7\n",
       "41012               Male                               3\n",
       "\n",
       "[5000 rows x 2 columns]"
      ]
     },
     "execution_count": 64,
     "metadata": {},
     "output_type": "execute_result"
    }
   ],
   "source": [
    "df_male = df_sex[df_sex['Household Head Sex'] == 'Male'].sample(n=5000, replace=False)\n",
    "df_male"
   ]
  },
  {
   "cell_type": "code",
   "execution_count": 65,
   "metadata": {},
   "outputs": [
    {
     "data": {
      "text/plain": [
       "(3.8426, 2.2150409750847917)"
      ]
     },
     "execution_count": 65,
     "metadata": {},
     "output_type": "execute_result"
    }
   ],
   "source": [
    "female_mean = df_female['Total Number of Family members'].mean()\n",
    "female_std = df_female['Total Number of Family members'].std()\n",
    "female_mean, female_std"
   ]
  },
  {
   "cell_type": "code",
   "execution_count": 66,
   "metadata": {},
   "outputs": [
    {
     "data": {
      "text/plain": [
       "(4.8522, 2.195021362938559)"
      ]
     },
     "execution_count": 66,
     "metadata": {},
     "output_type": "execute_result"
    }
   ],
   "source": [
    "male_mean = df_male['Total Number of Family members'].mean()\n",
    "male_std = df_male['Total Number of Family members'].std()\n",
    "male_mean, male_std"
   ]
  },
  {
   "cell_type": "code",
   "execution_count": 67,
   "metadata": {},
   "outputs": [],
   "source": [
    "n_female = 5000\n",
    "n_male = 5000\n",
    "significancia = 0.05\n",
    "confianca = 1 - significancia\n",
    "D_0 = 0"
   ]
  },
  {
   "cell_type": "markdown",
   "metadata": {},
   "source": [
    "H0 = u_male - u_female >= D_0\n",
    "H1 = u_male - u_female < D_0"
   ]
  },
  {
   "cell_type": "code",
   "execution_count": 68,
   "metadata": {},
   "outputs": [
    {
     "data": {
      "text/plain": [
       "0.8224268134757361"
      ]
     },
     "execution_count": 68,
     "metadata": {},
     "output_type": "execute_result"
    }
   ],
   "source": [
    "z_alpha_2 = norm.ppf(confianca) / 2\n",
    "z_alpha_2"
   ]
  },
  {
   "cell_type": "code",
   "execution_count": 69,
   "metadata": {},
   "outputs": [
    {
     "data": {
      "text/plain": [
       "22.892864549162926"
      ]
     },
     "execution_count": 69,
     "metadata": {},
     "output_type": "execute_result"
    }
   ],
   "source": [
    "num = (male_mean - female_mean) - D_0\n",
    "den = np.sqrt((male_std ** 2 / n_male) + (female_std ** 2 / n_female))\n",
    "z = num / den\n",
    "z"
   ]
  },
  {
   "cell_type": "code",
   "execution_count": 70,
   "metadata": {},
   "outputs": [
    {
     "name": "stdout",
     "output_type": "stream",
     "text": [
      "Rejeitar H0, portanto, há diferença entre as médias\n"
     ]
    }
   ],
   "source": [
    "if(z <= -z_alpha_2 or z >= z_alpha_2):\n",
    "    print('Rejeitar H0, portanto, há diferença entre as médias')\n",
    "else:\n",
    "    print('Aceitar H0')"
   ]
  },
  {
   "cell_type": "code",
   "execution_count": 71,
   "metadata": {},
   "outputs": [
    {
     "data": {
      "text/plain": [
       "<matplotlib.axes._subplots.AxesSubplot at 0x2b5c90111c8>"
      ]
     },
     "execution_count": 71,
     "metadata": {},
     "output_type": "execute_result"
    },
    {
     "data": {
      "image/png": "[encoded data removed]",
      "text/plain": [
       "<Figure size 576x288 with 1 Axes>"
      ]
     },
     "metadata": {
      "needs_background": "light"
     },
     "output_type": "display_data"
    }
   ],
   "source": [
    "plt.figure(figsize=(8,4))\n",
    "\n",
    "sns.barplot(data=df, x='Household Head Sex', y='Total Number of Family members')"
   ]
  },
  {
   "cell_type": "markdown",
   "metadata": {},
   "source": [
    "#### Verifique se há diferença de média total de renda da família (Total Household Income) de acordo com a fonte salarial (Main Source of Income)."
   ]
  },
  {
   "cell_type": "code",
   "execution_count": 72,
   "metadata": {},
   "outputs": [
    {
     "data": {
      "text/html": [
       "<div>\n",
       "<style scoped>\n",
       "    .dataframe tbody tr th:only-of-type {\n",
       "        vertical-align: middle;\n",
       "    }\n",
       "\n",
       "    .dataframe tbody tr th {\n",
       "        vertical-align: top;\n",
       "    }\n",
       "\n",
       "    .dataframe thead th {\n",
       "        text-align: right;\n",
       "    }\n",
       "</style>\n",
       "<table border=\"1\" class=\"dataframe\">\n",
       "  <thead>\n",
       "    <tr style=\"text-align: right;\">\n",
       "      <th></th>\n",
       "      <th>Total Household Income</th>\n",
       "      <th>Main Source of Income</th>\n",
       "    </tr>\n",
       "  </thead>\n",
       "  <tbody>\n",
       "    <tr>\n",
       "      <td>0</td>\n",
       "      <td>480332</td>\n",
       "      <td>Wage/Salaries</td>\n",
       "    </tr>\n",
       "    <tr>\n",
       "      <td>1</td>\n",
       "      <td>198235</td>\n",
       "      <td>Wage/Salaries</td>\n",
       "    </tr>\n",
       "    <tr>\n",
       "      <td>2</td>\n",
       "      <td>82785</td>\n",
       "      <td>Wage/Salaries</td>\n",
       "    </tr>\n",
       "    <tr>\n",
       "      <td>3</td>\n",
       "      <td>107589</td>\n",
       "      <td>Wage/Salaries</td>\n",
       "    </tr>\n",
       "    <tr>\n",
       "      <td>4</td>\n",
       "      <td>189322</td>\n",
       "      <td>Wage/Salaries</td>\n",
       "    </tr>\n",
       "    <tr>\n",
       "      <td>...</td>\n",
       "      <td>...</td>\n",
       "      <td>...</td>\n",
       "    </tr>\n",
       "    <tr>\n",
       "      <td>41539</td>\n",
       "      <td>119773</td>\n",
       "      <td>Enterpreneurial Activities</td>\n",
       "    </tr>\n",
       "    <tr>\n",
       "      <td>41540</td>\n",
       "      <td>137320</td>\n",
       "      <td>Enterpreneurial Activities</td>\n",
       "    </tr>\n",
       "    <tr>\n",
       "      <td>41541</td>\n",
       "      <td>133171</td>\n",
       "      <td>Enterpreneurial Activities</td>\n",
       "    </tr>\n",
       "    <tr>\n",
       "      <td>41542</td>\n",
       "      <td>129500</td>\n",
       "      <td>Enterpreneurial Activities</td>\n",
       "    </tr>\n",
       "    <tr>\n",
       "      <td>41543</td>\n",
       "      <td>128598</td>\n",
       "      <td>Enterpreneurial Activities</td>\n",
       "    </tr>\n",
       "  </tbody>\n",
       "</table>\n",
       "<p>41544 rows × 2 columns</p>\n",
       "</div>"
      ],
      "text/plain": [
       "       Total Household Income       Main Source of Income\n",
       "0                      480332               Wage/Salaries\n",
       "1                      198235               Wage/Salaries\n",
       "2                       82785               Wage/Salaries\n",
       "3                      107589               Wage/Salaries\n",
       "4                      189322               Wage/Salaries\n",
       "...                       ...                         ...\n",
       "41539                  119773  Enterpreneurial Activities\n",
       "41540                  137320  Enterpreneurial Activities\n",
       "41541                  133171  Enterpreneurial Activities\n",
       "41542                  129500  Enterpreneurial Activities\n",
       "41543                  128598  Enterpreneurial Activities\n",
       "\n",
       "[41544 rows x 2 columns]"
      ]
     },
     "execution_count": 72,
     "metadata": {},
     "output_type": "execute_result"
    }
   ],
   "source": [
    "df_income = df[['Total Household Income', 'Main Source of Income']]\n",
    "df_income"
   ]
  },
  {
   "cell_type": "code",
   "execution_count": 73,
   "metadata": {},
   "outputs": [
    {
     "data": {
      "text/plain": [
       "Wage/Salaries                 20388\n",
       "Other sources of Income       10836\n",
       "Enterpreneurial Activities    10320\n",
       "Name: Main Source of Income, dtype: int64"
      ]
     },
     "execution_count": 73,
     "metadata": {},
     "output_type": "execute_result"
    }
   ],
   "source": [
    "df_income['Main Source of Income'].value_counts()"
   ]
  },
  {
   "cell_type": "code",
   "execution_count": 74,
   "metadata": {},
   "outputs": [],
   "source": [
    "wage_salaries = df_income[df_income['Main Source of Income'] == 'Wage/Salaries'].sample(n=5000, replace=False)"
   ]
  },
  {
   "cell_type": "code",
   "execution_count": 75,
   "metadata": {},
   "outputs": [],
   "source": [
    "others_df = df_income[(df_income['Main Source of Income'] == 'Other sources of Income') | (df_income['Main Source of Income'] == 'Enterpreneurial Activities')].sample(n=5000, replace=False)"
   ]
  },
  {
   "cell_type": "code",
   "execution_count": 76,
   "metadata": {},
   "outputs": [
    {
     "data": {
      "text/plain": [
       "(273649.7788, 272882.93036199716)"
      ]
     },
     "execution_count": 76,
     "metadata": {},
     "output_type": "execute_result"
    }
   ],
   "source": [
    "wage_salaries_mean = wage_salaries['Total Household Income'].mean()\n",
    "wage_salaries_std = wage_salaries['Total Household Income'].std()\n",
    "wage_salaries_mean, wage_salaries_std"
   ]
  },
  {
   "cell_type": "code",
   "execution_count": 77,
   "metadata": {},
   "outputs": [
    {
     "data": {
      "text/plain": [
       "(228676.351, 346094.83673374663)"
      ]
     },
     "execution_count": 77,
     "metadata": {},
     "output_type": "execute_result"
    }
   ],
   "source": [
    "others_mean = others_df['Total Household Income'].mean()\n",
    "others_std = others_df['Total Household Income'].std()\n",
    "others_mean, others_std"
   ]
  },
  {
   "cell_type": "code",
   "execution_count": 78,
   "metadata": {},
   "outputs": [],
   "source": [
    "n_wage_salaries = 5000\n",
    "n_others = 5000\n",
    "significancia = 0.05\n",
    "confianca =  1 - significancia\n",
    "D_0 = 0"
   ]
  },
  {
   "cell_type": "markdown",
   "metadata": {},
   "source": [
    "H0 = u_wage_salaries - u_others >= D_0\n",
    "H1 = u_wage_salaries - u_others < D_0"
   ]
  },
  {
   "cell_type": "code",
   "execution_count": 79,
   "metadata": {},
   "outputs": [
    {
     "data": {
      "text/plain": [
       "0.8224268134757361"
      ]
     },
     "execution_count": 79,
     "metadata": {},
     "output_type": "execute_result"
    }
   ],
   "source": [
    "z_alpha_2 = norm.ppf(confianca) / 2\n",
    "z_alpha_2"
   ]
  },
  {
   "cell_type": "code",
   "execution_count": 80,
   "metadata": {},
   "outputs": [
    {
     "data": {
      "text/plain": [
       "7.215461841407246"
      ]
     },
     "execution_count": 80,
     "metadata": {},
     "output_type": "execute_result"
    }
   ],
   "source": [
    "num = (wage_salaries_mean - others_mean) - D_0\n",
    "den = np.sqrt((wage_salaries_std ** 2 / n_wage_salaries) + (others_std ** 2 / n_others))\n",
    "z = num / den\n",
    "z"
   ]
  },
  {
   "cell_type": "code",
   "execution_count": 81,
   "metadata": {},
   "outputs": [
    {
     "name": "stdout",
     "output_type": "stream",
     "text": [
      "Rejeitar H0, portanto, há diferença entre as médias\n"
     ]
    }
   ],
   "source": [
    "if(z <= -z_alpha_2 or z >= z_alpha_2):\n",
    "    print('Rejeitar H0, portanto, há diferença entre as médias')\n",
    "else:\n",
    "    print('Aceitar H0')"
   ]
  },
  {
   "cell_type": "code",
   "execution_count": 82,
   "metadata": {},
   "outputs": [
    {
     "data": {
      "text/plain": [
       "<matplotlib.axes._subplots.AxesSubplot at 0x2b5d17cf4c8>"
      ]
     },
     "execution_count": 82,
     "metadata": {},
     "output_type": "execute_result"
    },
    {
     "data": {
      "image/png": "[encoded data removed]",
      "text/plain": [
       "<Figure size 576x288 with 1 Axes>"
      ]
     },
     "metadata": {
      "needs_background": "light"
     },
     "output_type": "display_data"
    }
   ],
   "source": [
    "plt.figure(figsize=(8,4))\n",
    "\n",
    "sns.barplot(data=df, x='Main Source of Income', y='Total Number of Family members')"
   ]
  },
  {
   "cell_type": "markdown",
   "metadata": {},
   "source": [
    "#### Milestone 3 - Previsão de Renda Com Regressão Linear\n",
    "Usando Regressão Linear, crie um modelo de previsão de renda de forma a minimizar o erro. Considere 70% dos dados para treinar o modelo, e 30% para testá-lo. Por fim, utilize as métricas de avaliação do modelo que foram estudadas para validá-lo."
   ]
  },
  {
   "cell_type": "code",
   "execution_count": 205,
   "metadata": {},
   "outputs": [
    {
     "data": {
      "text/html": [
       "<div>\n",
       "<style scoped>\n",
       "    .dataframe tbody tr th:only-of-type {\n",
       "        vertical-align: middle;\n",
       "    }\n",
       "\n",
       "    .dataframe tbody tr th {\n",
       "        vertical-align: top;\n",
       "    }\n",
       "\n",
       "    .dataframe thead th {\n",
       "        text-align: right;\n",
       "    }\n",
       "</style>\n",
       "<table border=\"1\" class=\"dataframe\">\n",
       "  <thead>\n",
       "    <tr style=\"text-align: right;\">\n",
       "      <th></th>\n",
       "      <th>Total Household Income</th>\n",
       "      <th>Region</th>\n",
       "      <th>Total Food Expenditure</th>\n",
       "      <th>Main Source of Income</th>\n",
       "      <th>Agricultural Household indicator</th>\n",
       "      <th>Bread and Cereals Expenditure</th>\n",
       "      <th>Total Rice Expenditure</th>\n",
       "      <th>Meat Expenditure</th>\n",
       "      <th>Total Fish and  marine products Expenditure</th>\n",
       "      <th>Fruit Expenditure</th>\n",
       "      <th>...</th>\n",
       "      <th>Number of Refrigerator/Freezer</th>\n",
       "      <th>Number of Washing Machine</th>\n",
       "      <th>Number of Airconditioner</th>\n",
       "      <th>Number of Car, Jeep, Van</th>\n",
       "      <th>Number of Landline/wireless telephones</th>\n",
       "      <th>Number of Cellular phone</th>\n",
       "      <th>Number of Personal Computer</th>\n",
       "      <th>Number of Stove with Oven/Gas Range</th>\n",
       "      <th>Number of Motorized Banca</th>\n",
       "      <th>Number of Motorcycle/Tricycle</th>\n",
       "    </tr>\n",
       "  </thead>\n",
       "  <tbody>\n",
       "    <tr>\n",
       "      <td>0</td>\n",
       "      <td>480332</td>\n",
       "      <td>CAR</td>\n",
       "      <td>117848</td>\n",
       "      <td>Wage/Salaries</td>\n",
       "      <td>0</td>\n",
       "      <td>42140</td>\n",
       "      <td>38300</td>\n",
       "      <td>24676</td>\n",
       "      <td>16806</td>\n",
       "      <td>3325</td>\n",
       "      <td>...</td>\n",
       "      <td>1</td>\n",
       "      <td>1</td>\n",
       "      <td>0</td>\n",
       "      <td>0</td>\n",
       "      <td>0</td>\n",
       "      <td>2</td>\n",
       "      <td>1</td>\n",
       "      <td>0</td>\n",
       "      <td>0</td>\n",
       "      <td>1</td>\n",
       "    </tr>\n",
       "    <tr>\n",
       "      <td>1</td>\n",
       "      <td>198235</td>\n",
       "      <td>CAR</td>\n",
       "      <td>67766</td>\n",
       "      <td>Wage/Salaries</td>\n",
       "      <td>0</td>\n",
       "      <td>17329</td>\n",
       "      <td>13008</td>\n",
       "      <td>17434</td>\n",
       "      <td>11073</td>\n",
       "      <td>2035</td>\n",
       "      <td>...</td>\n",
       "      <td>0</td>\n",
       "      <td>1</td>\n",
       "      <td>0</td>\n",
       "      <td>0</td>\n",
       "      <td>0</td>\n",
       "      <td>3</td>\n",
       "      <td>1</td>\n",
       "      <td>0</td>\n",
       "      <td>0</td>\n",
       "      <td>2</td>\n",
       "    </tr>\n",
       "    <tr>\n",
       "      <td>2</td>\n",
       "      <td>82785</td>\n",
       "      <td>CAR</td>\n",
       "      <td>61609</td>\n",
       "      <td>Wage/Salaries</td>\n",
       "      <td>1</td>\n",
       "      <td>34182</td>\n",
       "      <td>32001</td>\n",
       "      <td>7783</td>\n",
       "      <td>2590</td>\n",
       "      <td>1730</td>\n",
       "      <td>...</td>\n",
       "      <td>0</td>\n",
       "      <td>0</td>\n",
       "      <td>0</td>\n",
       "      <td>0</td>\n",
       "      <td>0</td>\n",
       "      <td>0</td>\n",
       "      <td>0</td>\n",
       "      <td>0</td>\n",
       "      <td>0</td>\n",
       "      <td>0</td>\n",
       "    </tr>\n",
       "    <tr>\n",
       "      <td>3</td>\n",
       "      <td>107589</td>\n",
       "      <td>CAR</td>\n",
       "      <td>78189</td>\n",
       "      <td>Wage/Salaries</td>\n",
       "      <td>0</td>\n",
       "      <td>34030</td>\n",
       "      <td>28659</td>\n",
       "      <td>10914</td>\n",
       "      <td>10812</td>\n",
       "      <td>690</td>\n",
       "      <td>...</td>\n",
       "      <td>0</td>\n",
       "      <td>0</td>\n",
       "      <td>0</td>\n",
       "      <td>0</td>\n",
       "      <td>0</td>\n",
       "      <td>1</td>\n",
       "      <td>0</td>\n",
       "      <td>0</td>\n",
       "      <td>0</td>\n",
       "      <td>0</td>\n",
       "    </tr>\n",
       "    <tr>\n",
       "      <td>4</td>\n",
       "      <td>189322</td>\n",
       "      <td>CAR</td>\n",
       "      <td>94625</td>\n",
       "      <td>Wage/Salaries</td>\n",
       "      <td>0</td>\n",
       "      <td>34820</td>\n",
       "      <td>30167</td>\n",
       "      <td>18391</td>\n",
       "      <td>11309</td>\n",
       "      <td>1395</td>\n",
       "      <td>...</td>\n",
       "      <td>1</td>\n",
       "      <td>0</td>\n",
       "      <td>0</td>\n",
       "      <td>0</td>\n",
       "      <td>0</td>\n",
       "      <td>3</td>\n",
       "      <td>0</td>\n",
       "      <td>0</td>\n",
       "      <td>0</td>\n",
       "      <td>1</td>\n",
       "    </tr>\n",
       "  </tbody>\n",
       "</table>\n",
       "<p>5 rows × 60 columns</p>\n",
       "</div>"
      ],
      "text/plain": [
       "   Total Household Income Region  Total Food Expenditure  \\\n",
       "0                  480332    CAR                  117848   \n",
       "1                  198235    CAR                   67766   \n",
       "2                   82785    CAR                   61609   \n",
       "3                  107589    CAR                   78189   \n",
       "4                  189322    CAR                   94625   \n",
       "\n",
       "  Main Source of Income  Agricultural Household indicator  \\\n",
       "0         Wage/Salaries                                 0   \n",
       "1         Wage/Salaries                                 0   \n",
       "2         Wage/Salaries                                 1   \n",
       "3         Wage/Salaries                                 0   \n",
       "4         Wage/Salaries                                 0   \n",
       "\n",
       "   Bread and Cereals Expenditure  Total Rice Expenditure  Meat Expenditure  \\\n",
       "0                          42140                   38300             24676   \n",
       "1                          17329                   13008             17434   \n",
       "2                          34182                   32001              7783   \n",
       "3                          34030                   28659             10914   \n",
       "4                          34820                   30167             18391   \n",
       "\n",
       "   Total Fish and  marine products Expenditure  Fruit Expenditure  ...  \\\n",
       "0                                        16806               3325  ...   \n",
       "1                                        11073               2035  ...   \n",
       "2                                         2590               1730  ...   \n",
       "3                                        10812                690  ...   \n",
       "4                                        11309               1395  ...   \n",
       "\n",
       "   Number of Refrigerator/Freezer  Number of Washing Machine  \\\n",
       "0                               1                          1   \n",
       "1                               0                          1   \n",
       "2                               0                          0   \n",
       "3                               0                          0   \n",
       "4                               1                          0   \n",
       "\n",
       "   Number of Airconditioner  Number of Car, Jeep, Van  \\\n",
       "0                         0                         0   \n",
       "1                         0                         0   \n",
       "2                         0                         0   \n",
       "3                         0                         0   \n",
       "4                         0                         0   \n",
       "\n",
       "   Number of Landline/wireless telephones  Number of Cellular phone  \\\n",
       "0                                       0                         2   \n",
       "1                                       0                         3   \n",
       "2                                       0                         0   \n",
       "3                                       0                         1   \n",
       "4                                       0                         3   \n",
       "\n",
       "   Number of Personal Computer  Number of Stove with Oven/Gas Range  \\\n",
       "0                            1                                    0   \n",
       "1                            1                                    0   \n",
       "2                            0                                    0   \n",
       "3                            0                                    0   \n",
       "4                            0                                    0   \n",
       "\n",
       "   Number of Motorized Banca  Number of Motorcycle/Tricycle  \n",
       "0                          0                              1  \n",
       "1                          0                              2  \n",
       "2                          0                              0  \n",
       "3                          0                              0  \n",
       "4                          0                              1  \n",
       "\n",
       "[5 rows x 60 columns]"
      ]
     },
     "execution_count": 205,
     "metadata": {},
     "output_type": "execute_result"
    }
   ],
   "source": [
    "df.head()"
   ]
  },
  {
   "cell_type": "code",
   "execution_count": 206,
   "metadata": {},
   "outputs": [],
   "source": [
    "X = df.drop(['Total Household Income'], axis=1).copy(deep=True) # Variáveis explicativas\n",
    "y = df['Total Household Income'].copy(deep=True)                # Variável resposta"
   ]
  },
  {
   "cell_type": "code",
   "execution_count": 207,
   "metadata": {},
   "outputs": [
    {
     "data": {
      "text/plain": [
       "Household Head Occupation                        7536\n",
       "Household Head Class of Worker                   7536\n",
       "Household Head Job or Business Indicator            0\n",
       "Household Head Marital Status                       0\n",
       "Household Head Age                                  0\n",
       "Household Head Sex                                  0\n",
       "Total Income from Entrepreneurial Acitivites        0\n",
       "Crop Farming and Gardening expenses                 0\n",
       "Special Occasions Expenditure                       0\n",
       "Miscellaneous Goods and Services Expenditure        0\n",
       "Education Expenditure                               0\n",
       "Communication Expenditure                           0\n",
       "Transportation Expenditure                          0\n",
       "Medical Care Expenditure                            0\n",
       "Imputed House Rental Value                          0\n",
       "Housing and water Expenditure                       0\n",
       "Clothing, Footwear and Other Wear Expenditure       0\n",
       "Tobacco Expenditure                                 0\n",
       "Alcoholic Beverages Expenditure                     0\n",
       "Restaurant and hotels Expenditure                   0\n",
       "Vegetables Expenditure                              0\n",
       "Fruit Expenditure                                   0\n",
       "Total Fish and  marine products Expenditure         0\n",
       "Meat Expenditure                                    0\n",
       "Total Rice Expenditure                              0\n",
       "Bread and Cereals Expenditure                       0\n",
       "Agricultural Household indicator                    0\n",
       "Main Source of Income                               0\n",
       "Total Food Expenditure                              0\n",
       "Household Head Highest Grade Completed              0\n",
       "Number of Motorcycle/Tricycle                       0\n",
       "Number of Motorized Banca                           0\n",
       "Type of Household                                   0\n",
       "Number of Stove with Oven/Gas Range                 0\n",
       "Number of Personal Computer                         0\n",
       "Number of Cellular phone                            0\n",
       "Number of Landline/wireless telephones              0\n",
       "Number of Car, Jeep, Van                            0\n",
       "Number of Airconditioner                            0\n",
       "Number of Washing Machine                           0\n",
       "Number of Refrigerator/Freezer                      0\n",
       "Number of Component/Stereo set                      0\n",
       "Number of CD/VCD/DVD                                0\n",
       "Number of Television                                0\n",
       "Main Source of Water Supply                         0\n",
       "Electricity                                         0\n",
       "Toilet Facilities                                   0\n",
       "Tenure Status                                       0\n",
       "Number of bedrooms                                  0\n",
       "House Age                                           0\n",
       "House Floor Area                                    0\n",
       "Type of Walls                                       0\n",
       "Type of Roof                                        0\n",
       "Type of Building/House                              0\n",
       "Total number of family members employed             0\n",
       "Members with age 5 - 17 years old                   0\n",
       "Members with age less than 5 year old               0\n",
       "Total Number of Family members                      0\n",
       "Region                                              0\n",
       "dtype: int64"
      ]
     },
     "execution_count": 207,
     "metadata": {},
     "output_type": "execute_result"
    }
   ],
   "source": [
    "# Verificando colunas com valores nulos que precisarão ser tratados de alguma forma\n",
    "X.isnull().sum().sort_values(ascending=False)"
   ]
  },
  {
   "cell_type": "code",
   "execution_count": 208,
   "metadata": {},
   "outputs": [
    {
     "data": {
      "text/plain": [
       "Farmhands and laborers                                                                 0.102270\n",
       "Rice farmers                                                                           0.083774\n",
       "General managers/managing proprietors in wholesale and retail trade                    0.059633\n",
       "General managers/managing proprietors in transportation, storage and communications    0.056810\n",
       "Corn farmers                                                                           0.050694\n",
       "                                                                                         ...   \n",
       "Insulation workers                                                                     0.000029\n",
       "Fiber preparers                                                                        0.000029\n",
       "Wood treaters                                                                          0.000029\n",
       "Vehicle, window and related cleaners                                                   0.000029\n",
       "Metal drawers and extruders                                                            0.000029\n",
       "Name: Household Head Occupation, Length: 378, dtype: float64"
      ]
     },
     "execution_count": 208,
     "metadata": {},
     "output_type": "execute_result"
    }
   ],
   "source": [
    "# Verificando Household Head Occupation\n",
    "X['Household Head Occupation'].value_counts(normalize=True)"
   ]
  },
  {
   "cell_type": "code",
   "execution_count": 209,
   "metadata": {},
   "outputs": [],
   "source": [
    "# Coluna tem valores nulos e categorias demais com pouca representatividade portanto irei dropar a coluna\n",
    "X = X.drop('Household Head Occupation', axis=1)"
   ]
  },
  {
   "cell_type": "code",
   "execution_count": 210,
   "metadata": {},
   "outputs": [
    {
     "data": {
      "text/plain": [
       "Self-employed wihout any employee                             0.404787\n",
       "Worked for private establishment                              0.403758\n",
       "Worked for government/government corporation                  0.082922\n",
       "Employer in own family-operated farm or business              0.075894\n",
       "Worked for private household                                  0.023847\n",
       "Worked without pay in own family-operated farm or business    0.008380\n",
       "Worked with pay in own family-operated farm or business       0.000412\n",
       "Name: Household Head Class of Worker, dtype: float64"
      ]
     },
     "execution_count": 210,
     "metadata": {},
     "output_type": "execute_result"
    }
   ],
   "source": [
    "X['Household Head Class of Worker'].value_counts(normalize=True)"
   ]
  },
  {
   "cell_type": "code",
   "execution_count": 211,
   "metadata": {},
   "outputs": [],
   "source": [
    "# Esta categoria pode ser mais util porém vou dropa-la inicialmente\n",
    "X = X.drop('Household Head Class of Worker', axis=1)"
   ]
  },
  {
   "cell_type": "code",
   "execution_count": 212,
   "metadata": {},
   "outputs": [
    {
     "data": {
      "text/plain": [
       "Region                                               0\n",
       "Total Food Expenditure                               0\n",
       "Main Source of Income                                0\n",
       "Agricultural Household indicator                 28106\n",
       "Bread and Cereals Expenditure                       15\n",
       "Total Rice Expenditure                             715\n",
       "Meat Expenditure                                   346\n",
       "Total Fish and  marine products Expenditure        147\n",
       "Fruit Expenditure                                   72\n",
       "Vegetables Expenditure                             205\n",
       "Restaurant and hotels Expenditure                 3792\n",
       "Alcoholic Beverages Expenditure                  16830\n",
       "Tobacco Expenditure                              19449\n",
       "Clothing, Footwear and Other Wear Expenditure      521\n",
       "Housing and water Expenditure                        0\n",
       "Imputed House Rental Value                        1895\n",
       "Medical Care Expenditure                          1478\n",
       "Transportation Expenditure                         309\n",
       "Communication Expenditure                         4204\n",
       "Education Expenditure                            12378\n",
       "Miscellaneous Goods and Services Expenditure         6\n",
       "Special Occasions Expenditure                    13139\n",
       "Crop Farming and Gardening expenses              29444\n",
       "Total Income from Entrepreneurial Acitivites     14506\n",
       "Household Head Sex                                   0\n",
       "Household Head Age                                   0\n",
       "Household Head Marital Status                        0\n",
       "Household Head Highest Grade Completed               0\n",
       "Household Head Job or Business Indicator             0\n",
       "Type of Household                                    0\n",
       "Total Number of Family members                       0\n",
       "Members with age less than 5 year old            28705\n",
       "Members with age 5 - 17 years old                14802\n",
       "Total number of family members employed          11494\n",
       "Type of Building/House                               0\n",
       "Type of Roof                                         0\n",
       "Type of Walls                                        0\n",
       "House Floor Area                                     0\n",
       "House Age                                          285\n",
       "Number of bedrooms                                3930\n",
       "Tenure Status                                        0\n",
       "Toilet Facilities                                    0\n",
       "Electricity                                       4536\n",
       "Main Source of Water Supply                          0\n",
       "Number of Television                             10717\n",
       "Number of CD/VCD/DVD                             24621\n",
       "Number of Component/Stereo set                   35058\n",
       "Number of Refrigerator/Freezer                   25990\n",
       "Number of Washing Machine                        28484\n",
       "Number of Airconditioner                         37457\n",
       "Number of Car, Jeep, Van                         38876\n",
       "Number of Landline/wireless telephones           39302\n",
       "Number of Cellular phone                          6939\n",
       "Number of Personal Computer                      32988\n",
       "Number of Stove with Oven/Gas Range              36101\n",
       "Number of Motorized Banca                        41055\n",
       "Number of Motorcycle/Tricycle                    31282\n",
       "dtype: int64"
      ]
     },
     "execution_count": 212,
     "metadata": {},
     "output_type": "execute_result"
    }
   ],
   "source": [
    "# Verificando quantidade de linhas com valor zero por coluna\n",
    "(X == 0).sum()"
   ]
  },
  {
   "cell_type": "code",
   "execution_count": 213,
   "metadata": {},
   "outputs": [
    {
     "data": {
      "text/plain": [
       "Index(['Region', 'Main Source of Income', 'Agricultural Household indicator',\n",
       "       'Imputed House Rental Value', 'Crop Farming and Gardening expenses',\n",
       "       'Total Income from Entrepreneurial Acitivites', 'Household Head Sex',\n",
       "       'Household Head Age', 'Household Head Marital Status',\n",
       "       'Household Head Highest Grade Completed',\n",
       "       'Household Head Job or Business Indicator', 'Type of Household',\n",
       "       'Total Number of Family members',\n",
       "       'Members with age less than 5 year old',\n",
       "       'Members with age 5 - 17 years old',\n",
       "       'Total number of family members employed', 'Type of Building/House',\n",
       "       'Type of Roof', 'Type of Walls', 'House Floor Area', 'House Age',\n",
       "       'Number of bedrooms', 'Tenure Status', 'Toilet Facilities',\n",
       "       'Electricity', 'Main Source of Water Supply', 'Number of Television',\n",
       "       'Number of CD/VCD/DVD', 'Number of Component/Stereo set',\n",
       "       'Number of Refrigerator/Freezer', 'Number of Washing Machine',\n",
       "       'Number of Airconditioner', 'Number of Car, Jeep, Van',\n",
       "       'Number of Landline/wireless telephones', 'Number of Cellular phone',\n",
       "       'Number of Personal Computer', 'Number of Stove with Oven/Gas Range',\n",
       "       'Number of Motorized Banca', 'Number of Motorcycle/Tricycle'],\n",
       "      dtype='object')"
      ]
     },
     "execution_count": 213,
     "metadata": {},
     "output_type": "execute_result"
    }
   ],
   "source": [
    "# Incialmente removerei colunas com a palavra expenditure\n",
    "mask = X.columns.str.contains('expenditure', case=False)\n",
    "X = X.drop(X.columns[mask], axis = 1)\n",
    "X.columns"
   ]
  },
  {
   "cell_type": "code",
   "execution_count": 214,
   "metadata": {},
   "outputs": [
    {
     "data": {
      "text/plain": [
       "Index(['Region', 'Main Source of Income', 'Household Head Sex',\n",
       "       'Household Head Marital Status',\n",
       "       'Household Head Highest Grade Completed',\n",
       "       'Household Head Job or Business Indicator', 'Type of Household',\n",
       "       'Type of Building/House', 'Type of Roof', 'Type of Walls',\n",
       "       'Tenure Status', 'Toilet Facilities', 'Main Source of Water Supply'],\n",
       "      dtype='object')"
      ]
     },
     "execution_count": 214,
     "metadata": {},
     "output_type": "execute_result"
    }
   ],
   "source": [
    "# Verificando colunas categóricas pois precisarão serem tratadas\n",
    "mask = X.dtypes == object\n",
    "col_categoricas = X.columns[mask]\n",
    "col_categoricas"
   ]
  },
  {
   "cell_type": "code",
   "execution_count": 215,
   "metadata": {},
   "outputs": [],
   "source": [
    "def mapping(dataframe, coluna):\n",
    "    col_mapping = {c[1]:c[0] for c in enumerate(dataframe[coluna].unique())}\n",
    "    dataframe[coluna] = dataframe[coluna].map(col_mapping)\n",
    "    return dataframe"
   ]
  },
  {
   "cell_type": "code",
   "execution_count": 216,
   "metadata": {},
   "outputs": [],
   "source": [
    "for coluna in col_categoricas:\n",
    "    X = mapping(X, coluna)"
   ]
  },
  {
   "cell_type": "code",
   "execution_count": 217,
   "metadata": {},
   "outputs": [
    {
     "data": {
      "text/plain": [
       "Index([], dtype='object')"
      ]
     },
     "execution_count": 217,
     "metadata": {},
     "output_type": "execute_result"
    }
   ],
   "source": [
    "# Verificando colunas categóricas pois precisarão serem tratadas\n",
    "mask = X.dtypes == object\n",
    "X.columns[mask]"
   ]
  },
  {
   "cell_type": "code",
   "execution_count": 218,
   "metadata": {},
   "outputs": [
    {
     "data": {
      "text/plain": [
       "<matplotlib.axes._subplots.AxesSubplot at 0x2b5ca6911c8>"
      ]
     },
     "execution_count": 218,
     "metadata": {},
     "output_type": "execute_result"
    },
    {
     "data": {
      "image/png": "[encoded data removed]",
      "text/plain": [
       "<Figure size 864x720 with 2 Axes>"
      ]
     },
     "metadata": {},
     "output_type": "display_data"
    }
   ],
   "source": [
    "plt.figure(figsize=(12,10))\n",
    "sns.heatmap(X.drop(col_categoricas, axis=1).corr(), annot=True, cmap='coolwarm')"
   ]
  },
  {
   "cell_type": "code",
   "execution_count": 219,
   "metadata": {},
   "outputs": [
    {
     "name": "stderr",
     "output_type": "stream",
     "text": [
      "C:\\ProgramData\\Anaconda3\\lib\\site-packages\\numpy\\core\\fromnumeric.py:2389: FutureWarning: Method .ptp is deprecated and will be removed in a future version. Use numpy.ptp instead.\n",
      "  return ptp(axis=axis, out=out, **kwargs)\n"
     ]
    },
    {
     "data": {
      "text/html": [
       "<table class=\"simpletable\">\n",
       "<caption>OLS Regression Results</caption>\n",
       "<tr>\n",
       "  <th>Dep. Variable:</th>    <td>Total Household Income</td> <th>  R-squared:         </th>  <td>   0.758</td>  \n",
       "</tr>\n",
       "<tr>\n",
       "  <th>Model:</th>                      <td>OLS</td>          <th>  Adj. R-squared:    </th>  <td>   0.758</td>  \n",
       "</tr>\n",
       "<tr>\n",
       "  <th>Method:</th>                <td>Least Squares</td>     <th>  F-statistic:       </th>  <td>   2336.</td>  \n",
       "</tr>\n",
       "<tr>\n",
       "  <th>Date:</th>                <td>Wed, 24 Mar 2021</td>    <th>  Prob (F-statistic):</th>   <td>  0.00</td>   \n",
       "</tr>\n",
       "<tr>\n",
       "  <th>Time:</th>                    <td>23:25:39</td>        <th>  Log-Likelihood:    </th> <td>-3.8571e+05</td>\n",
       "</tr>\n",
       "<tr>\n",
       "  <th>No. Observations:</th>         <td> 29080</td>         <th>  AIC:               </th>  <td>7.715e+05</td> \n",
       "</tr>\n",
       "<tr>\n",
       "  <th>Df Residuals:</th>             <td> 29040</td>         <th>  BIC:               </th>  <td>7.718e+05</td> \n",
       "</tr>\n",
       "<tr>\n",
       "  <th>Df Model:</th>                 <td>    39</td>         <th>                     </th>      <td> </td>     \n",
       "</tr>\n",
       "<tr>\n",
       "  <th>Covariance Type:</th>         <td>nonrobust</td>       <th>                     </th>      <td> </td>     \n",
       "</tr>\n",
       "</table>\n",
       "<table class=\"simpletable\">\n",
       "<tr>\n",
       "                        <td></td>                          <th>coef</th>     <th>std err</th>      <th>t</th>      <th>P>|t|</th>  <th>[0.025</th>    <th>0.975]</th>  \n",
       "</tr>\n",
       "<tr>\n",
       "  <th>const</th>                                        <td> 3.066e+04</td> <td> 6931.232</td> <td>    4.423</td> <td> 0.000</td> <td> 1.71e+04</td> <td> 4.42e+04</td>\n",
       "</tr>\n",
       "<tr>\n",
       "  <th>Region</th>                                       <td>  730.7333</td> <td>  191.211</td> <td>    3.822</td> <td> 0.000</td> <td>  355.950</td> <td> 1105.516</td>\n",
       "</tr>\n",
       "<tr>\n",
       "  <th>Main Source of Income</th>                        <td>-4.238e+04</td> <td> 1272.045</td> <td>  -33.313</td> <td> 0.000</td> <td>-4.49e+04</td> <td>-3.99e+04</td>\n",
       "</tr>\n",
       "<tr>\n",
       "  <th>Agricultural Household indicator</th>             <td> 3392.5783</td> <td> 1345.463</td> <td>    2.521</td> <td> 0.012</td> <td>  755.409</td> <td> 6029.748</td>\n",
       "</tr>\n",
       "<tr>\n",
       "  <th>Imputed House Rental Value</th>                   <td>    1.5704</td> <td>    0.027</td> <td>   58.452</td> <td> 0.000</td> <td>    1.518</td> <td>    1.623</td>\n",
       "</tr>\n",
       "<tr>\n",
       "  <th>Crop Farming and Gardening expenses</th>          <td>    0.1298</td> <td>    0.020</td> <td>    6.393</td> <td> 0.000</td> <td>    0.090</td> <td>    0.170</td>\n",
       "</tr>\n",
       "<tr>\n",
       "  <th>Total Income from Entrepreneurial Acitivites</th> <td>    0.8604</td> <td>    0.007</td> <td>  122.762</td> <td> 0.000</td> <td>    0.847</td> <td>    0.874</td>\n",
       "</tr>\n",
       "<tr>\n",
       "  <th>Household Head Sex</th>                           <td> -1.57e+04</td> <td> 2386.301</td> <td>   -6.581</td> <td> 0.000</td> <td>-2.04e+04</td> <td> -1.1e+04</td>\n",
       "</tr>\n",
       "<tr>\n",
       "  <th>Household Head Age</th>                           <td>  160.7882</td> <td>   75.569</td> <td>    2.128</td> <td> 0.033</td> <td>   12.670</td> <td>  308.906</td>\n",
       "</tr>\n",
       "<tr>\n",
       "  <th>Household Head Marital Status</th>                <td>-5677.5051</td> <td> 1682.237</td> <td>   -3.375</td> <td> 0.001</td> <td>-8974.766</td> <td>-2380.245</td>\n",
       "</tr>\n",
       "<tr>\n",
       "  <th>Household Head Highest Grade Completed</th>       <td>  888.5236</td> <td>  108.099</td> <td>    8.220</td> <td> 0.000</td> <td>  676.646</td> <td> 1100.402</td>\n",
       "</tr>\n",
       "<tr>\n",
       "  <th>Household Head Job or Business Indicator</th>     <td> 2.363e+04</td> <td> 2474.577</td> <td>    9.551</td> <td> 0.000</td> <td> 1.88e+04</td> <td> 2.85e+04</td>\n",
       "</tr>\n",
       "<tr>\n",
       "  <th>Type of Household</th>                            <td> -231.4665</td> <td> 2021.936</td> <td>   -0.114</td> <td> 0.909</td> <td>-4194.554</td> <td> 3731.621</td>\n",
       "</tr>\n",
       "<tr>\n",
       "  <th>Total Number of Family members</th>               <td> 4544.4873</td> <td>  810.979</td> <td>    5.604</td> <td> 0.000</td> <td> 2954.932</td> <td> 6134.043</td>\n",
       "</tr>\n",
       "<tr>\n",
       "  <th>Members with age less than 5 year old</th>        <td>-2292.6742</td> <td> 1604.022</td> <td>   -1.429</td> <td> 0.153</td> <td>-5436.630</td> <td>  851.282</td>\n",
       "</tr>\n",
       "<tr>\n",
       "  <th>Members with age 5 - 17 years old</th>            <td>-4037.8323</td> <td>  993.786</td> <td>   -4.063</td> <td> 0.000</td> <td>-5985.698</td> <td>-2089.967</td>\n",
       "</tr>\n",
       "<tr>\n",
       "  <th>Total number of family members employed</th>      <td> 3.098e+04</td> <td>  988.010</td> <td>   31.356</td> <td> 0.000</td> <td>  2.9e+04</td> <td> 3.29e+04</td>\n",
       "</tr>\n",
       "<tr>\n",
       "  <th>Type of Building/House</th>                       <td> 9823.5284</td> <td> 1555.315</td> <td>    6.316</td> <td> 0.000</td> <td> 6775.039</td> <td> 1.29e+04</td>\n",
       "</tr>\n",
       "<tr>\n",
       "  <th>Type of Roof</th>                                 <td> -459.0566</td> <td> 1368.529</td> <td>   -0.335</td> <td> 0.737</td> <td>-3141.435</td> <td> 2223.322</td>\n",
       "</tr>\n",
       "<tr>\n",
       "  <th>Type of Walls</th>                                <td>-2527.2209</td> <td> 1152.264</td> <td>   -2.193</td> <td> 0.028</td> <td>-4785.711</td> <td> -268.731</td>\n",
       "</tr>\n",
       "<tr>\n",
       "  <th>House Floor Area</th>                             <td>   94.4509</td> <td>   17.580</td> <td>    5.373</td> <td> 0.000</td> <td>   59.994</td> <td>  128.908</td>\n",
       "</tr>\n",
       "<tr>\n",
       "  <th>House Age</th>                                    <td>   42.3895</td> <td>   61.352</td> <td>    0.691</td> <td> 0.490</td> <td>  -77.864</td> <td>  162.643</td>\n",
       "</tr>\n",
       "<tr>\n",
       "  <th>Number of bedrooms</th>                           <td> 7801.8054</td> <td>  928.874</td> <td>    8.399</td> <td> 0.000</td> <td> 5981.170</td> <td> 9622.441</td>\n",
       "</tr>\n",
       "<tr>\n",
       "  <th>Tenure Status</th>                                <td> 5194.0907</td> <td>  624.725</td> <td>    8.314</td> <td> 0.000</td> <td> 3969.600</td> <td> 6418.581</td>\n",
       "</tr>\n",
       "<tr>\n",
       "  <th>Toilet Facilities</th>                            <td>-1091.9545</td> <td>  553.144</td> <td>   -1.974</td> <td> 0.048</td> <td>-2176.142</td> <td>   -7.767</td>\n",
       "</tr>\n",
       "<tr>\n",
       "  <th>Electricity</th>                                  <td>-1.587e+04</td> <td> 3099.137</td> <td>   -5.120</td> <td> 0.000</td> <td>-2.19e+04</td> <td>-9793.743</td>\n",
       "</tr>\n",
       "<tr>\n",
       "  <th>Main Source of Water Supply</th>                  <td>-1033.0936</td> <td>  333.197</td> <td>   -3.101</td> <td> 0.002</td> <td>-1686.176</td> <td> -380.011</td>\n",
       "</tr>\n",
       "<tr>\n",
       "  <th>Number of Television</th>                         <td> 1.343e+04</td> <td> 1789.788</td> <td>    7.504</td> <td> 0.000</td> <td> 9922.476</td> <td> 1.69e+04</td>\n",
       "</tr>\n",
       "<tr>\n",
       "  <th>Number of CD/VCD/DVD</th>                         <td> 2512.7250</td> <td> 1771.059</td> <td>    1.419</td> <td> 0.156</td> <td> -958.631</td> <td> 5984.082</td>\n",
       "</tr>\n",
       "<tr>\n",
       "  <th>Number of Component/Stereo set</th>               <td> 2122.8337</td> <td> 2399.178</td> <td>    0.885</td> <td> 0.376</td> <td>-2579.665</td> <td> 6825.333</td>\n",
       "</tr>\n",
       "<tr>\n",
       "  <th>Number of Refrigerator/Freezer</th>               <td> 2.567e+04</td> <td> 2091.078</td> <td>   12.276</td> <td> 0.000</td> <td> 2.16e+04</td> <td> 2.98e+04</td>\n",
       "</tr>\n",
       "<tr>\n",
       "  <th>Number of Washing Machine</th>                    <td> 2.414e+04</td> <td> 2235.888</td> <td>   10.798</td> <td> 0.000</td> <td> 1.98e+04</td> <td> 2.85e+04</td>\n",
       "</tr>\n",
       "<tr>\n",
       "  <th>Number of Airconditioner</th>                     <td> 6.652e+04</td> <td> 2485.307</td> <td>   26.765</td> <td> 0.000</td> <td> 6.16e+04</td> <td> 7.14e+04</td>\n",
       "</tr>\n",
       "<tr>\n",
       "  <th>Number of Car, Jeep, Van</th>                     <td> 8.301e+04</td> <td> 3051.972</td> <td>   27.199</td> <td> 0.000</td> <td>  7.7e+04</td> <td>  8.9e+04</td>\n",
       "</tr>\n",
       "<tr>\n",
       "  <th>Number of Landline/wireless telephones</th>       <td> 2.862e+04</td> <td> 3424.904</td> <td>    8.356</td> <td> 0.000</td> <td> 2.19e+04</td> <td> 3.53e+04</td>\n",
       "</tr>\n",
       "<tr>\n",
       "  <th>Number of Cellular phone</th>                     <td> 1.525e+04</td> <td>  755.513</td> <td>   20.182</td> <td> 0.000</td> <td> 1.38e+04</td> <td> 1.67e+04</td>\n",
       "</tr>\n",
       "<tr>\n",
       "  <th>Number of Personal Computer</th>                  <td> 4.907e+04</td> <td> 1490.716</td> <td>   32.914</td> <td> 0.000</td> <td> 4.61e+04</td> <td>  5.2e+04</td>\n",
       "</tr>\n",
       "<tr>\n",
       "  <th>Number of Stove with Oven/Gas Range</th>          <td> 2.596e+04</td> <td> 2683.875</td> <td>    9.674</td> <td> 0.000</td> <td> 2.07e+04</td> <td> 3.12e+04</td>\n",
       "</tr>\n",
       "<tr>\n",
       "  <th>Number of Motorized Banca</th>                    <td> 1.521e+04</td> <td> 6518.433</td> <td>    2.334</td> <td> 0.020</td> <td> 2436.451</td> <td>  2.8e+04</td>\n",
       "</tr>\n",
       "<tr>\n",
       "  <th>Number of Motorcycle/Tricycle</th>                <td> 4689.5973</td> <td> 1624.919</td> <td>    2.886</td> <td> 0.004</td> <td> 1504.682</td> <td> 7874.512</td>\n",
       "</tr>\n",
       "</table>\n",
       "<table class=\"simpletable\">\n",
       "<tr>\n",
       "  <th>Omnibus:</th>       <td>47982.702</td> <th>  Durbin-Watson:     </th>   <td>   1.994</td>   \n",
       "</tr>\n",
       "<tr>\n",
       "  <th>Prob(Omnibus):</th>  <td> 0.000</td>   <th>  Jarque-Bera (JB):  </th> <td>226398487.862</td>\n",
       "</tr>\n",
       "<tr>\n",
       "  <th>Skew:</th>           <td>10.325</td>   <th>  Prob(JB):          </th>   <td>    0.00</td>   \n",
       "</tr>\n",
       "<tr>\n",
       "  <th>Kurtosis:</th>       <td>434.767</td>  <th>  Cond. No.          </th>   <td>1.34e+06</td>   \n",
       "</tr>\n",
       "</table><br/><br/>Warnings:<br/>[1] Standard Errors assume that the covariance matrix of the errors is correctly specified.<br/>[2] The condition number is large, 1.34e+06. This might indicate that there are<br/>strong multicollinearity or other numerical problems."
      ],
      "text/plain": [
       "<class 'statsmodels.iolib.summary.Summary'>\n",
       "\"\"\"\n",
       "                              OLS Regression Results                              \n",
       "==================================================================================\n",
       "Dep. Variable:     Total Household Income   R-squared:                       0.758\n",
       "Model:                                OLS   Adj. R-squared:                  0.758\n",
       "Method:                     Least Squares   F-statistic:                     2336.\n",
       "Date:                    Wed, 24 Mar 2021   Prob (F-statistic):               0.00\n",
       "Time:                            23:25:39   Log-Likelihood:            -3.8571e+05\n",
       "No. Observations:                   29080   AIC:                         7.715e+05\n",
       "Df Residuals:                       29040   BIC:                         7.718e+05\n",
       "Df Model:                              39                                         \n",
       "Covariance Type:                nonrobust                                         \n",
       "================================================================================================================\n",
       "                                                   coef    std err          t      P>|t|      [0.025      0.975]\n",
       "----------------------------------------------------------------------------------------------------------------\n",
       "const                                         3.066e+04   6931.232      4.423      0.000    1.71e+04    4.42e+04\n",
       "Region                                         730.7333    191.211      3.822      0.000     355.950    1105.516\n",
       "Main Source of Income                        -4.238e+04   1272.045    -33.313      0.000   -4.49e+04   -3.99e+04\n",
       "Agricultural Household indicator              3392.5783   1345.463      2.521      0.012     755.409    6029.748\n",
       "Imputed House Rental Value                       1.5704      0.027     58.452      0.000       1.518       1.623\n",
       "Crop Farming and Gardening expenses              0.1298      0.020      6.393      0.000       0.090       0.170\n",
       "Total Income from Entrepreneurial Acitivites     0.8604      0.007    122.762      0.000       0.847       0.874\n",
       "Household Head Sex                            -1.57e+04   2386.301     -6.581      0.000   -2.04e+04    -1.1e+04\n",
       "Household Head Age                             160.7882     75.569      2.128      0.033      12.670     308.906\n",
       "Household Head Marital Status                -5677.5051   1682.237     -3.375      0.001   -8974.766   -2380.245\n",
       "Household Head Highest Grade Completed         888.5236    108.099      8.220      0.000     676.646    1100.402\n",
       "Household Head Job or Business Indicator      2.363e+04   2474.577      9.551      0.000    1.88e+04    2.85e+04\n",
       "Type of Household                             -231.4665   2021.936     -0.114      0.909   -4194.554    3731.621\n",
       "Total Number of Family members                4544.4873    810.979      5.604      0.000    2954.932    6134.043\n",
       "Members with age less than 5 year old        -2292.6742   1604.022     -1.429      0.153   -5436.630     851.282\n",
       "Members with age 5 - 17 years old            -4037.8323    993.786     -4.063      0.000   -5985.698   -2089.967\n",
       "Total number of family members employed       3.098e+04    988.010     31.356      0.000     2.9e+04    3.29e+04\n",
       "Type of Building/House                        9823.5284   1555.315      6.316      0.000    6775.039    1.29e+04\n",
       "Type of Roof                                  -459.0566   1368.529     -0.335      0.737   -3141.435    2223.322\n",
       "Type of Walls                                -2527.2209   1152.264     -2.193      0.028   -4785.711    -268.731\n",
       "House Floor Area                                94.4509     17.580      5.373      0.000      59.994     128.908\n",
       "House Age                                       42.3895     61.352      0.691      0.490     -77.864     162.643\n",
       "Number of bedrooms                            7801.8054    928.874      8.399      0.000    5981.170    9622.441\n",
       "Tenure Status                                 5194.0907    624.725      8.314      0.000    3969.600    6418.581\n",
       "Toilet Facilities                            -1091.9545    553.144     -1.974      0.048   -2176.142      -7.767\n",
       "Electricity                                  -1.587e+04   3099.137     -5.120      0.000   -2.19e+04   -9793.743\n",
       "Main Source of Water Supply                  -1033.0936    333.197     -3.101      0.002   -1686.176    -380.011\n",
       "Number of Television                          1.343e+04   1789.788      7.504      0.000    9922.476    1.69e+04\n",
       "Number of CD/VCD/DVD                          2512.7250   1771.059      1.419      0.156    -958.631    5984.082\n",
       "Number of Component/Stereo set                2122.8337   2399.178      0.885      0.376   -2579.665    6825.333\n",
       "Number of Refrigerator/Freezer                2.567e+04   2091.078     12.276      0.000    2.16e+04    2.98e+04\n",
       "Number of Washing Machine                     2.414e+04   2235.888     10.798      0.000    1.98e+04    2.85e+04\n",
       "Number of Airconditioner                      6.652e+04   2485.307     26.765      0.000    6.16e+04    7.14e+04\n",
       "Number of Car, Jeep, Van                      8.301e+04   3051.972     27.199      0.000     7.7e+04     8.9e+04\n",
       "Number of Landline/wireless telephones        2.862e+04   3424.904      8.356      0.000    2.19e+04    3.53e+04\n",
       "Number of Cellular phone                      1.525e+04    755.513     20.182      0.000    1.38e+04    1.67e+04\n",
       "Number of Personal Computer                   4.907e+04   1490.716     32.914      0.000    4.61e+04     5.2e+04\n",
       "Number of Stove with Oven/Gas Range           2.596e+04   2683.875      9.674      0.000    2.07e+04    3.12e+04\n",
       "Number of Motorized Banca                     1.521e+04   6518.433      2.334      0.020    2436.451     2.8e+04\n",
       "Number of Motorcycle/Tricycle                 4689.5973   1624.919      2.886      0.004    1504.682    7874.512\n",
       "==============================================================================\n",
       "Omnibus:                    47982.702   Durbin-Watson:                   1.994\n",
       "Prob(Omnibus):                  0.000   Jarque-Bera (JB):        226398487.862\n",
       "Skew:                          10.325   Prob(JB):                         0.00\n",
       "Kurtosis:                     434.767   Cond. No.                     1.34e+06\n",
       "==============================================================================\n",
       "\n",
       "Warnings:\n",
       "[1] Standard Errors assume that the covariance matrix of the errors is correctly specified.\n",
       "[2] The condition number is large, 1.34e+06. This might indicate that there are\n",
       "strong multicollinearity or other numerical problems.\n",
       "\"\"\""
      ]
     },
     "execution_count": 219,
     "metadata": {},
     "output_type": "execute_result"
    }
   ],
   "source": [
    "from sklearn.model_selection import train_test_split\n",
    "from sklearn.linear_model import LinearRegression\n",
    "import statsmodels.api as sm\n",
    "\n",
    "X_train, X_test, y_train, y_test = train_test_split(X, y, test_size=0.3, random_state=41)\n",
    "x = sm.add_constant(X_train)\n",
    "model = sm.OLS(y_train, x).fit()\n",
    "model.summary()"
   ]
  },
  {
   "cell_type": "code",
   "execution_count": 221,
   "metadata": {},
   "outputs": [
    {
     "data": {
      "text/html": [
       "<table class=\"simpletable\">\n",
       "<caption>OLS Regression Results</caption>\n",
       "<tr>\n",
       "  <th>Dep. Variable:</th>    <td>Total Household Income</td> <th>  R-squared:         </th>  <td>   0.758</td>  \n",
       "</tr>\n",
       "<tr>\n",
       "  <th>Model:</th>                      <td>OLS</td>          <th>  Adj. R-squared:    </th>  <td>   0.758</td>  \n",
       "</tr>\n",
       "<tr>\n",
       "  <th>Method:</th>                <td>Least Squares</td>     <th>  F-statistic:       </th>  <td>   2397.</td>  \n",
       "</tr>\n",
       "<tr>\n",
       "  <th>Date:</th>                <td>Wed, 24 Mar 2021</td>    <th>  Prob (F-statistic):</th>   <td>  0.00</td>   \n",
       "</tr>\n",
       "<tr>\n",
       "  <th>Time:</th>                    <td>23:26:41</td>        <th>  Log-Likelihood:    </th> <td>-3.8571e+05</td>\n",
       "</tr>\n",
       "<tr>\n",
       "  <th>No. Observations:</th>         <td> 29080</td>         <th>  AIC:               </th>  <td>7.715e+05</td> \n",
       "</tr>\n",
       "<tr>\n",
       "  <th>Df Residuals:</th>             <td> 29041</td>         <th>  BIC:               </th>  <td>7.718e+05</td> \n",
       "</tr>\n",
       "<tr>\n",
       "  <th>Df Model:</th>                 <td>    38</td>         <th>                     </th>      <td> </td>     \n",
       "</tr>\n",
       "<tr>\n",
       "  <th>Covariance Type:</th>         <td>nonrobust</td>       <th>                     </th>      <td> </td>     \n",
       "</tr>\n",
       "</table>\n",
       "<table class=\"simpletable\">\n",
       "<tr>\n",
       "                        <td></td>                          <th>coef</th>     <th>std err</th>      <th>t</th>      <th>P>|t|</th>  <th>[0.025</th>    <th>0.975]</th>  \n",
       "</tr>\n",
       "<tr>\n",
       "  <th>const</th>                                        <td> 3.034e+04</td> <td> 6334.424</td> <td>    4.789</td> <td> 0.000</td> <td> 1.79e+04</td> <td> 4.28e+04</td>\n",
       "</tr>\n",
       "<tr>\n",
       "  <th>Region</th>                                       <td>  731.0438</td> <td>  191.189</td> <td>    3.824</td> <td> 0.000</td> <td>  356.305</td> <td> 1105.783</td>\n",
       "</tr>\n",
       "<tr>\n",
       "  <th>Main Source of Income</th>                        <td>-4.238e+04</td> <td> 1271.931</td> <td>  -33.317</td> <td> 0.000</td> <td>-4.49e+04</td> <td>-3.99e+04</td>\n",
       "</tr>\n",
       "<tr>\n",
       "  <th>Agricultural Household indicator</th>             <td> 3387.6438</td> <td> 1344.750</td> <td>    2.519</td> <td> 0.012</td> <td>  751.873</td> <td> 6023.415</td>\n",
       "</tr>\n",
       "<tr>\n",
       "  <th>Imputed House Rental Value</th>                   <td>    1.5704</td> <td>    0.027</td> <td>   58.459</td> <td> 0.000</td> <td>    1.518</td> <td>    1.623</td>\n",
       "</tr>\n",
       "<tr>\n",
       "  <th>Crop Farming and Gardening expenses</th>          <td>    0.1298</td> <td>    0.020</td> <td>    6.392</td> <td> 0.000</td> <td>    0.090</td> <td>    0.170</td>\n",
       "</tr>\n",
       "<tr>\n",
       "  <th>Total Income from Entrepreneurial Acitivites</th> <td>    0.8604</td> <td>    0.007</td> <td>  122.766</td> <td> 0.000</td> <td>    0.847</td> <td>    0.874</td>\n",
       "</tr>\n",
       "<tr>\n",
       "  <th>Household Head Sex</th>                           <td>-1.574e+04</td> <td> 2367.040</td> <td>   -6.649</td> <td> 0.000</td> <td>-2.04e+04</td> <td>-1.11e+04</td>\n",
       "</tr>\n",
       "<tr>\n",
       "  <th>Household Head Age</th>                           <td>  162.2579</td> <td>   74.469</td> <td>    2.179</td> <td> 0.029</td> <td>   16.295</td> <td>  308.221</td>\n",
       "</tr>\n",
       "<tr>\n",
       "  <th>Household Head Marital Status</th>                <td>-5674.2744</td> <td> 1681.971</td> <td>   -3.374</td> <td> 0.001</td> <td>-8971.015</td> <td>-2377.534</td>\n",
       "</tr>\n",
       "<tr>\n",
       "  <th>Household Head Highest Grade Completed</th>       <td>  888.3741</td> <td>  108.089</td> <td>    8.219</td> <td> 0.000</td> <td>  676.515</td> <td> 1100.233</td>\n",
       "</tr>\n",
       "<tr>\n",
       "  <th>Household Head Job or Business Indicator</th>     <td> 2.364e+04</td> <td> 2474.087</td> <td>    9.555</td> <td> 0.000</td> <td> 1.88e+04</td> <td> 2.85e+04</td>\n",
       "</tr>\n",
       "<tr>\n",
       "  <th>Total Number of Family members</th>               <td> 4568.6533</td> <td>  783.009</td> <td>    5.835</td> <td> 0.000</td> <td> 3033.919</td> <td> 6103.388</td>\n",
       "</tr>\n",
       "<tr>\n",
       "  <th>Members with age less than 5 year old</th>        <td>-2287.4601</td> <td> 1603.348</td> <td>   -1.427</td> <td> 0.154</td> <td>-5430.095</td> <td>  855.175</td>\n",
       "</tr>\n",
       "<tr>\n",
       "  <th>Members with age 5 - 17 years old</th>            <td>-4053.0806</td> <td>  984.802</td> <td>   -4.116</td> <td> 0.000</td> <td>-5983.337</td> <td>-2122.824</td>\n",
       "</tr>\n",
       "<tr>\n",
       "  <th>Total number of family members employed</th>      <td> 3.098e+04</td> <td>  987.976</td> <td>   31.356</td> <td> 0.000</td> <td>  2.9e+04</td> <td> 3.29e+04</td>\n",
       "</tr>\n",
       "<tr>\n",
       "  <th>Type of Building/House</th>                       <td> 9824.7643</td> <td> 1555.251</td> <td>    6.317</td> <td> 0.000</td> <td> 6776.401</td> <td> 1.29e+04</td>\n",
       "</tr>\n",
       "<tr>\n",
       "  <th>Type of Roof</th>                                 <td> -459.6919</td> <td> 1368.494</td> <td>   -0.336</td> <td> 0.737</td> <td>-3142.003</td> <td> 2222.619</td>\n",
       "</tr>\n",
       "<tr>\n",
       "  <th>Type of Walls</th>                                <td>-2527.6780</td> <td> 1152.237</td> <td>   -2.194</td> <td> 0.028</td> <td>-4786.116</td> <td> -269.240</td>\n",
       "</tr>\n",
       "<tr>\n",
       "  <th>House Floor Area</th>                             <td>   94.4691</td> <td>   17.579</td> <td>    5.374</td> <td> 0.000</td> <td>   60.014</td> <td>  128.924</td>\n",
       "</tr>\n",
       "<tr>\n",
       "  <th>House Age</th>                                    <td>   42.5482</td> <td>   61.336</td> <td>    0.694</td> <td> 0.488</td> <td>  -77.672</td> <td>  162.769</td>\n",
       "</tr>\n",
       "<tr>\n",
       "  <th>Number of bedrooms</th>                           <td> 7803.8225</td> <td>  928.691</td> <td>    8.403</td> <td> 0.000</td> <td> 5983.546</td> <td> 9624.099</td>\n",
       "</tr>\n",
       "<tr>\n",
       "  <th>Tenure Status</th>                                <td> 5193.6214</td> <td>  624.701</td> <td>    8.314</td> <td> 0.000</td> <td> 3969.178</td> <td> 6418.065</td>\n",
       "</tr>\n",
       "<tr>\n",
       "  <th>Toilet Facilities</th>                            <td>-1093.3310</td> <td>  553.004</td> <td>   -1.977</td> <td> 0.048</td> <td>-2177.244</td> <td>   -9.418</td>\n",
       "</tr>\n",
       "<tr>\n",
       "  <th>Electricity</th>                                  <td>-1.586e+04</td> <td> 3098.213</td> <td>   -5.119</td> <td> 0.000</td> <td>-2.19e+04</td> <td>-9787.141</td>\n",
       "</tr>\n",
       "<tr>\n",
       "  <th>Main Source of Water Supply</th>                  <td>-1033.1329</td> <td>  333.192</td> <td>   -3.101</td> <td> 0.002</td> <td>-1686.204</td> <td> -380.062</td>\n",
       "</tr>\n",
       "<tr>\n",
       "  <th>Number of Television</th>                         <td> 1.343e+04</td> <td> 1789.451</td> <td>    7.508</td> <td> 0.000</td> <td> 9926.925</td> <td> 1.69e+04</td>\n",
       "</tr>\n",
       "<tr>\n",
       "  <th>Number of CD/VCD/DVD</th>                         <td> 2512.6530</td> <td> 1771.029</td> <td>    1.419</td> <td> 0.156</td> <td> -958.644</td> <td> 5983.950</td>\n",
       "</tr>\n",
       "<tr>\n",
       "  <th>Number of Component/Stereo set</th>               <td> 2125.0769</td> <td> 2399.057</td> <td>    0.886</td> <td> 0.376</td> <td>-2577.185</td> <td> 6827.339</td>\n",
       "</tr>\n",
       "<tr>\n",
       "  <th>Number of Refrigerator/Freezer</th>               <td> 2.568e+04</td> <td> 2090.522</td> <td>   12.282</td> <td> 0.000</td> <td> 2.16e+04</td> <td> 2.98e+04</td>\n",
       "</tr>\n",
       "<tr>\n",
       "  <th>Number of Washing Machine</th>                    <td> 2.414e+04</td> <td> 2235.833</td> <td>   10.798</td> <td> 0.000</td> <td> 1.98e+04</td> <td> 2.85e+04</td>\n",
       "</tr>\n",
       "<tr>\n",
       "  <th>Number of Airconditioner</th>                     <td> 6.652e+04</td> <td> 2485.234</td> <td>   26.766</td> <td> 0.000</td> <td> 6.16e+04</td> <td> 7.14e+04</td>\n",
       "</tr>\n",
       "<tr>\n",
       "  <th>Number of Car, Jeep, Van</th>                     <td> 8.301e+04</td> <td> 3051.699</td> <td>   27.200</td> <td> 0.000</td> <td>  7.7e+04</td> <td>  8.9e+04</td>\n",
       "</tr>\n",
       "<tr>\n",
       "  <th>Number of Landline/wireless telephones</th>       <td> 2.861e+04</td> <td> 3424.766</td> <td>    8.355</td> <td> 0.000</td> <td> 2.19e+04</td> <td> 3.53e+04</td>\n",
       "</tr>\n",
       "<tr>\n",
       "  <th>Number of Cellular phone</th>                     <td> 1.525e+04</td> <td>  755.488</td> <td>   20.183</td> <td> 0.000</td> <td> 1.38e+04</td> <td> 1.67e+04</td>\n",
       "</tr>\n",
       "<tr>\n",
       "  <th>Number of Personal Computer</th>                  <td> 4.907e+04</td> <td> 1490.550</td> <td>   32.919</td> <td> 0.000</td> <td> 4.61e+04</td> <td>  5.2e+04</td>\n",
       "</tr>\n",
       "<tr>\n",
       "  <th>Number of Stove with Oven/Gas Range</th>          <td> 2.596e+04</td> <td> 2683.433</td> <td>    9.674</td> <td> 0.000</td> <td> 2.07e+04</td> <td> 3.12e+04</td>\n",
       "</tr>\n",
       "<tr>\n",
       "  <th>Number of Motorized Banca</th>                    <td> 1.521e+04</td> <td> 6518.161</td> <td>    2.333</td> <td> 0.020</td> <td> 2431.726</td> <td>  2.8e+04</td>\n",
       "</tr>\n",
       "<tr>\n",
       "  <th>Number of Motorcycle/Tricycle</th>                <td> 4695.1959</td> <td> 1624.155</td> <td>    2.891</td> <td> 0.004</td> <td> 1511.778</td> <td> 7878.614</td>\n",
       "</tr>\n",
       "</table>\n",
       "<table class=\"simpletable\">\n",
       "<tr>\n",
       "  <th>Omnibus:</th>       <td>47982.160</td> <th>  Durbin-Watson:     </th>   <td>   1.994</td>   \n",
       "</tr>\n",
       "<tr>\n",
       "  <th>Prob(Omnibus):</th>  <td> 0.000</td>   <th>  Jarque-Bera (JB):  </th> <td>226381067.708</td>\n",
       "</tr>\n",
       "<tr>\n",
       "  <th>Skew:</th>           <td>10.325</td>   <th>  Prob(JB):          </th>   <td>    0.00</td>   \n",
       "</tr>\n",
       "<tr>\n",
       "  <th>Kurtosis:</th>       <td>434.750</td>  <th>  Cond. No.          </th>   <td>1.23e+06</td>   \n",
       "</tr>\n",
       "</table><br/><br/>Warnings:<br/>[1] Standard Errors assume that the covariance matrix of the errors is correctly specified.<br/>[2] The condition number is large, 1.23e+06. This might indicate that there are<br/>strong multicollinearity or other numerical problems."
      ],
      "text/plain": [
       "<class 'statsmodels.iolib.summary.Summary'>\n",
       "\"\"\"\n",
       "                              OLS Regression Results                              \n",
       "==================================================================================\n",
       "Dep. Variable:     Total Household Income   R-squared:                       0.758\n",
       "Model:                                OLS   Adj. R-squared:                  0.758\n",
       "Method:                     Least Squares   F-statistic:                     2397.\n",
       "Date:                    Wed, 24 Mar 2021   Prob (F-statistic):               0.00\n",
       "Time:                            23:26:41   Log-Likelihood:            -3.8571e+05\n",
       "No. Observations:                   29080   AIC:                         7.715e+05\n",
       "Df Residuals:                       29041   BIC:                         7.718e+05\n",
       "Df Model:                              38                                         \n",
       "Covariance Type:                nonrobust                                         \n",
       "================================================================================================================\n",
       "                                                   coef    std err          t      P>|t|      [0.025      0.975]\n",
       "----------------------------------------------------------------------------------------------------------------\n",
       "const                                         3.034e+04   6334.424      4.789      0.000    1.79e+04    4.28e+04\n",
       "Region                                         731.0438    191.189      3.824      0.000     356.305    1105.783\n",
       "Main Source of Income                        -4.238e+04   1271.931    -33.317      0.000   -4.49e+04   -3.99e+04\n",
       "Agricultural Household indicator              3387.6438   1344.750      2.519      0.012     751.873    6023.415\n",
       "Imputed House Rental Value                       1.5704      0.027     58.459      0.000       1.518       1.623\n",
       "Crop Farming and Gardening expenses              0.1298      0.020      6.392      0.000       0.090       0.170\n",
       "Total Income from Entrepreneurial Acitivites     0.8604      0.007    122.766      0.000       0.847       0.874\n",
       "Household Head Sex                           -1.574e+04   2367.040     -6.649      0.000   -2.04e+04   -1.11e+04\n",
       "Household Head Age                             162.2579     74.469      2.179      0.029      16.295     308.221\n",
       "Household Head Marital Status                -5674.2744   1681.971     -3.374      0.001   -8971.015   -2377.534\n",
       "Household Head Highest Grade Completed         888.3741    108.089      8.219      0.000     676.515    1100.233\n",
       "Household Head Job or Business Indicator      2.364e+04   2474.087      9.555      0.000    1.88e+04    2.85e+04\n",
       "Total Number of Family members                4568.6533    783.009      5.835      0.000    3033.919    6103.388\n",
       "Members with age less than 5 year old        -2287.4601   1603.348     -1.427      0.154   -5430.095     855.175\n",
       "Members with age 5 - 17 years old            -4053.0806    984.802     -4.116      0.000   -5983.337   -2122.824\n",
       "Total number of family members employed       3.098e+04    987.976     31.356      0.000     2.9e+04    3.29e+04\n",
       "Type of Building/House                        9824.7643   1555.251      6.317      0.000    6776.401    1.29e+04\n",
       "Type of Roof                                  -459.6919   1368.494     -0.336      0.737   -3142.003    2222.619\n",
       "Type of Walls                                -2527.6780   1152.237     -2.194      0.028   -4786.116    -269.240\n",
       "House Floor Area                                94.4691     17.579      5.374      0.000      60.014     128.924\n",
       "House Age                                       42.5482     61.336      0.694      0.488     -77.672     162.769\n",
       "Number of bedrooms                            7803.8225    928.691      8.403      0.000    5983.546    9624.099\n",
       "Tenure Status                                 5193.6214    624.701      8.314      0.000    3969.178    6418.065\n",
       "Toilet Facilities                            -1093.3310    553.004     -1.977      0.048   -2177.244      -9.418\n",
       "Electricity                                  -1.586e+04   3098.213     -5.119      0.000   -2.19e+04   -9787.141\n",
       "Main Source of Water Supply                  -1033.1329    333.192     -3.101      0.002   -1686.204    -380.062\n",
       "Number of Television                          1.343e+04   1789.451      7.508      0.000    9926.925    1.69e+04\n",
       "Number of CD/VCD/DVD                          2512.6530   1771.029      1.419      0.156    -958.644    5983.950\n",
       "Number of Component/Stereo set                2125.0769   2399.057      0.886      0.376   -2577.185    6827.339\n",
       "Number of Refrigerator/Freezer                2.568e+04   2090.522     12.282      0.000    2.16e+04    2.98e+04\n",
       "Number of Washing Machine                     2.414e+04   2235.833     10.798      0.000    1.98e+04    2.85e+04\n",
       "Number of Airconditioner                      6.652e+04   2485.234     26.766      0.000    6.16e+04    7.14e+04\n",
       "Number of Car, Jeep, Van                      8.301e+04   3051.699     27.200      0.000     7.7e+04     8.9e+04\n",
       "Number of Landline/wireless telephones        2.861e+04   3424.766      8.355      0.000    2.19e+04    3.53e+04\n",
       "Number of Cellular phone                      1.525e+04    755.488     20.183      0.000    1.38e+04    1.67e+04\n",
       "Number of Personal Computer                   4.907e+04   1490.550     32.919      0.000    4.61e+04     5.2e+04\n",
       "Number of Stove with Oven/Gas Range           2.596e+04   2683.433      9.674      0.000    2.07e+04    3.12e+04\n",
       "Number of Motorized Banca                     1.521e+04   6518.161      2.333      0.020    2431.726     2.8e+04\n",
       "Number of Motorcycle/Tricycle                 4695.1959   1624.155      2.891      0.004    1511.778    7878.614\n",
       "==============================================================================\n",
       "Omnibus:                    47982.160   Durbin-Watson:                   1.994\n",
       "Prob(Omnibus):                  0.000   Jarque-Bera (JB):        226381067.708\n",
       "Skew:                          10.325   Prob(JB):                         0.00\n",
       "Kurtosis:                     434.750   Cond. No.                     1.23e+06\n",
       "==============================================================================\n",
       "\n",
       "Warnings:\n",
       "[1] Standard Errors assume that the covariance matrix of the errors is correctly specified.\n",
       "[2] The condition number is large, 1.23e+06. This might indicate that there are\n",
       "strong multicollinearity or other numerical problems.\n",
       "\"\"\""
      ]
     },
     "execution_count": 221,
     "metadata": {},
     "output_type": "execute_result"
    }
   ],
   "source": [
    "X_train = X_train.drop('Type of Household', axis = 1)\n",
    "\n",
    "x = sm.add_constant(X_train)\n",
    "model = sm.OLS(y_train, x).fit()\n",
    "model.summary()"
   ]
  },
  {
   "cell_type": "code",
   "execution_count": 223,
   "metadata": {},
   "outputs": [
    {
     "data": {
      "text/html": [
       "<table class=\"simpletable\">\n",
       "<caption>OLS Regression Results</caption>\n",
       "<tr>\n",
       "  <th>Dep. Variable:</th>    <td>Total Household Income</td> <th>  R-squared:         </th>  <td>   0.758</td>  \n",
       "</tr>\n",
       "<tr>\n",
       "  <th>Model:</th>                      <td>OLS</td>          <th>  Adj. R-squared:    </th>  <td>   0.758</td>  \n",
       "</tr>\n",
       "<tr>\n",
       "  <th>Method:</th>                <td>Least Squares</td>     <th>  F-statistic:       </th>  <td>   2462.</td>  \n",
       "</tr>\n",
       "<tr>\n",
       "  <th>Date:</th>                <td>Wed, 24 Mar 2021</td>    <th>  Prob (F-statistic):</th>   <td>  0.00</td>   \n",
       "</tr>\n",
       "<tr>\n",
       "  <th>Time:</th>                    <td>23:28:01</td>        <th>  Log-Likelihood:    </th> <td>-3.8571e+05</td>\n",
       "</tr>\n",
       "<tr>\n",
       "  <th>No. Observations:</th>         <td> 29080</td>         <th>  AIC:               </th>  <td>7.715e+05</td> \n",
       "</tr>\n",
       "<tr>\n",
       "  <th>Df Residuals:</th>             <td> 29042</td>         <th>  BIC:               </th>  <td>7.718e+05</td> \n",
       "</tr>\n",
       "<tr>\n",
       "  <th>Df Model:</th>                 <td>    37</td>         <th>                     </th>      <td> </td>     \n",
       "</tr>\n",
       "<tr>\n",
       "  <th>Covariance Type:</th>         <td>nonrobust</td>       <th>                     </th>      <td> </td>     \n",
       "</tr>\n",
       "</table>\n",
       "<table class=\"simpletable\">\n",
       "<tr>\n",
       "                        <td></td>                          <th>coef</th>     <th>std err</th>      <th>t</th>      <th>P>|t|</th>  <th>[0.025</th>    <th>0.975]</th>  \n",
       "</tr>\n",
       "<tr>\n",
       "  <th>const</th>                                        <td> 3.025e+04</td> <td> 6328.923</td> <td>    4.780</td> <td> 0.000</td> <td> 1.78e+04</td> <td> 4.27e+04</td>\n",
       "</tr>\n",
       "<tr>\n",
       "  <th>Region</th>                                       <td>  734.6184</td> <td>  190.890</td> <td>    3.848</td> <td> 0.000</td> <td>  360.466</td> <td> 1108.771</td>\n",
       "</tr>\n",
       "<tr>\n",
       "  <th>Main Source of Income</th>                        <td>-4.238e+04</td> <td> 1271.909</td> <td>  -33.317</td> <td> 0.000</td> <td>-4.49e+04</td> <td>-3.99e+04</td>\n",
       "</tr>\n",
       "<tr>\n",
       "  <th>Agricultural Household indicator</th>             <td> 3375.8796</td> <td> 1344.273</td> <td>    2.511</td> <td> 0.012</td> <td>  741.043</td> <td> 6010.717</td>\n",
       "</tr>\n",
       "<tr>\n",
       "  <th>Imputed House Rental Value</th>                   <td>    1.5704</td> <td>    0.027</td> <td>   58.460</td> <td> 0.000</td> <td>    1.518</td> <td>    1.623</td>\n",
       "</tr>\n",
       "<tr>\n",
       "  <th>Crop Farming and Gardening expenses</th>          <td>    0.1299</td> <td>    0.020</td> <td>    6.397</td> <td> 0.000</td> <td>    0.090</td> <td>    0.170</td>\n",
       "</tr>\n",
       "<tr>\n",
       "  <th>Total Income from Entrepreneurial Acitivites</th> <td>    0.8604</td> <td>    0.007</td> <td>  122.767</td> <td> 0.000</td> <td>    0.847</td> <td>    0.874</td>\n",
       "</tr>\n",
       "<tr>\n",
       "  <th>Household Head Sex</th>                           <td>-1.574e+04</td> <td> 2367.002</td> <td>   -6.648</td> <td> 0.000</td> <td>-2.04e+04</td> <td>-1.11e+04</td>\n",
       "</tr>\n",
       "<tr>\n",
       "  <th>Household Head Age</th>                           <td>  161.7514</td> <td>   74.453</td> <td>    2.173</td> <td> 0.030</td> <td>   15.821</td> <td>  307.682</td>\n",
       "</tr>\n",
       "<tr>\n",
       "  <th>Household Head Marital Status</th>                <td>-5676.5552</td> <td> 1681.932</td> <td>   -3.375</td> <td> 0.001</td> <td>-8973.219</td> <td>-2379.892</td>\n",
       "</tr>\n",
       "<tr>\n",
       "  <th>Household Head Highest Grade Completed</th>       <td>  888.2539</td> <td>  108.087</td> <td>    8.218</td> <td> 0.000</td> <td>  676.399</td> <td> 1100.109</td>\n",
       "</tr>\n",
       "<tr>\n",
       "  <th>Household Head Job or Business Indicator</th>     <td> 2.365e+04</td> <td> 2473.848</td> <td>    9.560</td> <td> 0.000</td> <td> 1.88e+04</td> <td> 2.85e+04</td>\n",
       "</tr>\n",
       "<tr>\n",
       "  <th>Total Number of Family members</th>               <td> 4565.8422</td> <td>  782.953</td> <td>    5.832</td> <td> 0.000</td> <td> 3031.219</td> <td> 6100.465</td>\n",
       "</tr>\n",
       "<tr>\n",
       "  <th>Members with age less than 5 year old</th>        <td>-2282.6259</td> <td> 1603.259</td> <td>   -1.424</td> <td> 0.155</td> <td>-5425.086</td> <td>  859.834</td>\n",
       "</tr>\n",
       "<tr>\n",
       "  <th>Members with age 5 - 17 years old</th>            <td>-4056.8144</td> <td>  984.724</td> <td>   -4.120</td> <td> 0.000</td> <td>-5986.919</td> <td>-2126.710</td>\n",
       "</tr>\n",
       "<tr>\n",
       "  <th>Total number of family members employed</th>      <td> 3.098e+04</td> <td>  987.941</td> <td>   31.359</td> <td> 0.000</td> <td>  2.9e+04</td> <td> 3.29e+04</td>\n",
       "</tr>\n",
       "<tr>\n",
       "  <th>Type of Building/House</th>                       <td> 9818.4614</td> <td> 1555.114</td> <td>    6.314</td> <td> 0.000</td> <td> 6770.366</td> <td> 1.29e+04</td>\n",
       "</tr>\n",
       "<tr>\n",
       "  <th>Type of Walls</th>                                <td>-2726.3921</td> <td>  988.771</td> <td>   -2.757</td> <td> 0.006</td> <td>-4664.428</td> <td> -788.356</td>\n",
       "</tr>\n",
       "<tr>\n",
       "  <th>House Floor Area</th>                             <td>   94.5141</td> <td>   17.578</td> <td>    5.377</td> <td> 0.000</td> <td>   60.061</td> <td>  128.968</td>\n",
       "</tr>\n",
       "<tr>\n",
       "  <th>House Age</th>                                    <td>   42.7947</td> <td>   61.330</td> <td>    0.698</td> <td> 0.485</td> <td>  -77.416</td> <td>  163.005</td>\n",
       "</tr>\n",
       "<tr>\n",
       "  <th>Number of bedrooms</th>                           <td> 7810.3536</td> <td>  928.473</td> <td>    8.412</td> <td> 0.000</td> <td> 5990.504</td> <td> 9630.204</td>\n",
       "</tr>\n",
       "<tr>\n",
       "  <th>Tenure Status</th>                                <td> 5193.2866</td> <td>  624.691</td> <td>    8.313</td> <td> 0.000</td> <td> 3968.864</td> <td> 6417.710</td>\n",
       "</tr>\n",
       "<tr>\n",
       "  <th>Toilet Facilities</th>                            <td>-1099.8124</td> <td>  552.659</td> <td>   -1.990</td> <td> 0.047</td> <td>-2183.049</td> <td>  -16.576</td>\n",
       "</tr>\n",
       "<tr>\n",
       "  <th>Electricity</th>                                  <td>-1.582e+04</td> <td> 3095.827</td> <td>   -5.110</td> <td> 0.000</td> <td>-2.19e+04</td> <td>-9751.392</td>\n",
       "</tr>\n",
       "<tr>\n",
       "  <th>Main Source of Water Supply</th>                  <td>-1033.8428</td> <td>  333.180</td> <td>   -3.103</td> <td> 0.002</td> <td>-1686.890</td> <td> -380.795</td>\n",
       "</tr>\n",
       "<tr>\n",
       "  <th>Number of Television</th>                         <td> 1.344e+04</td> <td> 1789.257</td> <td>    7.513</td> <td> 0.000</td> <td> 9935.512</td> <td> 1.69e+04</td>\n",
       "</tr>\n",
       "<tr>\n",
       "  <th>Number of CD/VCD/DVD</th>                         <td> 2515.9974</td> <td> 1770.974</td> <td>    1.421</td> <td> 0.155</td> <td> -955.192</td> <td> 5987.187</td>\n",
       "</tr>\n",
       "<tr>\n",
       "  <th>Number of Component/Stereo set</th>               <td> 2127.2602</td> <td> 2399.012</td> <td>    0.887</td> <td> 0.375</td> <td>-2574.913</td> <td> 6829.433</td>\n",
       "</tr>\n",
       "<tr>\n",
       "  <th>Number of Refrigerator/Freezer</th>               <td> 2.568e+04</td> <td> 2090.347</td> <td>   12.287</td> <td> 0.000</td> <td> 2.16e+04</td> <td> 2.98e+04</td>\n",
       "</tr>\n",
       "<tr>\n",
       "  <th>Number of Washing Machine</th>                    <td> 2.415e+04</td> <td> 2235.712</td> <td>   10.802</td> <td> 0.000</td> <td> 1.98e+04</td> <td> 2.85e+04</td>\n",
       "</tr>\n",
       "<tr>\n",
       "  <th>Number of Airconditioner</th>                     <td> 6.651e+04</td> <td> 2485.168</td> <td>   26.765</td> <td> 0.000</td> <td> 6.16e+04</td> <td> 7.14e+04</td>\n",
       "</tr>\n",
       "<tr>\n",
       "  <th>Number of Car, Jeep, Van</th>                     <td>   8.3e+04</td> <td> 3051.646</td> <td>   27.200</td> <td> 0.000</td> <td>  7.7e+04</td> <td>  8.9e+04</td>\n",
       "</tr>\n",
       "<tr>\n",
       "  <th>Number of Landline/wireless telephones</th>       <td> 2.861e+04</td> <td> 3424.701</td> <td>    8.355</td> <td> 0.000</td> <td> 2.19e+04</td> <td> 3.53e+04</td>\n",
       "</tr>\n",
       "<tr>\n",
       "  <th>Number of Cellular phone</th>                     <td> 1.525e+04</td> <td>  755.341</td> <td>   20.194</td> <td> 0.000</td> <td> 1.38e+04</td> <td> 1.67e+04</td>\n",
       "</tr>\n",
       "<tr>\n",
       "  <th>Number of Personal Computer</th>                  <td> 4.906e+04</td> <td> 1490.394</td> <td>   32.918</td> <td> 0.000</td> <td> 4.61e+04</td> <td>  5.2e+04</td>\n",
       "</tr>\n",
       "<tr>\n",
       "  <th>Number of Stove with Oven/Gas Range</th>          <td> 2.596e+04</td> <td> 2683.369</td> <td>    9.673</td> <td> 0.000</td> <td> 2.07e+04</td> <td> 3.12e+04</td>\n",
       "</tr>\n",
       "<tr>\n",
       "  <th>Number of Motorized Banca</th>                    <td>  1.52e+04</td> <td> 6518.043</td> <td>    2.332</td> <td> 0.020</td> <td> 2426.840</td> <td>  2.8e+04</td>\n",
       "</tr>\n",
       "<tr>\n",
       "  <th>Number of Motorcycle/Tricycle</th>                <td> 4698.2594</td> <td> 1624.105</td> <td>    2.893</td> <td> 0.004</td> <td> 1514.940</td> <td> 7881.579</td>\n",
       "</tr>\n",
       "</table>\n",
       "<table class=\"simpletable\">\n",
       "<tr>\n",
       "  <th>Omnibus:</th>       <td>47982.055</td> <th>  Durbin-Watson:     </th>   <td>   1.994</td>   \n",
       "</tr>\n",
       "<tr>\n",
       "  <th>Prob(Omnibus):</th>  <td> 0.000</td>   <th>  Jarque-Bera (JB):  </th> <td>226379864.142</td>\n",
       "</tr>\n",
       "<tr>\n",
       "  <th>Skew:</th>           <td>10.325</td>   <th>  Prob(JB):          </th>   <td>    0.00</td>   \n",
       "</tr>\n",
       "<tr>\n",
       "  <th>Kurtosis:</th>       <td>434.749</td>  <th>  Cond. No.          </th>   <td>1.23e+06</td>   \n",
       "</tr>\n",
       "</table><br/><br/>Warnings:<br/>[1] Standard Errors assume that the covariance matrix of the errors is correctly specified.<br/>[2] The condition number is large, 1.23e+06. This might indicate that there are<br/>strong multicollinearity or other numerical problems."
      ],
      "text/plain": [
       "<class 'statsmodels.iolib.summary.Summary'>\n",
       "\"\"\"\n",
       "                              OLS Regression Results                              \n",
       "==================================================================================\n",
       "Dep. Variable:     Total Household Income   R-squared:                       0.758\n",
       "Model:                                OLS   Adj. R-squared:                  0.758\n",
       "Method:                     Least Squares   F-statistic:                     2462.\n",
       "Date:                    Wed, 24 Mar 2021   Prob (F-statistic):               0.00\n",
       "Time:                            23:28:01   Log-Likelihood:            -3.8571e+05\n",
       "No. Observations:                   29080   AIC:                         7.715e+05\n",
       "Df Residuals:                       29042   BIC:                         7.718e+05\n",
       "Df Model:                              37                                         \n",
       "Covariance Type:                nonrobust                                         \n",
       "================================================================================================================\n",
       "                                                   coef    std err          t      P>|t|      [0.025      0.975]\n",
       "----------------------------------------------------------------------------------------------------------------\n",
       "const                                         3.025e+04   6328.923      4.780      0.000    1.78e+04    4.27e+04\n",
       "Region                                         734.6184    190.890      3.848      0.000     360.466    1108.771\n",
       "Main Source of Income                        -4.238e+04   1271.909    -33.317      0.000   -4.49e+04   -3.99e+04\n",
       "Agricultural Household indicator              3375.8796   1344.273      2.511      0.012     741.043    6010.717\n",
       "Imputed House Rental Value                       1.5704      0.027     58.460      0.000       1.518       1.623\n",
       "Crop Farming and Gardening expenses              0.1299      0.020      6.397      0.000       0.090       0.170\n",
       "Total Income from Entrepreneurial Acitivites     0.8604      0.007    122.767      0.000       0.847       0.874\n",
       "Household Head Sex                           -1.574e+04   2367.002     -6.648      0.000   -2.04e+04   -1.11e+04\n",
       "Household Head Age                             161.7514     74.453      2.173      0.030      15.821     307.682\n",
       "Household Head Marital Status                -5676.5552   1681.932     -3.375      0.001   -8973.219   -2379.892\n",
       "Household Head Highest Grade Completed         888.2539    108.087      8.218      0.000     676.399    1100.109\n",
       "Household Head Job or Business Indicator      2.365e+04   2473.848      9.560      0.000    1.88e+04    2.85e+04\n",
       "Total Number of Family members                4565.8422    782.953      5.832      0.000    3031.219    6100.465\n",
       "Members with age less than 5 year old        -2282.6259   1603.259     -1.424      0.155   -5425.086     859.834\n",
       "Members with age 5 - 17 years old            -4056.8144    984.724     -4.120      0.000   -5986.919   -2126.710\n",
       "Total number of family members employed       3.098e+04    987.941     31.359      0.000     2.9e+04    3.29e+04\n",
       "Type of Building/House                        9818.4614   1555.114      6.314      0.000    6770.366    1.29e+04\n",
       "Type of Walls                                -2726.3921    988.771     -2.757      0.006   -4664.428    -788.356\n",
       "House Floor Area                                94.5141     17.578      5.377      0.000      60.061     128.968\n",
       "House Age                                       42.7947     61.330      0.698      0.485     -77.416     163.005\n",
       "Number of bedrooms                            7810.3536    928.473      8.412      0.000    5990.504    9630.204\n",
       "Tenure Status                                 5193.2866    624.691      8.313      0.000    3968.864    6417.710\n",
       "Toilet Facilities                            -1099.8124    552.659     -1.990      0.047   -2183.049     -16.576\n",
       "Electricity                                  -1.582e+04   3095.827     -5.110      0.000   -2.19e+04   -9751.392\n",
       "Main Source of Water Supply                  -1033.8428    333.180     -3.103      0.002   -1686.890    -380.795\n",
       "Number of Television                          1.344e+04   1789.257      7.513      0.000    9935.512    1.69e+04\n",
       "Number of CD/VCD/DVD                          2515.9974   1770.974      1.421      0.155    -955.192    5987.187\n",
       "Number of Component/Stereo set                2127.2602   2399.012      0.887      0.375   -2574.913    6829.433\n",
       "Number of Refrigerator/Freezer                2.568e+04   2090.347     12.287      0.000    2.16e+04    2.98e+04\n",
       "Number of Washing Machine                     2.415e+04   2235.712     10.802      0.000    1.98e+04    2.85e+04\n",
       "Number of Airconditioner                      6.651e+04   2485.168     26.765      0.000    6.16e+04    7.14e+04\n",
       "Number of Car, Jeep, Van                        8.3e+04   3051.646     27.200      0.000     7.7e+04     8.9e+04\n",
       "Number of Landline/wireless telephones        2.861e+04   3424.701      8.355      0.000    2.19e+04    3.53e+04\n",
       "Number of Cellular phone                      1.525e+04    755.341     20.194      0.000    1.38e+04    1.67e+04\n",
       "Number of Personal Computer                   4.906e+04   1490.394     32.918      0.000    4.61e+04     5.2e+04\n",
       "Number of Stove with Oven/Gas Range           2.596e+04   2683.369      9.673      0.000    2.07e+04    3.12e+04\n",
       "Number of Motorized Banca                      1.52e+04   6518.043      2.332      0.020    2426.840     2.8e+04\n",
       "Number of Motorcycle/Tricycle                 4698.2594   1624.105      2.893      0.004    1514.940    7881.579\n",
       "==============================================================================\n",
       "Omnibus:                    47982.055   Durbin-Watson:                   1.994\n",
       "Prob(Omnibus):                  0.000   Jarque-Bera (JB):        226379864.142\n",
       "Skew:                          10.325   Prob(JB):                         0.00\n",
       "Kurtosis:                     434.749   Cond. No.                     1.23e+06\n",
       "==============================================================================\n",
       "\n",
       "Warnings:\n",
       "[1] Standard Errors assume that the covariance matrix of the errors is correctly specified.\n",
       "[2] The condition number is large, 1.23e+06. This might indicate that there are\n",
       "strong multicollinearity or other numerical problems.\n",
       "\"\"\""
      ]
     },
     "execution_count": 223,
     "metadata": {},
     "output_type": "execute_result"
    }
   ],
   "source": [
    "X_train = X_train.drop('Type of Roof', axis = 1)\n",
    "\n",
    "x = sm.add_constant(X_train)\n",
    "model = sm.OLS(y_train, x).fit()\n",
    "model.summary()"
   ]
  },
  {
   "cell_type": "code",
   "execution_count": 224,
   "metadata": {},
   "outputs": [
    {
     "data": {
      "text/html": [
       "<table class=\"simpletable\">\n",
       "<caption>OLS Regression Results</caption>\n",
       "<tr>\n",
       "  <th>Dep. Variable:</th>    <td>Total Household Income</td> <th>  R-squared:         </th>  <td>   0.758</td>  \n",
       "</tr>\n",
       "<tr>\n",
       "  <th>Model:</th>                      <td>OLS</td>          <th>  Adj. R-squared:    </th>  <td>   0.758</td>  \n",
       "</tr>\n",
       "<tr>\n",
       "  <th>Method:</th>                <td>Least Squares</td>     <th>  F-statistic:       </th>  <td>   2530.</td>  \n",
       "</tr>\n",
       "<tr>\n",
       "  <th>Date:</th>                <td>Wed, 24 Mar 2021</td>    <th>  Prob (F-statistic):</th>   <td>  0.00</td>   \n",
       "</tr>\n",
       "<tr>\n",
       "  <th>Time:</th>                    <td>23:28:36</td>        <th>  Log-Likelihood:    </th> <td>-3.8571e+05</td>\n",
       "</tr>\n",
       "<tr>\n",
       "  <th>No. Observations:</th>         <td> 29080</td>         <th>  AIC:               </th>  <td>7.715e+05</td> \n",
       "</tr>\n",
       "<tr>\n",
       "  <th>Df Residuals:</th>             <td> 29043</td>         <th>  BIC:               </th>  <td>7.718e+05</td> \n",
       "</tr>\n",
       "<tr>\n",
       "  <th>Df Model:</th>                 <td>    36</td>         <th>                     </th>      <td> </td>     \n",
       "</tr>\n",
       "<tr>\n",
       "  <th>Covariance Type:</th>         <td>nonrobust</td>       <th>                     </th>      <td> </td>     \n",
       "</tr>\n",
       "</table>\n",
       "<table class=\"simpletable\">\n",
       "<tr>\n",
       "                        <td></td>                          <th>coef</th>     <th>std err</th>      <th>t</th>      <th>P>|t|</th>  <th>[0.025</th>    <th>0.975]</th>  \n",
       "</tr>\n",
       "<tr>\n",
       "  <th>const</th>                                        <td> 3.059e+04</td> <td> 6310.501</td> <td>    4.847</td> <td> 0.000</td> <td> 1.82e+04</td> <td>  4.3e+04</td>\n",
       "</tr>\n",
       "<tr>\n",
       "  <th>Region</th>                                       <td>  735.3756</td> <td>  190.885</td> <td>    3.852</td> <td> 0.000</td> <td>  361.233</td> <td> 1109.518</td>\n",
       "</tr>\n",
       "<tr>\n",
       "  <th>Main Source of Income</th>                        <td>-4.239e+04</td> <td> 1271.788</td> <td>  -33.329</td> <td> 0.000</td> <td>-4.49e+04</td> <td>-3.99e+04</td>\n",
       "</tr>\n",
       "<tr>\n",
       "  <th>Agricultural Household indicator</th>             <td> 3401.9152</td> <td> 1343.743</td> <td>    2.532</td> <td> 0.011</td> <td>  768.117</td> <td> 6035.714</td>\n",
       "</tr>\n",
       "<tr>\n",
       "  <th>Imputed House Rental Value</th>                   <td>    1.5707</td> <td>    0.027</td> <td>   58.485</td> <td> 0.000</td> <td>    1.518</td> <td>    1.623</td>\n",
       "</tr>\n",
       "<tr>\n",
       "  <th>Crop Farming and Gardening expenses</th>          <td>    0.1298</td> <td>    0.020</td> <td>    6.391</td> <td> 0.000</td> <td>    0.090</td> <td>    0.170</td>\n",
       "</tr>\n",
       "<tr>\n",
       "  <th>Total Income from Entrepreneurial Acitivites</th> <td>    0.8603</td> <td>    0.007</td> <td>  122.767</td> <td> 0.000</td> <td>    0.847</td> <td>    0.874</td>\n",
       "</tr>\n",
       "<tr>\n",
       "  <th>Household Head Sex</th>                           <td> -1.58e+04</td> <td> 2365.081</td> <td>   -6.682</td> <td> 0.000</td> <td>-2.04e+04</td> <td>-1.12e+04</td>\n",
       "</tr>\n",
       "<tr>\n",
       "  <th>Household Head Age</th>                           <td>  169.8632</td> <td>   73.539</td> <td>    2.310</td> <td> 0.021</td> <td>   25.724</td> <td>  314.002</td>\n",
       "</tr>\n",
       "<tr>\n",
       "  <th>Household Head Marital Status</th>                <td>-5691.5061</td> <td> 1681.781</td> <td>   -3.384</td> <td> 0.001</td> <td>-8987.873</td> <td>-2395.139</td>\n",
       "</tr>\n",
       "<tr>\n",
       "  <th>Household Head Highest Grade Completed</th>       <td>  888.2784</td> <td>  108.086</td> <td>    8.218</td> <td> 0.000</td> <td>  676.426</td> <td> 1100.131</td>\n",
       "</tr>\n",
       "<tr>\n",
       "  <th>Household Head Job or Business Indicator</th>     <td> 2.368e+04</td> <td> 2473.481</td> <td>    9.573</td> <td> 0.000</td> <td> 1.88e+04</td> <td> 2.85e+04</td>\n",
       "</tr>\n",
       "<tr>\n",
       "  <th>Total Number of Family members</th>               <td> 4574.5249</td> <td>  782.847</td> <td>    5.843</td> <td> 0.000</td> <td> 3040.109</td> <td> 6108.941</td>\n",
       "</tr>\n",
       "<tr>\n",
       "  <th>Members with age less than 5 year old</th>        <td>-2295.0629</td> <td> 1603.145</td> <td>   -1.432</td> <td> 0.152</td> <td>-5437.301</td> <td>  847.175</td>\n",
       "</tr>\n",
       "<tr>\n",
       "  <th>Members with age 5 - 17 years old</th>            <td>-4090.5673</td> <td>  983.527</td> <td>   -4.159</td> <td> 0.000</td> <td>-6018.325</td> <td>-2162.810</td>\n",
       "</tr>\n",
       "<tr>\n",
       "  <th>Total number of family members employed</th>      <td> 3.097e+04</td> <td>  987.892</td> <td>   31.354</td> <td> 0.000</td> <td>  2.9e+04</td> <td> 3.29e+04</td>\n",
       "</tr>\n",
       "<tr>\n",
       "  <th>Type of Building/House</th>                       <td> 9889.4400</td> <td> 1551.770</td> <td>    6.373</td> <td> 0.000</td> <td> 6847.899</td> <td> 1.29e+04</td>\n",
       "</tr>\n",
       "<tr>\n",
       "  <th>Type of Walls</th>                                <td>-2729.3552</td> <td>  988.753</td> <td>   -2.760</td> <td> 0.006</td> <td>-4667.356</td> <td> -791.354</td>\n",
       "</tr>\n",
       "<tr>\n",
       "  <th>House Floor Area</th>                             <td>   95.3914</td> <td>   17.533</td> <td>    5.441</td> <td> 0.000</td> <td>   61.027</td> <td>  129.756</td>\n",
       "</tr>\n",
       "<tr>\n",
       "  <th>Number of bedrooms</th>                           <td> 7852.6292</td> <td>  926.486</td> <td>    8.476</td> <td> 0.000</td> <td> 6036.674</td> <td> 9668.585</td>\n",
       "</tr>\n",
       "<tr>\n",
       "  <th>Tenure Status</th>                                <td> 5184.3152</td> <td>  624.553</td> <td>    8.301</td> <td> 0.000</td> <td> 3960.162</td> <td> 6408.468</td>\n",
       "</tr>\n",
       "<tr>\n",
       "  <th>Toilet Facilities</th>                            <td>-1114.5370</td> <td>  552.251</td> <td>   -2.018</td> <td> 0.044</td> <td>-2196.974</td> <td>  -32.100</td>\n",
       "</tr>\n",
       "<tr>\n",
       "  <th>Electricity</th>                                  <td>-1.573e+04</td> <td> 3092.963</td> <td>   -5.085</td> <td> 0.000</td> <td>-2.18e+04</td> <td>-9664.547</td>\n",
       "</tr>\n",
       "<tr>\n",
       "  <th>Main Source of Water Supply</th>                  <td>-1042.9449</td> <td>  332.921</td> <td>   -3.133</td> <td> 0.002</td> <td>-1695.486</td> <td> -390.404</td>\n",
       "</tr>\n",
       "<tr>\n",
       "  <th>Number of Television</th>                         <td> 1.346e+04</td> <td> 1789.078</td> <td>    7.523</td> <td> 0.000</td> <td> 9952.723</td> <td>  1.7e+04</td>\n",
       "</tr>\n",
       "<tr>\n",
       "  <th>Number of CD/VCD/DVD</th>                         <td> 2497.2055</td> <td> 1770.753</td> <td>    1.410</td> <td> 0.158</td> <td> -973.552</td> <td> 5967.963</td>\n",
       "</tr>\n",
       "<tr>\n",
       "  <th>Number of Component/Stereo set</th>               <td> 2096.9428</td> <td> 2398.597</td> <td>    0.874</td> <td> 0.382</td> <td>-2604.418</td> <td> 6798.303</td>\n",
       "</tr>\n",
       "<tr>\n",
       "  <th>Number of Refrigerator/Freezer</th>               <td> 2.567e+04</td> <td> 2090.240</td> <td>   12.281</td> <td> 0.000</td> <td> 2.16e+04</td> <td> 2.98e+04</td>\n",
       "</tr>\n",
       "<tr>\n",
       "  <th>Number of Washing Machine</th>                    <td> 2.422e+04</td> <td> 2233.243</td> <td>   10.846</td> <td> 0.000</td> <td> 1.98e+04</td> <td> 2.86e+04</td>\n",
       "</tr>\n",
       "<tr>\n",
       "  <th>Number of Airconditioner</th>                     <td> 6.647e+04</td> <td> 2484.153</td> <td>   26.756</td> <td> 0.000</td> <td> 6.16e+04</td> <td> 7.13e+04</td>\n",
       "</tr>\n",
       "<tr>\n",
       "  <th>Number of Car, Jeep, Van</th>                     <td> 8.296e+04</td> <td> 3051.009</td> <td>   27.192</td> <td> 0.000</td> <td>  7.7e+04</td> <td> 8.89e+04</td>\n",
       "</tr>\n",
       "<tr>\n",
       "  <th>Number of Landline/wireless telephones</th>       <td> 2.864e+04</td> <td> 3424.442</td> <td>    8.363</td> <td> 0.000</td> <td> 2.19e+04</td> <td> 3.54e+04</td>\n",
       "</tr>\n",
       "<tr>\n",
       "  <th>Number of Cellular phone</th>                     <td> 1.525e+04</td> <td>  755.332</td> <td>   20.195</td> <td> 0.000</td> <td> 1.38e+04</td> <td> 1.67e+04</td>\n",
       "</tr>\n",
       "<tr>\n",
       "  <th>Number of Personal Computer</th>                  <td> 4.907e+04</td> <td> 1490.360</td> <td>   32.923</td> <td> 0.000</td> <td> 4.61e+04</td> <td>  5.2e+04</td>\n",
       "</tr>\n",
       "<tr>\n",
       "  <th>Number of Stove with Oven/Gas Range</th>          <td> 2.595e+04</td> <td> 2683.330</td> <td>    9.670</td> <td> 0.000</td> <td> 2.07e+04</td> <td> 3.12e+04</td>\n",
       "</tr>\n",
       "<tr>\n",
       "  <th>Number of Motorized Banca</th>                    <td> 1.521e+04</td> <td> 6517.984</td> <td>    2.333</td> <td> 0.020</td> <td> 2430.543</td> <td>  2.8e+04</td>\n",
       "</tr>\n",
       "<tr>\n",
       "  <th>Number of Motorcycle/Tricycle</th>                <td> 4661.2289</td> <td> 1623.223</td> <td>    2.872</td> <td> 0.004</td> <td> 1479.638</td> <td> 7842.820</td>\n",
       "</tr>\n",
       "</table>\n",
       "<table class=\"simpletable\">\n",
       "<tr>\n",
       "  <th>Omnibus:</th>       <td>47978.891</td> <th>  Durbin-Watson:     </th>   <td>   1.994</td>   \n",
       "</tr>\n",
       "<tr>\n",
       "  <th>Prob(Omnibus):</th>  <td> 0.000</td>   <th>  Jarque-Bera (JB):  </th> <td>226282871.612</td>\n",
       "</tr>\n",
       "<tr>\n",
       "  <th>Skew:</th>           <td>10.324</td>   <th>  Prob(JB):          </th>   <td>    0.00</td>   \n",
       "</tr>\n",
       "<tr>\n",
       "  <th>Kurtosis:</th>       <td>434.656</td>  <th>  Cond. No.          </th>   <td>1.23e+06</td>   \n",
       "</tr>\n",
       "</table><br/><br/>Warnings:<br/>[1] Standard Errors assume that the covariance matrix of the errors is correctly specified.<br/>[2] The condition number is large, 1.23e+06. This might indicate that there are<br/>strong multicollinearity or other numerical problems."
      ],
      "text/plain": [
       "<class 'statsmodels.iolib.summary.Summary'>\n",
       "\"\"\"\n",
       "                              OLS Regression Results                              \n",
       "==================================================================================\n",
       "Dep. Variable:     Total Household Income   R-squared:                       0.758\n",
       "Model:                                OLS   Adj. R-squared:                  0.758\n",
       "Method:                     Least Squares   F-statistic:                     2530.\n",
       "Date:                    Wed, 24 Mar 2021   Prob (F-statistic):               0.00\n",
       "Time:                            23:28:36   Log-Likelihood:            -3.8571e+05\n",
       "No. Observations:                   29080   AIC:                         7.715e+05\n",
       "Df Residuals:                       29043   BIC:                         7.718e+05\n",
       "Df Model:                              36                                         \n",
       "Covariance Type:                nonrobust                                         \n",
       "================================================================================================================\n",
       "                                                   coef    std err          t      P>|t|      [0.025      0.975]\n",
       "----------------------------------------------------------------------------------------------------------------\n",
       "const                                         3.059e+04   6310.501      4.847      0.000    1.82e+04     4.3e+04\n",
       "Region                                         735.3756    190.885      3.852      0.000     361.233    1109.518\n",
       "Main Source of Income                        -4.239e+04   1271.788    -33.329      0.000   -4.49e+04   -3.99e+04\n",
       "Agricultural Household indicator              3401.9152   1343.743      2.532      0.011     768.117    6035.714\n",
       "Imputed House Rental Value                       1.5707      0.027     58.485      0.000       1.518       1.623\n",
       "Crop Farming and Gardening expenses              0.1298      0.020      6.391      0.000       0.090       0.170\n",
       "Total Income from Entrepreneurial Acitivites     0.8603      0.007    122.767      0.000       0.847       0.874\n",
       "Household Head Sex                            -1.58e+04   2365.081     -6.682      0.000   -2.04e+04   -1.12e+04\n",
       "Household Head Age                             169.8632     73.539      2.310      0.021      25.724     314.002\n",
       "Household Head Marital Status                -5691.5061   1681.781     -3.384      0.001   -8987.873   -2395.139\n",
       "Household Head Highest Grade Completed         888.2784    108.086      8.218      0.000     676.426    1100.131\n",
       "Household Head Job or Business Indicator      2.368e+04   2473.481      9.573      0.000    1.88e+04    2.85e+04\n",
       "Total Number of Family members                4574.5249    782.847      5.843      0.000    3040.109    6108.941\n",
       "Members with age less than 5 year old        -2295.0629   1603.145     -1.432      0.152   -5437.301     847.175\n",
       "Members with age 5 - 17 years old            -4090.5673    983.527     -4.159      0.000   -6018.325   -2162.810\n",
       "Total number of family members employed       3.097e+04    987.892     31.354      0.000     2.9e+04    3.29e+04\n",
       "Type of Building/House                        9889.4400   1551.770      6.373      0.000    6847.899    1.29e+04\n",
       "Type of Walls                                -2729.3552    988.753     -2.760      0.006   -4667.356    -791.354\n",
       "House Floor Area                                95.3914     17.533      5.441      0.000      61.027     129.756\n",
       "Number of bedrooms                            7852.6292    926.486      8.476      0.000    6036.674    9668.585\n",
       "Tenure Status                                 5184.3152    624.553      8.301      0.000    3960.162    6408.468\n",
       "Toilet Facilities                            -1114.5370    552.251     -2.018      0.044   -2196.974     -32.100\n",
       "Electricity                                  -1.573e+04   3092.963     -5.085      0.000   -2.18e+04   -9664.547\n",
       "Main Source of Water Supply                  -1042.9449    332.921     -3.133      0.002   -1695.486    -390.404\n",
       "Number of Television                          1.346e+04   1789.078      7.523      0.000    9952.723     1.7e+04\n",
       "Number of CD/VCD/DVD                          2497.2055   1770.753      1.410      0.158    -973.552    5967.963\n",
       "Number of Component/Stereo set                2096.9428   2398.597      0.874      0.382   -2604.418    6798.303\n",
       "Number of Refrigerator/Freezer                2.567e+04   2090.240     12.281      0.000    2.16e+04    2.98e+04\n",
       "Number of Washing Machine                     2.422e+04   2233.243     10.846      0.000    1.98e+04    2.86e+04\n",
       "Number of Airconditioner                      6.647e+04   2484.153     26.756      0.000    6.16e+04    7.13e+04\n",
       "Number of Car, Jeep, Van                      8.296e+04   3051.009     27.192      0.000     7.7e+04    8.89e+04\n",
       "Number of Landline/wireless telephones        2.864e+04   3424.442      8.363      0.000    2.19e+04    3.54e+04\n",
       "Number of Cellular phone                      1.525e+04    755.332     20.195      0.000    1.38e+04    1.67e+04\n",
       "Number of Personal Computer                   4.907e+04   1490.360     32.923      0.000    4.61e+04     5.2e+04\n",
       "Number of Stove with Oven/Gas Range           2.595e+04   2683.330      9.670      0.000    2.07e+04    3.12e+04\n",
       "Number of Motorized Banca                     1.521e+04   6517.984      2.333      0.020    2430.543     2.8e+04\n",
       "Number of Motorcycle/Tricycle                 4661.2289   1623.223      2.872      0.004    1479.638    7842.820\n",
       "==============================================================================\n",
       "Omnibus:                    47978.891   Durbin-Watson:                   1.994\n",
       "Prob(Omnibus):                  0.000   Jarque-Bera (JB):        226282871.612\n",
       "Skew:                          10.324   Prob(JB):                         0.00\n",
       "Kurtosis:                     434.656   Cond. No.                     1.23e+06\n",
       "==============================================================================\n",
       "\n",
       "Warnings:\n",
       "[1] Standard Errors assume that the covariance matrix of the errors is correctly specified.\n",
       "[2] The condition number is large, 1.23e+06. This might indicate that there are\n",
       "strong multicollinearity or other numerical problems.\n",
       "\"\"\""
      ]
     },
     "execution_count": 224,
     "metadata": {},
     "output_type": "execute_result"
    }
   ],
   "source": [
    "X_train = X_train.drop('House Age', axis = 1)\n",
    "\n",
    "x = sm.add_constant(X_train)\n",
    "model = sm.OLS(y_train, x).fit()\n",
    "model.summary()"
   ]
  },
  {
   "cell_type": "code",
   "execution_count": 225,
   "metadata": {},
   "outputs": [
    {
     "data": {
      "text/html": [
       "<table class=\"simpletable\">\n",
       "<caption>OLS Regression Results</caption>\n",
       "<tr>\n",
       "  <th>Dep. Variable:</th>    <td>Total Household Income</td> <th>  R-squared:         </th>  <td>   0.758</td>  \n",
       "</tr>\n",
       "<tr>\n",
       "  <th>Model:</th>                      <td>OLS</td>          <th>  Adj. R-squared:    </th>  <td>   0.758</td>  \n",
       "</tr>\n",
       "<tr>\n",
       "  <th>Method:</th>                <td>Least Squares</td>     <th>  F-statistic:       </th>  <td>   2603.</td>  \n",
       "</tr>\n",
       "<tr>\n",
       "  <th>Date:</th>                <td>Wed, 24 Mar 2021</td>    <th>  Prob (F-statistic):</th>   <td>  0.00</td>   \n",
       "</tr>\n",
       "<tr>\n",
       "  <th>Time:</th>                    <td>23:29:37</td>        <th>  Log-Likelihood:    </th> <td>-3.8571e+05</td>\n",
       "</tr>\n",
       "<tr>\n",
       "  <th>No. Observations:</th>         <td> 29080</td>         <th>  AIC:               </th>  <td>7.715e+05</td> \n",
       "</tr>\n",
       "<tr>\n",
       "  <th>Df Residuals:</th>             <td> 29044</td>         <th>  BIC:               </th>  <td>7.718e+05</td> \n",
       "</tr>\n",
       "<tr>\n",
       "  <th>Df Model:</th>                 <td>    35</td>         <th>                     </th>      <td> </td>     \n",
       "</tr>\n",
       "<tr>\n",
       "  <th>Covariance Type:</th>         <td>nonrobust</td>       <th>                     </th>      <td> </td>     \n",
       "</tr>\n",
       "</table>\n",
       "<table class=\"simpletable\">\n",
       "<tr>\n",
       "                        <td></td>                          <th>coef</th>     <th>std err</th>      <th>t</th>      <th>P>|t|</th>  <th>[0.025</th>    <th>0.975]</th>  \n",
       "</tr>\n",
       "<tr>\n",
       "  <th>const</th>                                        <td> 3.063e+04</td> <td> 6310.286</td> <td>    4.854</td> <td> 0.000</td> <td> 1.83e+04</td> <td>  4.3e+04</td>\n",
       "</tr>\n",
       "<tr>\n",
       "  <th>Region</th>                                       <td>  738.3039</td> <td>  190.855</td> <td>    3.868</td> <td> 0.000</td> <td>  364.220</td> <td> 1112.388</td>\n",
       "</tr>\n",
       "<tr>\n",
       "  <th>Main Source of Income</th>                        <td>-4.239e+04</td> <td> 1271.782</td> <td>  -33.330</td> <td> 0.000</td> <td>-4.49e+04</td> <td>-3.99e+04</td>\n",
       "</tr>\n",
       "<tr>\n",
       "  <th>Agricultural Household indicator</th>             <td> 3383.1712</td> <td> 1343.567</td> <td>    2.518</td> <td> 0.012</td> <td>  749.719</td> <td> 6016.624</td>\n",
       "</tr>\n",
       "<tr>\n",
       "  <th>Imputed House Rental Value</th>                   <td>    1.5713</td> <td>    0.027</td> <td>   58.520</td> <td> 0.000</td> <td>    1.519</td> <td>    1.624</td>\n",
       "</tr>\n",
       "<tr>\n",
       "  <th>Crop Farming and Gardening expenses</th>          <td>    0.1300</td> <td>    0.020</td> <td>    6.403</td> <td> 0.000</td> <td>    0.090</td> <td>    0.170</td>\n",
       "</tr>\n",
       "<tr>\n",
       "  <th>Total Income from Entrepreneurial Acitivites</th> <td>    0.8603</td> <td>    0.007</td> <td>  122.770</td> <td> 0.000</td> <td>    0.847</td> <td>    0.874</td>\n",
       "</tr>\n",
       "<tr>\n",
       "  <th>Household Head Sex</th>                           <td> -1.58e+04</td> <td> 2365.066</td> <td>   -6.680</td> <td> 0.000</td> <td>-2.04e+04</td> <td>-1.12e+04</td>\n",
       "</tr>\n",
       "<tr>\n",
       "  <th>Household Head Age</th>                           <td>  169.4528</td> <td>   73.537</td> <td>    2.304</td> <td> 0.021</td> <td>   25.317</td> <td>  313.589</td>\n",
       "</tr>\n",
       "<tr>\n",
       "  <th>Household Head Marital Status</th>                <td>-5696.4283</td> <td> 1681.764</td> <td>   -3.387</td> <td> 0.001</td> <td>-8992.763</td> <td>-2400.094</td>\n",
       "</tr>\n",
       "<tr>\n",
       "  <th>Household Head Highest Grade Completed</th>       <td>  888.6352</td> <td>  108.084</td> <td>    8.222</td> <td> 0.000</td> <td>  676.785</td> <td> 1100.486</td>\n",
       "</tr>\n",
       "<tr>\n",
       "  <th>Household Head Job or Business Indicator</th>     <td> 2.371e+04</td> <td> 2473.278</td> <td>    9.585</td> <td> 0.000</td> <td> 1.89e+04</td> <td> 2.86e+04</td>\n",
       "</tr>\n",
       "<tr>\n",
       "  <th>Total Number of Family members</th>               <td> 4565.5653</td> <td>  782.777</td> <td>    5.833</td> <td> 0.000</td> <td> 3031.287</td> <td> 6099.843</td>\n",
       "</tr>\n",
       "<tr>\n",
       "  <th>Members with age less than 5 year old</th>        <td>-2289.6770</td> <td> 1603.127</td> <td>   -1.428</td> <td> 0.153</td> <td>-5431.879</td> <td>  852.525</td>\n",
       "</tr>\n",
       "<tr>\n",
       "  <th>Members with age 5 - 17 years old</th>            <td>-4088.6229</td> <td>  983.520</td> <td>   -4.157</td> <td> 0.000</td> <td>-6016.367</td> <td>-2160.878</td>\n",
       "</tr>\n",
       "<tr>\n",
       "  <th>Total number of family members employed</th>      <td> 3.097e+04</td> <td>  987.885</td> <td>   31.353</td> <td> 0.000</td> <td>  2.9e+04</td> <td> 3.29e+04</td>\n",
       "</tr>\n",
       "<tr>\n",
       "  <th>Type of Building/House</th>                       <td> 9877.8356</td> <td> 1551.707</td> <td>    6.366</td> <td> 0.000</td> <td> 6836.419</td> <td> 1.29e+04</td>\n",
       "</tr>\n",
       "<tr>\n",
       "  <th>Type of Walls</th>                                <td>-2728.8864</td> <td>  988.749</td> <td>   -2.760</td> <td> 0.006</td> <td>-4666.879</td> <td> -790.894</td>\n",
       "</tr>\n",
       "<tr>\n",
       "  <th>House Floor Area</th>                             <td>   95.2781</td> <td>   17.532</td> <td>    5.434</td> <td> 0.000</td> <td>   60.914</td> <td>  129.642</td>\n",
       "</tr>\n",
       "<tr>\n",
       "  <th>Number of bedrooms</th>                           <td> 7866.2944</td> <td>  926.351</td> <td>    8.492</td> <td> 0.000</td> <td> 6050.605</td> <td> 9681.984</td>\n",
       "</tr>\n",
       "<tr>\n",
       "  <th>Tenure Status</th>                                <td> 5179.7228</td> <td>  624.529</td> <td>    8.294</td> <td> 0.000</td> <td> 3955.618</td> <td> 6403.827</td>\n",
       "</tr>\n",
       "<tr>\n",
       "  <th>Toilet Facilities</th>                            <td>-1116.1648</td> <td>  552.245</td> <td>   -2.021</td> <td> 0.043</td> <td>-2198.591</td> <td>  -33.739</td>\n",
       "</tr>\n",
       "<tr>\n",
       "  <th>Electricity</th>                                  <td>-1.574e+04</td> <td> 3092.906</td> <td>   -5.089</td> <td> 0.000</td> <td>-2.18e+04</td> <td>-9679.059</td>\n",
       "</tr>\n",
       "<tr>\n",
       "  <th>Main Source of Water Supply</th>                  <td>-1048.1774</td> <td>  332.866</td> <td>   -3.149</td> <td> 0.002</td> <td>-1700.610</td> <td> -395.744</td>\n",
       "</tr>\n",
       "<tr>\n",
       "  <th>Number of Television</th>                         <td> 1.349e+04</td> <td> 1788.821</td> <td>    7.539</td> <td> 0.000</td> <td> 9979.352</td> <td>  1.7e+04</td>\n",
       "</tr>\n",
       "<tr>\n",
       "  <th>Number of CD/VCD/DVD</th>                         <td> 2802.2342</td> <td> 1736.032</td> <td>    1.614</td> <td> 0.107</td> <td> -600.467</td> <td> 6204.935</td>\n",
       "</tr>\n",
       "<tr>\n",
       "  <th>Number of Refrigerator/Freezer</th>               <td>  2.58e+04</td> <td> 2085.090</td> <td>   12.373</td> <td> 0.000</td> <td> 2.17e+04</td> <td> 2.99e+04</td>\n",
       "</tr>\n",
       "<tr>\n",
       "  <th>Number of Washing Machine</th>                    <td> 2.428e+04</td> <td> 2232.249</td> <td>   10.877</td> <td> 0.000</td> <td> 1.99e+04</td> <td> 2.87e+04</td>\n",
       "</tr>\n",
       "<tr>\n",
       "  <th>Number of Airconditioner</th>                     <td> 6.661e+04</td> <td> 2479.011</td> <td>   26.868</td> <td> 0.000</td> <td> 6.17e+04</td> <td> 7.15e+04</td>\n",
       "</tr>\n",
       "<tr>\n",
       "  <th>Number of Car, Jeep, Van</th>                     <td>   8.3e+04</td> <td> 3050.689</td> <td>   27.207</td> <td> 0.000</td> <td>  7.7e+04</td> <td>  8.9e+04</td>\n",
       "</tr>\n",
       "<tr>\n",
       "  <th>Number of Landline/wireless telephones</th>       <td> 2.866e+04</td> <td> 3424.325</td> <td>    8.370</td> <td> 0.000</td> <td>  2.2e+04</td> <td> 3.54e+04</td>\n",
       "</tr>\n",
       "<tr>\n",
       "  <th>Number of Cellular phone</th>                     <td> 1.526e+04</td> <td>  755.280</td> <td>   20.207</td> <td> 0.000</td> <td> 1.38e+04</td> <td> 1.67e+04</td>\n",
       "</tr>\n",
       "<tr>\n",
       "  <th>Number of Personal Computer</th>                  <td> 4.916e+04</td> <td> 1486.539</td> <td>   33.070</td> <td> 0.000</td> <td> 4.62e+04</td> <td> 5.21e+04</td>\n",
       "</tr>\n",
       "<tr>\n",
       "  <th>Number of Stove with Oven/Gas Range</th>          <td> 2.612e+04</td> <td> 2676.147</td> <td>    9.760</td> <td> 0.000</td> <td> 2.09e+04</td> <td> 3.14e+04</td>\n",
       "</tr>\n",
       "<tr>\n",
       "  <th>Number of Motorized Banca</th>                    <td> 1.537e+04</td> <td> 6515.358</td> <td>    2.359</td> <td> 0.018</td> <td> 2596.615</td> <td> 2.81e+04</td>\n",
       "</tr>\n",
       "<tr>\n",
       "  <th>Number of Motorcycle/Tricycle</th>                <td> 4717.4268</td> <td> 1621.943</td> <td>    2.909</td> <td> 0.004</td> <td> 1538.344</td> <td> 7896.509</td>\n",
       "</tr>\n",
       "</table>\n",
       "<table class=\"simpletable\">\n",
       "<tr>\n",
       "  <th>Omnibus:</th>       <td>47968.108</td> <th>  Durbin-Watson:     </th>   <td>   1.994</td>   \n",
       "</tr>\n",
       "<tr>\n",
       "  <th>Prob(Omnibus):</th>  <td> 0.000</td>   <th>  Jarque-Bera (JB):  </th> <td>225886671.749</td>\n",
       "</tr>\n",
       "<tr>\n",
       "  <th>Skew:</th>           <td>10.319</td>   <th>  Prob(JB):          </th>   <td>    0.00</td>   \n",
       "</tr>\n",
       "<tr>\n",
       "  <th>Kurtosis:</th>       <td>434.278</td>  <th>  Cond. No.          </th>   <td>1.23e+06</td>   \n",
       "</tr>\n",
       "</table><br/><br/>Warnings:<br/>[1] Standard Errors assume that the covariance matrix of the errors is correctly specified.<br/>[2] The condition number is large, 1.23e+06. This might indicate that there are<br/>strong multicollinearity or other numerical problems."
      ],
      "text/plain": [
       "<class 'statsmodels.iolib.summary.Summary'>\n",
       "\"\"\"\n",
       "                              OLS Regression Results                              \n",
       "==================================================================================\n",
       "Dep. Variable:     Total Household Income   R-squared:                       0.758\n",
       "Model:                                OLS   Adj. R-squared:                  0.758\n",
       "Method:                     Least Squares   F-statistic:                     2603.\n",
       "Date:                    Wed, 24 Mar 2021   Prob (F-statistic):               0.00\n",
       "Time:                            23:29:37   Log-Likelihood:            -3.8571e+05\n",
       "No. Observations:                   29080   AIC:                         7.715e+05\n",
       "Df Residuals:                       29044   BIC:                         7.718e+05\n",
       "Df Model:                              35                                         \n",
       "Covariance Type:                nonrobust                                         \n",
       "================================================================================================================\n",
       "                                                   coef    std err          t      P>|t|      [0.025      0.975]\n",
       "----------------------------------------------------------------------------------------------------------------\n",
       "const                                         3.063e+04   6310.286      4.854      0.000    1.83e+04     4.3e+04\n",
       "Region                                         738.3039    190.855      3.868      0.000     364.220    1112.388\n",
       "Main Source of Income                        -4.239e+04   1271.782    -33.330      0.000   -4.49e+04   -3.99e+04\n",
       "Agricultural Household indicator              3383.1712   1343.567      2.518      0.012     749.719    6016.624\n",
       "Imputed House Rental Value                       1.5713      0.027     58.520      0.000       1.519       1.624\n",
       "Crop Farming and Gardening expenses              0.1300      0.020      6.403      0.000       0.090       0.170\n",
       "Total Income from Entrepreneurial Acitivites     0.8603      0.007    122.770      0.000       0.847       0.874\n",
       "Household Head Sex                            -1.58e+04   2365.066     -6.680      0.000   -2.04e+04   -1.12e+04\n",
       "Household Head Age                             169.4528     73.537      2.304      0.021      25.317     313.589\n",
       "Household Head Marital Status                -5696.4283   1681.764     -3.387      0.001   -8992.763   -2400.094\n",
       "Household Head Highest Grade Completed         888.6352    108.084      8.222      0.000     676.785    1100.486\n",
       "Household Head Job or Business Indicator      2.371e+04   2473.278      9.585      0.000    1.89e+04    2.86e+04\n",
       "Total Number of Family members                4565.5653    782.777      5.833      0.000    3031.287    6099.843\n",
       "Members with age less than 5 year old        -2289.6770   1603.127     -1.428      0.153   -5431.879     852.525\n",
       "Members with age 5 - 17 years old            -4088.6229    983.520     -4.157      0.000   -6016.367   -2160.878\n",
       "Total number of family members employed       3.097e+04    987.885     31.353      0.000     2.9e+04    3.29e+04\n",
       "Type of Building/House                        9877.8356   1551.707      6.366      0.000    6836.419    1.29e+04\n",
       "Type of Walls                                -2728.8864    988.749     -2.760      0.006   -4666.879    -790.894\n",
       "House Floor Area                                95.2781     17.532      5.434      0.000      60.914     129.642\n",
       "Number of bedrooms                            7866.2944    926.351      8.492      0.000    6050.605    9681.984\n",
       "Tenure Status                                 5179.7228    624.529      8.294      0.000    3955.618    6403.827\n",
       "Toilet Facilities                            -1116.1648    552.245     -2.021      0.043   -2198.591     -33.739\n",
       "Electricity                                  -1.574e+04   3092.906     -5.089      0.000   -2.18e+04   -9679.059\n",
       "Main Source of Water Supply                  -1048.1774    332.866     -3.149      0.002   -1700.610    -395.744\n",
       "Number of Television                          1.349e+04   1788.821      7.539      0.000    9979.352     1.7e+04\n",
       "Number of CD/VCD/DVD                          2802.2342   1736.032      1.614      0.107    -600.467    6204.935\n",
       "Number of Refrigerator/Freezer                 2.58e+04   2085.090     12.373      0.000    2.17e+04    2.99e+04\n",
       "Number of Washing Machine                     2.428e+04   2232.249     10.877      0.000    1.99e+04    2.87e+04\n",
       "Number of Airconditioner                      6.661e+04   2479.011     26.868      0.000    6.17e+04    7.15e+04\n",
       "Number of Car, Jeep, Van                        8.3e+04   3050.689     27.207      0.000     7.7e+04     8.9e+04\n",
       "Number of Landline/wireless telephones        2.866e+04   3424.325      8.370      0.000     2.2e+04    3.54e+04\n",
       "Number of Cellular phone                      1.526e+04    755.280     20.207      0.000    1.38e+04    1.67e+04\n",
       "Number of Personal Computer                   4.916e+04   1486.539     33.070      0.000    4.62e+04    5.21e+04\n",
       "Number of Stove with Oven/Gas Range           2.612e+04   2676.147      9.760      0.000    2.09e+04    3.14e+04\n",
       "Number of Motorized Banca                     1.537e+04   6515.358      2.359      0.018    2596.615    2.81e+04\n",
       "Number of Motorcycle/Tricycle                 4717.4268   1621.943      2.909      0.004    1538.344    7896.509\n",
       "==============================================================================\n",
       "Omnibus:                    47968.108   Durbin-Watson:                   1.994\n",
       "Prob(Omnibus):                  0.000   Jarque-Bera (JB):        225886671.749\n",
       "Skew:                          10.319   Prob(JB):                         0.00\n",
       "Kurtosis:                     434.278   Cond. No.                     1.23e+06\n",
       "==============================================================================\n",
       "\n",
       "Warnings:\n",
       "[1] Standard Errors assume that the covariance matrix of the errors is correctly specified.\n",
       "[2] The condition number is large, 1.23e+06. This might indicate that there are\n",
       "strong multicollinearity or other numerical problems.\n",
       "\"\"\""
      ]
     },
     "execution_count": 225,
     "metadata": {},
     "output_type": "execute_result"
    }
   ],
   "source": [
    "X_train = X_train.drop('Number of Component/Stereo set', axis = 1)\n",
    "\n",
    "x = sm.add_constant(X_train)\n",
    "model = sm.OLS(y_train, x).fit()\n",
    "model.summary()"
   ]
  },
  {
   "cell_type": "code",
   "execution_count": 226,
   "metadata": {},
   "outputs": [
    {
     "data": {
      "text/html": [
       "<table class=\"simpletable\">\n",
       "<caption>OLS Regression Results</caption>\n",
       "<tr>\n",
       "  <th>Dep. Variable:</th>    <td>Total Household Income</td> <th>  R-squared:         </th>  <td>   0.758</td>  \n",
       "</tr>\n",
       "<tr>\n",
       "  <th>Model:</th>                      <td>OLS</td>          <th>  Adj. R-squared:    </th>  <td>   0.758</td>  \n",
       "</tr>\n",
       "<tr>\n",
       "  <th>Method:</th>                <td>Least Squares</td>     <th>  F-statistic:       </th>  <td>   2679.</td>  \n",
       "</tr>\n",
       "<tr>\n",
       "  <th>Date:</th>                <td>Wed, 24 Mar 2021</td>    <th>  Prob (F-statistic):</th>   <td>  0.00</td>   \n",
       "</tr>\n",
       "<tr>\n",
       "  <th>Time:</th>                    <td>23:30:20</td>        <th>  Log-Likelihood:    </th> <td>-3.8571e+05</td>\n",
       "</tr>\n",
       "<tr>\n",
       "  <th>No. Observations:</th>         <td> 29080</td>         <th>  AIC:               </th>  <td>7.715e+05</td> \n",
       "</tr>\n",
       "<tr>\n",
       "  <th>Df Residuals:</th>             <td> 29045</td>         <th>  BIC:               </th>  <td>7.718e+05</td> \n",
       "</tr>\n",
       "<tr>\n",
       "  <th>Df Model:</th>                 <td>    34</td>         <th>                     </th>      <td> </td>     \n",
       "</tr>\n",
       "<tr>\n",
       "  <th>Covariance Type:</th>         <td>nonrobust</td>       <th>                     </th>      <td> </td>     \n",
       "</tr>\n",
       "</table>\n",
       "<table class=\"simpletable\">\n",
       "<tr>\n",
       "                        <td></td>                          <th>coef</th>     <th>std err</th>      <th>t</th>      <th>P>|t|</th>  <th>[0.025</th>    <th>0.975]</th>  \n",
       "</tr>\n",
       "<tr>\n",
       "  <th>const</th>                                        <td> 2.947e+04</td> <td> 6257.652</td> <td>    4.709</td> <td> 0.000</td> <td> 1.72e+04</td> <td> 4.17e+04</td>\n",
       "</tr>\n",
       "<tr>\n",
       "  <th>Region</th>                                       <td>  734.7182</td> <td>  190.841</td> <td>    3.850</td> <td> 0.000</td> <td>  360.660</td> <td> 1108.776</td>\n",
       "</tr>\n",
       "<tr>\n",
       "  <th>Main Source of Income</th>                        <td>-4.228e+04</td> <td> 1269.539</td> <td>  -33.304</td> <td> 0.000</td> <td>-4.48e+04</td> <td>-3.98e+04</td>\n",
       "</tr>\n",
       "<tr>\n",
       "  <th>Agricultural Household indicator</th>             <td> 3435.5641</td> <td> 1343.090</td> <td>    2.558</td> <td> 0.011</td> <td>  803.046</td> <td> 6068.082</td>\n",
       "</tr>\n",
       "<tr>\n",
       "  <th>Imputed House Rental Value</th>                   <td>    1.5711</td> <td>    0.027</td> <td>   58.514</td> <td> 0.000</td> <td>    1.518</td> <td>    1.624</td>\n",
       "</tr>\n",
       "<tr>\n",
       "  <th>Crop Farming and Gardening expenses</th>          <td>    0.1305</td> <td>    0.020</td> <td>    6.428</td> <td> 0.000</td> <td>    0.091</td> <td>    0.170</td>\n",
       "</tr>\n",
       "<tr>\n",
       "  <th>Total Income from Entrepreneurial Acitivites</th> <td>    0.8608</td> <td>    0.007</td> <td>  122.951</td> <td> 0.000</td> <td>    0.847</td> <td>    0.875</td>\n",
       "</tr>\n",
       "<tr>\n",
       "  <th>Household Head Sex</th>                           <td> -1.56e+04</td> <td> 2361.208</td> <td>   -6.609</td> <td> 0.000</td> <td>-2.02e+04</td> <td> -1.1e+04</td>\n",
       "</tr>\n",
       "<tr>\n",
       "  <th>Household Head Age</th>                           <td>  203.5840</td> <td>   69.547</td> <td>    2.927</td> <td> 0.003</td> <td>   67.269</td> <td>  339.899</td>\n",
       "</tr>\n",
       "<tr>\n",
       "  <th>Household Head Marital Status</th>                <td>-5862.4951</td> <td> 1677.770</td> <td>   -3.494</td> <td> 0.000</td> <td>-9151.001</td> <td>-2573.989</td>\n",
       "</tr>\n",
       "<tr>\n",
       "  <th>Household Head Highest Grade Completed</th>       <td>  888.9677</td> <td>  108.086</td> <td>    8.225</td> <td> 0.000</td> <td>  677.114</td> <td> 1100.821</td>\n",
       "</tr>\n",
       "<tr>\n",
       "  <th>Household Head Job or Business Indicator</th>     <td>  2.37e+04</td> <td> 2473.312</td> <td>    9.581</td> <td> 0.000</td> <td> 1.88e+04</td> <td> 2.85e+04</td>\n",
       "</tr>\n",
       "<tr>\n",
       "  <th>Total Number of Family members</th>               <td> 3848.2996</td> <td>  600.459</td> <td>    6.409</td> <td> 0.000</td> <td> 2671.373</td> <td> 5025.226</td>\n",
       "</tr>\n",
       "<tr>\n",
       "  <th>Members with age 5 - 17 years old</th>            <td>-3424.8455</td> <td>  866.804</td> <td>   -3.951</td> <td> 0.000</td> <td>-5123.821</td> <td>-1725.870</td>\n",
       "</tr>\n",
       "<tr>\n",
       "  <th>Total number of family members employed</th>      <td> 3.127e+04</td> <td>  965.612</td> <td>   32.385</td> <td> 0.000</td> <td> 2.94e+04</td> <td> 3.32e+04</td>\n",
       "</tr>\n",
       "<tr>\n",
       "  <th>Type of Building/House</th>                       <td> 9888.3446</td> <td> 1551.718</td> <td>    6.373</td> <td> 0.000</td> <td> 6846.907</td> <td> 1.29e+04</td>\n",
       "</tr>\n",
       "<tr>\n",
       "  <th>Type of Walls</th>                                <td>-2734.6778</td> <td>  988.758</td> <td>   -2.766</td> <td> 0.006</td> <td>-4672.689</td> <td> -796.666</td>\n",
       "</tr>\n",
       "<tr>\n",
       "  <th>House Floor Area</th>                             <td>   95.3281</td> <td>   17.532</td> <td>    5.437</td> <td> 0.000</td> <td>   60.964</td> <td>  129.692</td>\n",
       "</tr>\n",
       "<tr>\n",
       "  <th>Number of bedrooms</th>                           <td> 7906.8155</td> <td>  925.933</td> <td>    8.539</td> <td> 0.000</td> <td> 6091.945</td> <td> 9721.686</td>\n",
       "</tr>\n",
       "<tr>\n",
       "  <th>Tenure Status</th>                                <td> 5166.1509</td> <td>  624.467</td> <td>    8.273</td> <td> 0.000</td> <td> 3942.166</td> <td> 6390.136</td>\n",
       "</tr>\n",
       "<tr>\n",
       "  <th>Toilet Facilities</th>                            <td>-1129.9166</td> <td>  552.171</td> <td>   -2.046</td> <td> 0.041</td> <td>-2212.198</td> <td>  -47.636</td>\n",
       "</tr>\n",
       "<tr>\n",
       "  <th>Electricity</th>                                  <td>-1.582e+04</td> <td> 3092.447</td> <td>   -5.116</td> <td> 0.000</td> <td>-2.19e+04</td> <td>-9760.596</td>\n",
       "</tr>\n",
       "<tr>\n",
       "  <th>Main Source of Water Supply</th>                  <td>-1038.8674</td> <td>  332.808</td> <td>   -3.122</td> <td> 0.002</td> <td>-1691.187</td> <td> -386.548</td>\n",
       "</tr>\n",
       "<tr>\n",
       "  <th>Number of Television</th>                         <td> 1.349e+04</td> <td> 1788.847</td> <td>    7.542</td> <td> 0.000</td> <td> 9985.702</td> <td>  1.7e+04</td>\n",
       "</tr>\n",
       "<tr>\n",
       "  <th>Number of CD/VCD/DVD</th>                         <td> 2840.1672</td> <td> 1735.860</td> <td>    1.636</td> <td> 0.102</td> <td> -562.197</td> <td> 6242.531</td>\n",
       "</tr>\n",
       "<tr>\n",
       "  <th>Number of Refrigerator/Freezer</th>               <td> 2.582e+04</td> <td> 2085.093</td> <td>   12.381</td> <td> 0.000</td> <td> 2.17e+04</td> <td> 2.99e+04</td>\n",
       "</tr>\n",
       "<tr>\n",
       "  <th>Number of Washing Machine</th>                    <td> 2.426e+04</td> <td> 2232.225</td> <td>   10.866</td> <td> 0.000</td> <td> 1.99e+04</td> <td> 2.86e+04</td>\n",
       "</tr>\n",
       "<tr>\n",
       "  <th>Number of Airconditioner</th>                     <td> 6.653e+04</td> <td> 2478.434</td> <td>   26.842</td> <td> 0.000</td> <td> 6.17e+04</td> <td> 7.14e+04</td>\n",
       "</tr>\n",
       "<tr>\n",
       "  <th>Number of Car, Jeep, Van</th>                     <td> 8.291e+04</td> <td> 3050.053</td> <td>   27.182</td> <td> 0.000</td> <td> 7.69e+04</td> <td> 8.89e+04</td>\n",
       "</tr>\n",
       "<tr>\n",
       "  <th>Number of Landline/wireless telephones</th>       <td> 2.886e+04</td> <td> 3421.485</td> <td>    8.436</td> <td> 0.000</td> <td> 2.22e+04</td> <td> 3.56e+04</td>\n",
       "</tr>\n",
       "<tr>\n",
       "  <th>Number of Cellular phone</th>                     <td> 1.549e+04</td> <td>  737.726</td> <td>   21.001</td> <td> 0.000</td> <td>  1.4e+04</td> <td> 1.69e+04</td>\n",
       "</tr>\n",
       "<tr>\n",
       "  <th>Number of Personal Computer</th>                  <td> 4.916e+04</td> <td> 1486.566</td> <td>   33.069</td> <td> 0.000</td> <td> 4.62e+04</td> <td> 5.21e+04</td>\n",
       "</tr>\n",
       "<tr>\n",
       "  <th>Number of Stove with Oven/Gas Range</th>          <td> 2.605e+04</td> <td> 2675.753</td> <td>    9.736</td> <td> 0.000</td> <td> 2.08e+04</td> <td> 3.13e+04</td>\n",
       "</tr>\n",
       "<tr>\n",
       "  <th>Number of Motorized Banca</th>                    <td> 1.551e+04</td> <td> 6514.727</td> <td>    2.380</td> <td> 0.017</td> <td> 2738.788</td> <td> 2.83e+04</td>\n",
       "</tr>\n",
       "<tr>\n",
       "  <th>Number of Motorcycle/Tricycle</th>                <td> 4722.0415</td> <td> 1621.969</td> <td>    2.911</td> <td> 0.004</td> <td> 1542.908</td> <td> 7901.175</td>\n",
       "</tr>\n",
       "</table>\n",
       "<table class=\"simpletable\">\n",
       "<tr>\n",
       "  <th>Omnibus:</th>       <td>47965.427</td> <th>  Durbin-Watson:     </th>   <td>   1.994</td>   \n",
       "</tr>\n",
       "<tr>\n",
       "  <th>Prob(Omnibus):</th>  <td> 0.000</td>   <th>  Jarque-Bera (JB):  </th> <td>225882280.639</td>\n",
       "</tr>\n",
       "<tr>\n",
       "  <th>Skew:</th>           <td>10.318</td>   <th>  Prob(JB):          </th>   <td>    0.00</td>   \n",
       "</tr>\n",
       "<tr>\n",
       "  <th>Kurtosis:</th>       <td>434.274</td>  <th>  Cond. No.          </th>   <td>1.22e+06</td>   \n",
       "</tr>\n",
       "</table><br/><br/>Warnings:<br/>[1] Standard Errors assume that the covariance matrix of the errors is correctly specified.<br/>[2] The condition number is large, 1.22e+06. This might indicate that there are<br/>strong multicollinearity or other numerical problems."
      ],
      "text/plain": [
       "<class 'statsmodels.iolib.summary.Summary'>\n",
       "\"\"\"\n",
       "                              OLS Regression Results                              \n",
       "==================================================================================\n",
       "Dep. Variable:     Total Household Income   R-squared:                       0.758\n",
       "Model:                                OLS   Adj. R-squared:                  0.758\n",
       "Method:                     Least Squares   F-statistic:                     2679.\n",
       "Date:                    Wed, 24 Mar 2021   Prob (F-statistic):               0.00\n",
       "Time:                            23:30:20   Log-Likelihood:            -3.8571e+05\n",
       "No. Observations:                   29080   AIC:                         7.715e+05\n",
       "Df Residuals:                       29045   BIC:                         7.718e+05\n",
       "Df Model:                              34                                         \n",
       "Covariance Type:                nonrobust                                         \n",
       "================================================================================================================\n",
       "                                                   coef    std err          t      P>|t|      [0.025      0.975]\n",
       "----------------------------------------------------------------------------------------------------------------\n",
       "const                                         2.947e+04   6257.652      4.709      0.000    1.72e+04    4.17e+04\n",
       "Region                                         734.7182    190.841      3.850      0.000     360.660    1108.776\n",
       "Main Source of Income                        -4.228e+04   1269.539    -33.304      0.000   -4.48e+04   -3.98e+04\n",
       "Agricultural Household indicator              3435.5641   1343.090      2.558      0.011     803.046    6068.082\n",
       "Imputed House Rental Value                       1.5711      0.027     58.514      0.000       1.518       1.624\n",
       "Crop Farming and Gardening expenses              0.1305      0.020      6.428      0.000       0.091       0.170\n",
       "Total Income from Entrepreneurial Acitivites     0.8608      0.007    122.951      0.000       0.847       0.875\n",
       "Household Head Sex                            -1.56e+04   2361.208     -6.609      0.000   -2.02e+04    -1.1e+04\n",
       "Household Head Age                             203.5840     69.547      2.927      0.003      67.269     339.899\n",
       "Household Head Marital Status                -5862.4951   1677.770     -3.494      0.000   -9151.001   -2573.989\n",
       "Household Head Highest Grade Completed         888.9677    108.086      8.225      0.000     677.114    1100.821\n",
       "Household Head Job or Business Indicator       2.37e+04   2473.312      9.581      0.000    1.88e+04    2.85e+04\n",
       "Total Number of Family members                3848.2996    600.459      6.409      0.000    2671.373    5025.226\n",
       "Members with age 5 - 17 years old            -3424.8455    866.804     -3.951      0.000   -5123.821   -1725.870\n",
       "Total number of family members employed       3.127e+04    965.612     32.385      0.000    2.94e+04    3.32e+04\n",
       "Type of Building/House                        9888.3446   1551.718      6.373      0.000    6846.907    1.29e+04\n",
       "Type of Walls                                -2734.6778    988.758     -2.766      0.006   -4672.689    -796.666\n",
       "House Floor Area                                95.3281     17.532      5.437      0.000      60.964     129.692\n",
       "Number of bedrooms                            7906.8155    925.933      8.539      0.000    6091.945    9721.686\n",
       "Tenure Status                                 5166.1509    624.467      8.273      0.000    3942.166    6390.136\n",
       "Toilet Facilities                            -1129.9166    552.171     -2.046      0.041   -2212.198     -47.636\n",
       "Electricity                                  -1.582e+04   3092.447     -5.116      0.000   -2.19e+04   -9760.596\n",
       "Main Source of Water Supply                  -1038.8674    332.808     -3.122      0.002   -1691.187    -386.548\n",
       "Number of Television                          1.349e+04   1788.847      7.542      0.000    9985.702     1.7e+04\n",
       "Number of CD/VCD/DVD                          2840.1672   1735.860      1.636      0.102    -562.197    6242.531\n",
       "Number of Refrigerator/Freezer                2.582e+04   2085.093     12.381      0.000    2.17e+04    2.99e+04\n",
       "Number of Washing Machine                     2.426e+04   2232.225     10.866      0.000    1.99e+04    2.86e+04\n",
       "Number of Airconditioner                      6.653e+04   2478.434     26.842      0.000    6.17e+04    7.14e+04\n",
       "Number of Car, Jeep, Van                      8.291e+04   3050.053     27.182      0.000    7.69e+04    8.89e+04\n",
       "Number of Landline/wireless telephones        2.886e+04   3421.485      8.436      0.000    2.22e+04    3.56e+04\n",
       "Number of Cellular phone                      1.549e+04    737.726     21.001      0.000     1.4e+04    1.69e+04\n",
       "Number of Personal Computer                   4.916e+04   1486.566     33.069      0.000    4.62e+04    5.21e+04\n",
       "Number of Stove with Oven/Gas Range           2.605e+04   2675.753      9.736      0.000    2.08e+04    3.13e+04\n",
       "Number of Motorized Banca                     1.551e+04   6514.727      2.380      0.017    2738.788    2.83e+04\n",
       "Number of Motorcycle/Tricycle                 4722.0415   1621.969      2.911      0.004    1542.908    7901.175\n",
       "==============================================================================\n",
       "Omnibus:                    47965.427   Durbin-Watson:                   1.994\n",
       "Prob(Omnibus):                  0.000   Jarque-Bera (JB):        225882280.639\n",
       "Skew:                          10.318   Prob(JB):                         0.00\n",
       "Kurtosis:                     434.274   Cond. No.                     1.22e+06\n",
       "==============================================================================\n",
       "\n",
       "Warnings:\n",
       "[1] Standard Errors assume that the covariance matrix of the errors is correctly specified.\n",
       "[2] The condition number is large, 1.22e+06. This might indicate that there are\n",
       "strong multicollinearity or other numerical problems.\n",
       "\"\"\""
      ]
     },
     "execution_count": 226,
     "metadata": {},
     "output_type": "execute_result"
    }
   ],
   "source": [
    "X_train = X_train.drop('Members with age less than 5 year old', axis = 1)\n",
    "\n",
    "x = sm.add_constant(X_train)\n",
    "model = sm.OLS(y_train, x).fit()\n",
    "model.summary()"
   ]
  },
  {
   "cell_type": "code",
   "execution_count": 227,
   "metadata": {},
   "outputs": [
    {
     "data": {
      "text/html": [
       "<table class=\"simpletable\">\n",
       "<caption>OLS Regression Results</caption>\n",
       "<tr>\n",
       "  <th>Dep. Variable:</th>    <td>Total Household Income</td> <th>  R-squared:         </th>  <td>   0.758</td>  \n",
       "</tr>\n",
       "<tr>\n",
       "  <th>Model:</th>                      <td>OLS</td>          <th>  Adj. R-squared:    </th>  <td>   0.758</td>  \n",
       "</tr>\n",
       "<tr>\n",
       "  <th>Method:</th>                <td>Least Squares</td>     <th>  F-statistic:       </th>  <td>   2760.</td>  \n",
       "</tr>\n",
       "<tr>\n",
       "  <th>Date:</th>                <td>Wed, 24 Mar 2021</td>    <th>  Prob (F-statistic):</th>   <td>  0.00</td>   \n",
       "</tr>\n",
       "<tr>\n",
       "  <th>Time:</th>                    <td>23:32:25</td>        <th>  Log-Likelihood:    </th> <td>-3.8572e+05</td>\n",
       "</tr>\n",
       "<tr>\n",
       "  <th>No. Observations:</th>         <td> 29080</td>         <th>  AIC:               </th>  <td>7.715e+05</td> \n",
       "</tr>\n",
       "<tr>\n",
       "  <th>Df Residuals:</th>             <td> 29046</td>         <th>  BIC:               </th>  <td>7.718e+05</td> \n",
       "</tr>\n",
       "<tr>\n",
       "  <th>Df Model:</th>                 <td>    33</td>         <th>                     </th>      <td> </td>     \n",
       "</tr>\n",
       "<tr>\n",
       "  <th>Covariance Type:</th>         <td>nonrobust</td>       <th>                     </th>      <td> </td>     \n",
       "</tr>\n",
       "</table>\n",
       "<table class=\"simpletable\">\n",
       "<tr>\n",
       "                        <td></td>                          <th>coef</th>     <th>std err</th>      <th>t</th>      <th>P>|t|</th>  <th>[0.025</th>    <th>0.975]</th>  \n",
       "</tr>\n",
       "<tr>\n",
       "  <th>const</th>                                        <td> 2.972e+04</td> <td> 6255.852</td> <td>    4.751</td> <td> 0.000</td> <td> 1.75e+04</td> <td>  4.2e+04</td>\n",
       "</tr>\n",
       "<tr>\n",
       "  <th>Region</th>                                       <td>  732.8288</td> <td>  190.843</td> <td>    3.840</td> <td> 0.000</td> <td>  358.767</td> <td> 1106.891</td>\n",
       "</tr>\n",
       "<tr>\n",
       "  <th>Main Source of Income</th>                        <td>-4.227e+04</td> <td> 1269.564</td> <td>  -33.296</td> <td> 0.000</td> <td>-4.48e+04</td> <td>-3.98e+04</td>\n",
       "</tr>\n",
       "<tr>\n",
       "  <th>Agricultural Household indicator</th>             <td> 3457.5186</td> <td> 1343.062</td> <td>    2.574</td> <td> 0.010</td> <td>  825.056</td> <td> 6089.981</td>\n",
       "</tr>\n",
       "<tr>\n",
       "  <th>Imputed House Rental Value</th>                   <td>    1.5726</td> <td>    0.027</td> <td>   58.599</td> <td> 0.000</td> <td>    1.520</td> <td>    1.625</td>\n",
       "</tr>\n",
       "<tr>\n",
       "  <th>Crop Farming and Gardening expenses</th>          <td>    0.1302</td> <td>    0.020</td> <td>    6.412</td> <td> 0.000</td> <td>    0.090</td> <td>    0.170</td>\n",
       "</tr>\n",
       "<tr>\n",
       "  <th>Total Income from Entrepreneurial Acitivites</th> <td>    0.8608</td> <td>    0.007</td> <td>  122.954</td> <td> 0.000</td> <td>    0.847</td> <td>    0.875</td>\n",
       "</tr>\n",
       "<tr>\n",
       "  <th>Household Head Sex</th>                           <td>-1.551e+04</td> <td> 2360.551</td> <td>   -6.570</td> <td> 0.000</td> <td>-2.01e+04</td> <td>-1.09e+04</td>\n",
       "</tr>\n",
       "<tr>\n",
       "  <th>Household Head Age</th>                           <td>  197.8195</td> <td>   69.460</td> <td>    2.848</td> <td> 0.004</td> <td>   61.675</td> <td>  333.964</td>\n",
       "</tr>\n",
       "<tr>\n",
       "  <th>Household Head Marital Status</th>                <td>-5874.1210</td> <td> 1677.804</td> <td>   -3.501</td> <td> 0.000</td> <td>-9162.693</td> <td>-2585.549</td>\n",
       "</tr>\n",
       "<tr>\n",
       "  <th>Household Head Highest Grade Completed</th>       <td>  889.2833</td> <td>  108.089</td> <td>    8.227</td> <td> 0.000</td> <td>  677.424</td> <td> 1101.143</td>\n",
       "</tr>\n",
       "<tr>\n",
       "  <th>Household Head Job or Business Indicator</th>     <td> 2.365e+04</td> <td> 2473.189</td> <td>    9.561</td> <td> 0.000</td> <td> 1.88e+04</td> <td> 2.85e+04</td>\n",
       "</tr>\n",
       "<tr>\n",
       "  <th>Total Number of Family members</th>               <td> 3841.8739</td> <td>  600.463</td> <td>    6.398</td> <td> 0.000</td> <td> 2664.938</td> <td> 5018.809</td>\n",
       "</tr>\n",
       "<tr>\n",
       "  <th>Members with age 5 - 17 years old</th>            <td>-3416.7115</td> <td>  866.815</td> <td>   -3.942</td> <td> 0.000</td> <td>-5115.708</td> <td>-1717.715</td>\n",
       "</tr>\n",
       "<tr>\n",
       "  <th>Total number of family members employed</th>      <td> 3.127e+04</td> <td>  965.637</td> <td>   32.380</td> <td> 0.000</td> <td> 2.94e+04</td> <td> 3.32e+04</td>\n",
       "</tr>\n",
       "<tr>\n",
       "  <th>Type of Building/House</th>                       <td> 9898.8848</td> <td> 1551.749</td> <td>    6.379</td> <td> 0.000</td> <td> 6857.386</td> <td> 1.29e+04</td>\n",
       "</tr>\n",
       "<tr>\n",
       "  <th>Type of Walls</th>                                <td>-2757.8893</td> <td>  988.685</td> <td>   -2.789</td> <td> 0.005</td> <td>-4695.757</td> <td> -820.022</td>\n",
       "</tr>\n",
       "<tr>\n",
       "  <th>House Floor Area</th>                             <td>   95.2364</td> <td>   17.533</td> <td>    5.432</td> <td> 0.000</td> <td>   60.871</td> <td>  129.602</td>\n",
       "</tr>\n",
       "<tr>\n",
       "  <th>Number of bedrooms</th>                           <td> 7925.6189</td> <td>  925.888</td> <td>    8.560</td> <td> 0.000</td> <td> 6110.836</td> <td> 9740.402</td>\n",
       "</tr>\n",
       "<tr>\n",
       "  <th>Tenure Status</th>                                <td> 5181.4960</td> <td>  624.415</td> <td>    8.298</td> <td> 0.000</td> <td> 3957.614</td> <td> 6405.378</td>\n",
       "</tr>\n",
       "<tr>\n",
       "  <th>Toilet Facilities</th>                            <td>-1145.5832</td> <td>  552.104</td> <td>   -2.075</td> <td> 0.038</td> <td>-2227.733</td> <td>  -63.434</td>\n",
       "</tr>\n",
       "<tr>\n",
       "  <th>Electricity</th>                                  <td>-1.562e+04</td> <td> 3090.040</td> <td>   -5.055</td> <td> 0.000</td> <td>-2.17e+04</td> <td>-9562.092</td>\n",
       "</tr>\n",
       "<tr>\n",
       "  <th>Main Source of Water Supply</th>                  <td>-1048.5617</td> <td>  332.765</td> <td>   -3.151</td> <td> 0.002</td> <td>-1700.797</td> <td> -396.327</td>\n",
       "</tr>\n",
       "<tr>\n",
       "  <th>Number of Television</th>                         <td> 1.415e+04</td> <td> 1742.407</td> <td>    8.124</td> <td> 0.000</td> <td> 1.07e+04</td> <td> 1.76e+04</td>\n",
       "</tr>\n",
       "<tr>\n",
       "  <th>Number of Refrigerator/Freezer</th>               <td> 2.606e+04</td> <td> 2079.989</td> <td>   12.527</td> <td> 0.000</td> <td>  2.2e+04</td> <td> 3.01e+04</td>\n",
       "</tr>\n",
       "<tr>\n",
       "  <th>Number of Washing Machine</th>                    <td> 2.451e+04</td> <td> 2226.796</td> <td>   11.008</td> <td> 0.000</td> <td> 2.01e+04</td> <td> 2.89e+04</td>\n",
       "</tr>\n",
       "<tr>\n",
       "  <th>Number of Airconditioner</th>                     <td> 6.664e+04</td> <td> 2477.460</td> <td>   26.900</td> <td> 0.000</td> <td> 6.18e+04</td> <td> 7.15e+04</td>\n",
       "</tr>\n",
       "<tr>\n",
       "  <th>Number of Car, Jeep, Van</th>                     <td> 8.284e+04</td> <td> 3049.832</td> <td>   27.161</td> <td> 0.000</td> <td> 7.69e+04</td> <td> 8.88e+04</td>\n",
       "</tr>\n",
       "<tr>\n",
       "  <th>Number of Landline/wireless telephones</th>       <td>  2.89e+04</td> <td> 3421.496</td> <td>    8.448</td> <td> 0.000</td> <td> 2.22e+04</td> <td> 3.56e+04</td>\n",
       "</tr>\n",
       "<tr>\n",
       "  <th>Number of Cellular phone</th>                     <td> 1.561e+04</td> <td>  734.345</td> <td>   21.256</td> <td> 0.000</td> <td> 1.42e+04</td> <td>  1.7e+04</td>\n",
       "</tr>\n",
       "<tr>\n",
       "  <th>Number of Personal Computer</th>                  <td> 4.928e+04</td> <td> 1484.924</td> <td>   33.184</td> <td> 0.000</td> <td> 4.64e+04</td> <td> 5.22e+04</td>\n",
       "</tr>\n",
       "<tr>\n",
       "  <th>Number of Stove with Oven/Gas Range</th>          <td> 2.616e+04</td> <td> 2675.046</td> <td>    9.778</td> <td> 0.000</td> <td> 2.09e+04</td> <td> 3.14e+04</td>\n",
       "</tr>\n",
       "<tr>\n",
       "  <th>Number of Motorized Banca</th>                    <td> 1.555e+04</td> <td> 6514.869</td> <td>    2.387</td> <td> 0.017</td> <td> 2778.442</td> <td> 2.83e+04</td>\n",
       "</tr>\n",
       "<tr>\n",
       "  <th>Number of Motorcycle/Tricycle</th>                <td> 4766.1227</td> <td> 1621.792</td> <td>    2.939</td> <td> 0.003</td> <td> 1587.336</td> <td> 7944.909</td>\n",
       "</tr>\n",
       "</table>\n",
       "<table class=\"simpletable\">\n",
       "<tr>\n",
       "  <th>Omnibus:</th>       <td>47946.609</td> <th>  Durbin-Watson:     </th>   <td>   1.994</td>   \n",
       "</tr>\n",
       "<tr>\n",
       "  <th>Prob(Omnibus):</th>  <td> 0.000</td>   <th>  Jarque-Bera (JB):  </th> <td>225324976.047</td>\n",
       "</tr>\n",
       "<tr>\n",
       "  <th>Skew:</th>           <td>10.309</td>   <th>  Prob(JB):          </th>   <td>    0.00</td>   \n",
       "</tr>\n",
       "<tr>\n",
       "  <th>Kurtosis:</th>       <td>433.741</td>  <th>  Cond. No.          </th>   <td>1.22e+06</td>   \n",
       "</tr>\n",
       "</table><br/><br/>Warnings:<br/>[1] Standard Errors assume that the covariance matrix of the errors is correctly specified.<br/>[2] The condition number is large, 1.22e+06. This might indicate that there are<br/>strong multicollinearity or other numerical problems."
      ],
      "text/plain": [
       "<class 'statsmodels.iolib.summary.Summary'>\n",
       "\"\"\"\n",
       "                              OLS Regression Results                              \n",
       "==================================================================================\n",
       "Dep. Variable:     Total Household Income   R-squared:                       0.758\n",
       "Model:                                OLS   Adj. R-squared:                  0.758\n",
       "Method:                     Least Squares   F-statistic:                     2760.\n",
       "Date:                    Wed, 24 Mar 2021   Prob (F-statistic):               0.00\n",
       "Time:                            23:32:25   Log-Likelihood:            -3.8572e+05\n",
       "No. Observations:                   29080   AIC:                         7.715e+05\n",
       "Df Residuals:                       29046   BIC:                         7.718e+05\n",
       "Df Model:                              33                                         \n",
       "Covariance Type:                nonrobust                                         \n",
       "================================================================================================================\n",
       "                                                   coef    std err          t      P>|t|      [0.025      0.975]\n",
       "----------------------------------------------------------------------------------------------------------------\n",
       "const                                         2.972e+04   6255.852      4.751      0.000    1.75e+04     4.2e+04\n",
       "Region                                         732.8288    190.843      3.840      0.000     358.767    1106.891\n",
       "Main Source of Income                        -4.227e+04   1269.564    -33.296      0.000   -4.48e+04   -3.98e+04\n",
       "Agricultural Household indicator              3457.5186   1343.062      2.574      0.010     825.056    6089.981\n",
       "Imputed House Rental Value                       1.5726      0.027     58.599      0.000       1.520       1.625\n",
       "Crop Farming and Gardening expenses              0.1302      0.020      6.412      0.000       0.090       0.170\n",
       "Total Income from Entrepreneurial Acitivites     0.8608      0.007    122.954      0.000       0.847       0.875\n",
       "Household Head Sex                           -1.551e+04   2360.551     -6.570      0.000   -2.01e+04   -1.09e+04\n",
       "Household Head Age                             197.8195     69.460      2.848      0.004      61.675     333.964\n",
       "Household Head Marital Status                -5874.1210   1677.804     -3.501      0.000   -9162.693   -2585.549\n",
       "Household Head Highest Grade Completed         889.2833    108.089      8.227      0.000     677.424    1101.143\n",
       "Household Head Job or Business Indicator      2.365e+04   2473.189      9.561      0.000    1.88e+04    2.85e+04\n",
       "Total Number of Family members                3841.8739    600.463      6.398      0.000    2664.938    5018.809\n",
       "Members with age 5 - 17 years old            -3416.7115    866.815     -3.942      0.000   -5115.708   -1717.715\n",
       "Total number of family members employed       3.127e+04    965.637     32.380      0.000    2.94e+04    3.32e+04\n",
       "Type of Building/House                        9898.8848   1551.749      6.379      0.000    6857.386    1.29e+04\n",
       "Type of Walls                                -2757.8893    988.685     -2.789      0.005   -4695.757    -820.022\n",
       "House Floor Area                                95.2364     17.533      5.432      0.000      60.871     129.602\n",
       "Number of bedrooms                            7925.6189    925.888      8.560      0.000    6110.836    9740.402\n",
       "Tenure Status                                 5181.4960    624.415      8.298      0.000    3957.614    6405.378\n",
       "Toilet Facilities                            -1145.5832    552.104     -2.075      0.038   -2227.733     -63.434\n",
       "Electricity                                  -1.562e+04   3090.040     -5.055      0.000   -2.17e+04   -9562.092\n",
       "Main Source of Water Supply                  -1048.5617    332.765     -3.151      0.002   -1700.797    -396.327\n",
       "Number of Television                          1.415e+04   1742.407      8.124      0.000    1.07e+04    1.76e+04\n",
       "Number of Refrigerator/Freezer                2.606e+04   2079.989     12.527      0.000     2.2e+04    3.01e+04\n",
       "Number of Washing Machine                     2.451e+04   2226.796     11.008      0.000    2.01e+04    2.89e+04\n",
       "Number of Airconditioner                      6.664e+04   2477.460     26.900      0.000    6.18e+04    7.15e+04\n",
       "Number of Car, Jeep, Van                      8.284e+04   3049.832     27.161      0.000    7.69e+04    8.88e+04\n",
       "Number of Landline/wireless telephones         2.89e+04   3421.496      8.448      0.000    2.22e+04    3.56e+04\n",
       "Number of Cellular phone                      1.561e+04    734.345     21.256      0.000    1.42e+04     1.7e+04\n",
       "Number of Personal Computer                   4.928e+04   1484.924     33.184      0.000    4.64e+04    5.22e+04\n",
       "Number of Stove with Oven/Gas Range           2.616e+04   2675.046      9.778      0.000    2.09e+04    3.14e+04\n",
       "Number of Motorized Banca                     1.555e+04   6514.869      2.387      0.017    2778.442    2.83e+04\n",
       "Number of Motorcycle/Tricycle                 4766.1227   1621.792      2.939      0.003    1587.336    7944.909\n",
       "==============================================================================\n",
       "Omnibus:                    47946.609   Durbin-Watson:                   1.994\n",
       "Prob(Omnibus):                  0.000   Jarque-Bera (JB):        225324976.047\n",
       "Skew:                          10.309   Prob(JB):                         0.00\n",
       "Kurtosis:                     433.741   Cond. No.                     1.22e+06\n",
       "==============================================================================\n",
       "\n",
       "Warnings:\n",
       "[1] Standard Errors assume that the covariance matrix of the errors is correctly specified.\n",
       "[2] The condition number is large, 1.22e+06. This might indicate that there are\n",
       "strong multicollinearity or other numerical problems.\n",
       "\"\"\""
      ]
     },
     "execution_count": 227,
     "metadata": {},
     "output_type": "execute_result"
    }
   ],
   "source": [
    "X_train = X_train.drop('Number of CD/VCD/DVD', axis = 1)\n",
    "\n",
    "x = sm.add_constant(X_train)\n",
    "model = sm.OLS(y_train, x).fit()\n",
    "model.summary()"
   ]
  },
  {
   "cell_type": "markdown",
   "metadata": {},
   "source": [
    "#### Analise do erro da regressão"
   ]
  },
  {
   "cell_type": "code",
   "execution_count": 228,
   "metadata": {},
   "outputs": [
    {
     "data": {
      "text/plain": [
       "(29080, 33)"
      ]
     },
     "execution_count": 228,
     "metadata": {},
     "output_type": "execute_result"
    }
   ],
   "source": [
    "X_train.shape"
   ]
  },
  {
   "cell_type": "code",
   "execution_count": 229,
   "metadata": {},
   "outputs": [
    {
     "data": {
      "text/plain": [
       "40393    -45378.218761\n",
       "40353    -44449.416483\n",
       "3092     136314.324282\n",
       "25209   -198187.640717\n",
       "16564     -8599.360479\n",
       "             ...      \n",
       "31597     53018.215994\n",
       "41281    -26637.670286\n",
       "20450     37666.019840\n",
       "931      -22869.036845\n",
       "34752   -101717.166555\n",
       "Length: 29080, dtype: float64"
      ]
     },
     "execution_count": 229,
     "metadata": {},
     "output_type": "execute_result"
    }
   ],
   "source": [
    "model.resid"
   ]
  },
  {
   "cell_type": "markdown",
   "metadata": {},
   "source": [
    "#### 1. A média do erro deve ser zero"
   ]
  },
  {
   "cell_type": "code",
   "execution_count": 230,
   "metadata": {},
   "outputs": [
    {
     "data": {
      "text/plain": [
       "1.1818178822420937e-08"
      ]
     },
     "execution_count": 230,
     "metadata": {},
     "output_type": "execute_result"
    }
   ],
   "source": [
    "sum(model.resid.values) / len(model.resid.values)"
   ]
  },
  {
   "cell_type": "markdown",
   "metadata": {},
   "source": [
    "#### 2. A distribuição dos erros deve seguir uma distribuição normal"
   ]
  },
  {
   "cell_type": "code",
   "execution_count": 231,
   "metadata": {},
   "outputs": [
    {
     "data": {
      "text/plain": [
       "<matplotlib.axes._subplots.AxesSubplot at 0x2b5dfebb648>"
      ]
     },
     "execution_count": 231,
     "metadata": {},
     "output_type": "execute_result"
    },
    {
     "data": {
      "image/png": "[encoded data removed]",
      "text/plain": [
       "<Figure size 864x720 with 1 Axes>"
      ]
     },
     "metadata": {},
     "output_type": "display_data"
    }
   ],
   "source": [
    "plt.figure(figsize=(12,10))\n",
    "sns.histplot(model.resid, kde=True)"
   ]
  },
  {
   "cell_type": "code",
   "execution_count": 232,
   "metadata": {},
   "outputs": [
    {
     "name": "stdout",
     "output_type": "stream",
     "text": [
      "test_stat: 47946.60931328455\n",
      "p_value: 0.0\n",
      "Rejeitar H0, ou seja, o nosso conjunto de dados NÃO segue uma distribuição normal.\n"
     ]
    }
   ],
   "source": [
    "sign = 0.05\n",
    "conf = 1 - sign # 0.95\n",
    "\n",
    "test_stat, p_value = normaltest(model.resid)\n",
    "print(f'test_stat: {test_stat}\\np_value: {p_value}')\n",
    "\n",
    "if (p_value <= sign):\n",
    "    print('Rejeitar H0, ou seja, o nosso conjunto de dados NÃO segue uma distribuição normal.')\n",
    "else:\n",
    "    print('Aceitar H0, ou seja, o nosso conjunto de dados segue uma distribuição normal.')"
   ]
  },
  {
   "cell_type": "markdown",
   "metadata": {},
   "source": [
    "#### 3. Erro deve ser descorrelacionado"
   ]
  },
  {
   "cell_type": "code",
   "execution_count": 234,
   "metadata": {},
   "outputs": [
    {
     "data": {
      "text/plain": [
       "<matplotlib.collections.PathCollection at 0x2b5e8091f48>"
      ]
     },
     "execution_count": 234,
     "metadata": {},
     "output_type": "execute_result"
    },
    {
     "data": {
      "image/png": "[encoded data removed]",
      "text/plain": [
       "<Figure size 864x720 with 1 Axes>"
      ]
     },
     "metadata": {},
     "output_type": "display_data"
    }
   ],
   "source": [
    "plt.figure(figsize=(12,10))\n",
    "plt.scatter(y_train, model.resid)"
   ]
  },
  {
   "cell_type": "code",
   "execution_count": null,
   "metadata": {},
   "outputs": [],
   "source": []
  }
 ],
 "metadata": {
  "kernelspec": {
   "display_name": "Python 3",
   "language": "python",
   "name": "python3"
  },
  "language_info": {
   "codemirror_mode": {
    "name": "ipython",
    "version": 3
   },
   "file_extension": ".py",
   "mimetype": "text/x-python",
   "name": "python",
   "nbconvert_exporter": "python",
   "pygments_lexer": "ipython3",
   "version": "3.8.5"
  }
 },
 "nbformat": 4,
 "nbformat_minor": 2
}
